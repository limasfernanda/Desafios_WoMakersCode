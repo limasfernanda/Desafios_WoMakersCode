{
  "nbformat": 4,
  "nbformat_minor": 0,
  "metadata": {
    "colab": {
      "provenance": []
    },
    "kernelspec": {
      "name": "python3",
      "display_name": "Python 3"
    },
    "language_info": {
      "name": "python"
    }
  },
  "cells": [
    {
      "cell_type": "markdown",
      "source": [
        "DESAFIO 1\n",
        "\n",
        "Crie um programa que solicita ao usuário que insira três notas (valores de 0 a 10) e, em seguida, calcule e exiba a média dessas notas.\n",
        "\n",
        "Além disso, informe ao usuário se ele foi aprovado ou reprovado com base na média das notas, considerando a média mínima de aprovação como 6."
      ],
      "metadata": {
        "id": "sdBUCCdzeef3"
      }
    },
    {
      "cell_type": "code",
      "source": [
        "import random\n",
        "i=3 #três notas aleatórias\n",
        "x=0\n",
        "aluno=[]\n",
        "nota=0\n",
        "\n",
        "while x<i:\n",
        "    prova= random.randint(0,10)\n",
        "    x+=1\n",
        "    aluno.append(prova)\n",
        "\n",
        "for a in range(0,i):\n",
        "    nota+=aluno[a]\n",
        "\n",
        "media=nota/i\n",
        "\n",
        "if media>=6:\n",
        "    print(f\"O aluno foi aprovado! Média {media:.1f}\")\n",
        "else:\n",
        "    print(f\"O aluno foi reprovado! Média {media:.1f}\")"
      ],
      "metadata": {
        "id": "j16D0tJ4evJ-",
        "colab": {
          "base_uri": "https://localhost:8080/"
        },
        "outputId": "f059fc09-a297-4109-8385-c00708cddb6b"
      },
      "execution_count": null,
      "outputs": [
        {
          "output_type": "stream",
          "name": "stdout",
          "text": [
            "O aluno foi aprovado! Média 6.3\n"
          ]
        }
      ]
    },
    {
      "cell_type": "markdown",
      "source": [
        "DESAFIO 2\n",
        "\n",
        "Crie um programa que solicita ao usuário que insira um número inteiro e, em seguida, verifica se o número é par ou ímpar.\n",
        "\n",
        "O programa deve exibir uma mensagem indicando se o número é par ou ímpar."
      ],
      "metadata": {
        "id": "ClKDF5t4gEyu"
      }
    },
    {
      "cell_type": "code",
      "source": [
        "number=int(input(\"Insira aqui um número inteiro:\"))\n",
        "if (number%2)==0:\n",
        "    print(\"Este número é par.\")\n",
        "else:\n",
        "    print(\"Este número é ímpar.\")"
      ],
      "metadata": {
        "id": "GWkFk92kfuiO",
        "colab": {
          "base_uri": "https://localhost:8080/"
        },
        "outputId": "8aa4cdcb-343e-42a0-842b-3de6692c8c04"
      },
      "execution_count": null,
      "outputs": [
        {
          "output_type": "stream",
          "name": "stdout",
          "text": [
            "Insira aqui um número inteiro:52\n",
            "Este número é par.\n"
          ]
        }
      ]
    },
    {
      "cell_type": "markdown",
      "source": [
        "DESAFIO 3\n",
        "\n",
        "Crie um programa que verifica se uma palavra fornecida pelo usuário é um palíndromo ou não.\n",
        "\n",
        "(Um palíndromo é uma palavra que é lida da mesma forma tanto da esquerda para a direita quanto da direita para a esquerda.)"
      ],
      "metadata": {
        "id": "MmsZIAj-e0NX"
      }
    },
    {
      "cell_type": "code",
      "source": [
        "word=[]\n",
        "word=input(\"Insira uma palavra:\")\n",
        "\n",
        "palar=word.lower()\n",
        "worde=palar.replace(\" \",\"\")\n",
        "inverso=worde[::-1]\n",
        "\n",
        "if inverso==worde:\n",
        "    print(f\"A palavra é um palímodro, pois '{word}' é igual a '{inverso}'\")\n",
        "else:\n",
        "    print(f\"A palavra não é um palímodro, pois '{word}' não é igual a '{inverso}'\")\n",
        "\n",
        "\n",
        "#print(f\"{inverso in word}\") Outra forma de associação"
      ],
      "metadata": {
        "id": "PobFqQqafLNj",
        "colab": {
          "base_uri": "https://localhost:8080/"
        },
        "outputId": "c81b9936-3411-4195-f741-ba7162038016"
      },
      "execution_count": null,
      "outputs": [
        {
          "output_type": "stream",
          "name": "stdout",
          "text": [
            "Insira uma palavra:subi no onibus\n",
            "A palavra é um palímodro, pois 'subi no onibus' é igual a 'subinoonibus'\n"
          ]
        }
      ]
    },
    {
      "cell_type": "markdown",
      "source": [
        "DESAFIO 4\n",
        "\n",
        "Crie um programa que solicita ao usuário que insira um número inteiro positivo e, em seguida, calcula e exibe o fatorial desse número.\n",
        "\n",
        "(O fatorial de um número é o produto de todos os números inteiros positivos de 1 até o próprio número.)"
      ],
      "metadata": {
        "id": "9WPRqUfIgLQK"
      }
    },
    {
      "cell_type": "code",
      "source": [
        "valor=int(input(\"Insira aqui um número inteiro:\"))\n",
        "fator=1\n",
        "for i in range(1,valor+1):\n",
        "    fator *= i\n",
        "\n",
        "print(f\"O fatorial de {valor}: \\n{valor}! = {fator} \")"
      ],
      "metadata": {
        "id": "B3VE36bRgJWu"
      },
      "execution_count": null,
      "outputs": []
    },
    {
      "cell_type": "markdown",
      "source": [
        "DESAFIO 5\n",
        "\n",
        "Crie um programa que permita ao usuário gerenciar suas tarefas diárias. O programa deve oferecer as seguintes funcionalidades:\n",
        "\n",
        "*   Adicionar uma nova tarefa;\n",
        "*   Visualizar todas as tarefas;\n",
        "*   Marcar uma tarefa como concluída;\n",
        "*   Remover uma tarefa;\n",
        "*   Sair do programa.\n",
        "\n",
        "(Você pode implementar essas funcionalidades usando listas para armazenar as tarefas e estruturas de controle como loops e condicionais para interagir com o usuário.)"
      ],
      "metadata": {
        "id": "dLmeFEi2fO9f"
      }
    },
    {
      "cell_type": "code",
      "source": [
        "  # Define um dicionário vazio\n",
        "antigo={}\n",
        "novo={}\n",
        "controlador=0\n",
        "\n",
        "mensagem= f\"\"\"\n",
        "    ________________MENU__________________\n",
        "\n",
        "    Bem vindo ao gerenciador!\n",
        "    O que gostaria de fazer hoje?\n",
        "\n",
        "    1- Adicionar uma nova tarefa\n",
        "    2- Visualizar todas as tarefas\n",
        "    3- Marcar uma tarefa como concluída\n",
        "    4- Remover uma tarefa\n",
        "    0- Sair do programa.\n",
        "\n",
        "    ______________________________________\n",
        "\n",
        "    \"\"\"\n",
        "print(mensagem)\n",
        "\n",
        "while True:\n",
        "\n",
        "\n",
        "    entrada= int(input(\"\\nDigite um número para completar a ação:\"))\n",
        "\n",
        "    if entrada==1:\n",
        "        organizador = {}\n",
        "        controlador+=1\n",
        "        tarefa = input(\"\\nNome da tarefa: \")\n",
        "        if tarefa in novo.keys():\n",
        "            print(\"Já existe uma tarefa adicionada com esse nome.\")\n",
        "        else:\n",
        "            urgencia= int(input(\"\\nUrgência (valores de 1 a 5): \"))\n",
        "\n",
        "            organizador['Urgência']=urgencia\n",
        "            organizador['Concluído'] = \"não\"  # Insere o conjunto no dicionário\n",
        "            antigo={f'{tarefa}':organizador}\n",
        "            novo=novo|antigo\n",
        "\n",
        "\n",
        "    elif entrada==2:\n",
        "        if novo== {}:\n",
        "            print(\"\\nAinda não há tarefas para visualizar, adicione uma nova tarefa!\")\n",
        "        else:\n",
        "            print(novo)\n",
        "\n",
        "\n",
        "    elif entrada==3:\n",
        "        if novo=={}:\n",
        "            print(\"\\nAinda não há tarefas para marcar como concluída, adicione uma nova tarefa!\")\n",
        "        else:\n",
        "            concluida = input(\"\\nNome da tarefa concluída: \")\n",
        "            novo[concluida].update({'Concluído': 'sim'})\n",
        "\n",
        "\n",
        "    elif entrada==4:\n",
        "        if novo=={}:\n",
        "            print(\"\\nAinda não há tarefas para excluir\")\n",
        "        else:\n",
        "            tarefa_ex = input(\"\\nNome da tarefa para excluir: \")\n",
        "            if tarefa_ex in novo:\n",
        "                del novo[tarefa_ex]\n",
        "            else:\n",
        "                (\"\\nNão existe tarefa com esse nome.\")\n",
        "\n",
        "\n",
        "    elif entrada==0:\n",
        "        print(\"\\nObrigada pela visita, tenha um bom dia!\")\n",
        "        break\n",
        "    else:\n",
        "        print(\"\\nPor favor digite uma opção válida\")"
      ],
      "metadata": {
        "id": "8oExqSgagGzn",
        "colab": {
          "base_uri": "https://localhost:8080/"
        },
        "outputId": "bc990818-5644-4a59-a740-8617f37fa599"
      },
      "execution_count": null,
      "outputs": [
        {
          "output_type": "stream",
          "name": "stdout",
          "text": [
            "\n",
            "  ________________MENU__________________\n",
            "\n",
            "  Bem vindo ao gerenciador!\n",
            "  O que gostaria de fazer hoje?\n",
            "\n",
            "  1- Adicionar uma nova tarefa\n",
            "  2- Visualizar todas as tarefas\n",
            "  3- Marcar uma tarefa como concluída\n",
            "  4- Remover uma tarefa\n",
            "  0- Sair do programa.\n",
            "\n",
            "  ______________________________________\n",
            "\n",
            "  \n",
            "\n",
            "Digite um número para completar a ação:2\n",
            "\n",
            "Ainda não há tarefas para visualizar, adicione uma nova tarefa!\n",
            "\n",
            "Digite um número para completar a ação:3\n",
            "\n",
            "Ainda não há tarefas para marcar como concluída, adicione uma nova tarefa!\n",
            "\n",
            "Digite um número para completar a ação:4\n",
            "\n",
            "Ainda não há tarefas para excluir\n",
            "\n",
            "Digite um número para completar a ação:1\n",
            "\n",
            "Nome da tarefa: Plano\n",
            "\n",
            "Urgência (valores de 1 a 5): 3\n",
            "\n",
            "Digite um número para completar a ação:2\n",
            "{'Plano': {'Urgência': 3, 'Concluído': 'não'}}\n",
            "\n",
            "Digite um número para completar a ação:1\n",
            "\n",
            "Nome da tarefa: Ação\n",
            "\n",
            "Urgência (valores de 1 a 5): 2\n",
            "\n",
            "Digite um número para completar a ação:2\n",
            "{'Plano': {'Urgência': 3, 'Concluído': 'não'}, 'Ação': {'Urgência': 2, 'Concluído': 'não'}}\n",
            "\n",
            "Digite um número para completar a ação:3\n",
            "\n",
            "Nome da tarefa concluída: Plano\n",
            "\n",
            "Digite um número para completar a ação:2\n",
            "{'Plano': {'Urgência': 3, 'Concluído': 'sim'}, 'Ação': {'Urgência': 2, 'Concluído': 'não'}}\n",
            "\n",
            "Digite um número para completar a ação:4\n",
            "\n",
            "Nome da tarefa para excluir: Ação\n",
            "\n",
            "Digite um número para completar a ação:2\n",
            "{'Plano': {'Urgência': 3, 'Concluído': 'sim'}}\n",
            "\n",
            "Digite um número para completar a ação:0\n",
            "\n",
            "Obrigada pela visita, tenha um bom dia!\n"
          ]
        }
      ]
    }
  ]
}