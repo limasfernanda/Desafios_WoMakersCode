{
 "cells": [
  {
   "cell_type": "markdown",
   "metadata": {},
   "source": [
    "# Desafio - Python para dados \n",
    "\n",
    "Você é uma pesquisadora que está tentando entender melhor qual o impacto do estilo de vida de uma pessoa na sua qualidade de sono, por isso fez a coleta dos dados de sobre 373 pessoas, onde foram recolhidas 12 características para cada uma delas. Por competência a sua pesquisa foi bem controlada e você não tem dados faltosos na sua base. Chegou o momento de você fazer sua análise e responder algumas perguntas.\n",
    "\n",
    "\n"
   ]
  },
  {
   "cell_type": "code",
   "execution_count": 1,
   "metadata": {},
   "outputs": [],
   "source": [
    "import numpy as np\n",
    "import pandas as pd\n",
    "import matplotlib.pyplot as plt"
   ]
  },
  {
   "cell_type": "code",
   "execution_count": 2,
   "metadata": {},
   "outputs": [
    {
     "data": {
      "text/html": [
       "<div>\n",
       "<style scoped>\n",
       "    .dataframe tbody tr th:only-of-type {\n",
       "        vertical-align: middle;\n",
       "    }\n",
       "\n",
       "    .dataframe tbody tr th {\n",
       "        vertical-align: top;\n",
       "    }\n",
       "\n",
       "    .dataframe thead th {\n",
       "        text-align: right;\n",
       "    }\n",
       "</style>\n",
       "<table border=\"1\" class=\"dataframe\">\n",
       "  <thead>\n",
       "    <tr style=\"text-align: right;\">\n",
       "      <th></th>\n",
       "      <th>ID</th>\n",
       "      <th>Gênero</th>\n",
       "      <th>Idade</th>\n",
       "      <th>Ocupação</th>\n",
       "      <th>Duração do sono</th>\n",
       "      <th>Qualidade do sono</th>\n",
       "      <th>Nível de atividade física</th>\n",
       "      <th>Nível de estresse</th>\n",
       "      <th>Categoria BMI</th>\n",
       "      <th>Pressão sanguíneaaaa</th>\n",
       "      <th>Frequência cardíaca</th>\n",
       "      <th>Passos diários</th>\n",
       "      <th>Distúrbio do sono</th>\n",
       "    </tr>\n",
       "  </thead>\n",
       "  <tbody>\n",
       "    <tr>\n",
       "      <th>0</th>\n",
       "      <td>1</td>\n",
       "      <td>Homem</td>\n",
       "      <td>27</td>\n",
       "      <td>Eng. de Software</td>\n",
       "      <td>6.1</td>\n",
       "      <td>6</td>\n",
       "      <td>42</td>\n",
       "      <td>6</td>\n",
       "      <td>Sobrepeso</td>\n",
       "      <td>126/83</td>\n",
       "      <td>77</td>\n",
       "      <td>4200</td>\n",
       "      <td>Nenhuma</td>\n",
       "    </tr>\n",
       "    <tr>\n",
       "      <th>1</th>\n",
       "      <td>2</td>\n",
       "      <td>Homem</td>\n",
       "      <td>28</td>\n",
       "      <td>Médico(a)</td>\n",
       "      <td>6.2</td>\n",
       "      <td>6</td>\n",
       "      <td>60</td>\n",
       "      <td>8</td>\n",
       "      <td>Normal</td>\n",
       "      <td>125/80</td>\n",
       "      <td>75</td>\n",
       "      <td>10000</td>\n",
       "      <td>Nenhuma</td>\n",
       "    </tr>\n",
       "    <tr>\n",
       "      <th>2</th>\n",
       "      <td>3</td>\n",
       "      <td>Homem</td>\n",
       "      <td>28</td>\n",
       "      <td>Médico(a)</td>\n",
       "      <td>6.2</td>\n",
       "      <td>6</td>\n",
       "      <td>60</td>\n",
       "      <td>8</td>\n",
       "      <td>Normal</td>\n",
       "      <td>125/80</td>\n",
       "      <td>75</td>\n",
       "      <td>10000</td>\n",
       "      <td>Nenhuma</td>\n",
       "    </tr>\n",
       "  </tbody>\n",
       "</table>\n",
       "</div>"
      ],
      "text/plain": [
       "   ID Gênero  Idade          Ocupação  Duração do sono  Qualidade do sono  \\\n",
       "0   1  Homem     27  Eng. de Software              6.1                  6   \n",
       "1   2  Homem     28         Médico(a)              6.2                  6   \n",
       "2   3  Homem     28         Médico(a)              6.2                  6   \n",
       "\n",
       "   Nível de atividade física  Nível de estresse Categoria BMI  \\\n",
       "0                         42                  6     Sobrepeso   \n",
       "1                         60                  8        Normal   \n",
       "2                         60                  8        Normal   \n",
       "\n",
       "  Pressão sanguíneaaaa  Frequência cardíaca  Passos diários Distúrbio do sono  \n",
       "0               126/83                   77            4200           Nenhuma  \n",
       "1               125/80                   75           10000           Nenhuma  \n",
       "2               125/80                   75           10000           Nenhuma  "
      ]
     },
     "execution_count": 2,
     "metadata": {},
     "output_type": "execute_result"
    }
   ],
   "source": [
    "df= pd.read_csv(\"saude_do_sono_estilo_vida.csv\")\n",
    "df.head(3)"
   ]
  },
  {
   "cell_type": "markdown",
   "metadata": {},
   "source": [
    "1. Ao visualizar a base você percebeu que seria melhor alterar o nome de\n",
    "algumas colunas. Mude o ‘ID’ para ‘Identificador’, corrija o nome da\n",
    "coluna que indica a pressão sanguínea, mude a coluna ‘Ocupação’ para\n",
    "‘Profissão’, a coluna ‘Categoria BMI’ está em parte em inglês, substitua\n",
    "para ‘Categoria IMC’.\n",
    "\n"
   ]
  },
  {
   "cell_type": "code",
   "execution_count": 3,
   "metadata": {},
   "outputs": [
    {
     "data": {
      "text/plain": [
       "Index(['Identificador', 'Gênero', 'Idade', 'Profissão', 'Duração do sono',\n",
       "       'Qualidade do sono', 'Nível de atividade física', 'Nível de estresse',\n",
       "       'Categoria IMC', 'Pressão sanguínea', 'Frequência cardíaca',\n",
       "       'Passos diários', 'Distúrbio do sono'],\n",
       "      dtype='object')"
      ]
     },
     "execution_count": 3,
     "metadata": {},
     "output_type": "execute_result"
    }
   ],
   "source": [
    "rename_colunas={'ID':'Identificador',\n",
    "                 'Pressão sanguíneaaaa':'Pressão sanguínea',\n",
    "                 'Ocupação':'Profissão',\n",
    "                 'Categoria BMI':'Categoria IMC'}\n",
    "\n",
    "df.rename(columns=rename_colunas, inplace=True)\n",
    "df.columns"
   ]
  },
  {
   "cell_type": "markdown",
   "metadata": {},
   "source": [
    "\n",
    "2. Qual é a média, a moda e a mediana de horas de sono para cada uma\n",
    "das profissões? [‘mean’, np.median, pd.Series.mod]"
   ]
  },
  {
   "cell_type": "code",
   "execution_count": 4,
   "metadata": {},
   "outputs": [
    {
     "data": {
      "text/html": [
       "<div>\n",
       "<style scoped>\n",
       "    .dataframe tbody tr th:only-of-type {\n",
       "        vertical-align: middle;\n",
       "    }\n",
       "\n",
       "    .dataframe tbody tr th {\n",
       "        vertical-align: top;\n",
       "    }\n",
       "\n",
       "    .dataframe thead th {\n",
       "        text-align: right;\n",
       "    }\n",
       "</style>\n",
       "<table border=\"1\" class=\"dataframe\">\n",
       "  <thead>\n",
       "    <tr style=\"text-align: right;\">\n",
       "      <th></th>\n",
       "      <th>Duração do sono - Média</th>\n",
       "      <th>Mediana</th>\n",
       "      <th>Moda</th>\n",
       "    </tr>\n",
       "    <tr>\n",
       "      <th>Profissão</th>\n",
       "      <th></th>\n",
       "      <th></th>\n",
       "      <th></th>\n",
       "    </tr>\n",
       "  </thead>\n",
       "  <tbody>\n",
       "    <tr>\n",
       "      <th>Advogado(a)</th>\n",
       "      <td>7.410638</td>\n",
       "      <td>7.3</td>\n",
       "      <td>7.2</td>\n",
       "    </tr>\n",
       "    <tr>\n",
       "      <th>Cientista</th>\n",
       "      <td>6.000000</td>\n",
       "      <td>6.0</td>\n",
       "      <td>5.8</td>\n",
       "    </tr>\n",
       "    <tr>\n",
       "      <th>Contador(a)</th>\n",
       "      <td>7.113514</td>\n",
       "      <td>7.2</td>\n",
       "      <td>7.2</td>\n",
       "    </tr>\n",
       "    <tr>\n",
       "      <th>Enfermeiro(a)</th>\n",
       "      <td>7.048611</td>\n",
       "      <td>6.5</td>\n",
       "      <td>6.1</td>\n",
       "    </tr>\n",
       "    <tr>\n",
       "      <th>Eng. de Software</th>\n",
       "      <td>6.750000</td>\n",
       "      <td>6.8</td>\n",
       "      <td>7.5</td>\n",
       "    </tr>\n",
       "    <tr>\n",
       "      <th>Engenheiro(a)</th>\n",
       "      <td>7.987302</td>\n",
       "      <td>8.3</td>\n",
       "      <td>8.4</td>\n",
       "    </tr>\n",
       "    <tr>\n",
       "      <th>Gerente</th>\n",
       "      <td>6.900000</td>\n",
       "      <td>6.9</td>\n",
       "      <td>6.9</td>\n",
       "    </tr>\n",
       "    <tr>\n",
       "      <th>Médico(a)</th>\n",
       "      <td>6.970423</td>\n",
       "      <td>7.6</td>\n",
       "      <td>6.0</td>\n",
       "    </tr>\n",
       "    <tr>\n",
       "      <th>Pessoa Vendendora</th>\n",
       "      <td>6.403125</td>\n",
       "      <td>6.4</td>\n",
       "      <td>6.5</td>\n",
       "    </tr>\n",
       "    <tr>\n",
       "      <th>Professor(a)</th>\n",
       "      <td>6.690000</td>\n",
       "      <td>6.6</td>\n",
       "      <td>6.6</td>\n",
       "    </tr>\n",
       "    <tr>\n",
       "      <th>Representante de Vendas</th>\n",
       "      <td>5.900000</td>\n",
       "      <td>5.9</td>\n",
       "      <td>5.9</td>\n",
       "    </tr>\n",
       "  </tbody>\n",
       "</table>\n",
       "</div>"
      ],
      "text/plain": [
       "                         Duração do sono - Média  Mediana  Moda\n",
       "Profissão                                                      \n",
       "Advogado(a)                             7.410638      7.3   7.2\n",
       "Cientista                               6.000000      6.0   5.8\n",
       "Contador(a)                             7.113514      7.2   7.2\n",
       "Enfermeiro(a)                           7.048611      6.5   6.1\n",
       "Eng. de Software                        6.750000      6.8   7.5\n",
       "Engenheiro(a)                           7.987302      8.3   8.4\n",
       "Gerente                                 6.900000      6.9   6.9\n",
       "Médico(a)                               6.970423      7.6   6.0\n",
       "Pessoa Vendendora                       6.403125      6.4   6.5\n",
       "Professor(a)                            6.690000      6.6   6.6\n",
       "Representante de Vendas                 5.900000      5.9   5.9"
      ]
     },
     "execution_count": 4,
     "metadata": {},
     "output_type": "execute_result"
    }
   ],
   "source": [
    "df_media_sono=df['Duração do sono'].groupby(df['Profissão']).mean()\n",
    "\n",
    "df_mediana_sono= df.groupby('Profissão')['Duração do sono'].median()\n",
    "\n",
    "def modag(grupo):\n",
    "    moda = grupo.mode()\n",
    "    return moda[0]\n",
    "df_moda_sono = df.groupby('Profissão')['Duração do sono'].agg(modag)\n",
    "\n",
    "df_media_sono= df_media_sono.rename(index='Duração do sono - Média')\n",
    "df_mediana_sono= df_mediana_sono.rename(index='Mediana')\n",
    "df_moda_sono= df_moda_sono.rename(index='Moda')\n",
    "\n",
    "df_sono=pd.concat([df_media_sono,df_mediana_sono,df_moda_sono],axis=1)\n",
    "df_sono"
   ]
  },
  {
   "cell_type": "markdown",
   "metadata": {},
   "source": [
    "3. Das pessoas que atuam com engenharia de software qual a\n",
    "porcentagem de obesos?\n"
   ]
  },
  {
   "cell_type": "code",
   "execution_count": 5,
   "metadata": {},
   "outputs": [
    {
     "data": {
      "text/html": [
       "<div>\n",
       "<style scoped>\n",
       "    .dataframe tbody tr th:only-of-type {\n",
       "        vertical-align: middle;\n",
       "    }\n",
       "\n",
       "    .dataframe tbody tr th {\n",
       "        vertical-align: top;\n",
       "    }\n",
       "\n",
       "    .dataframe thead th {\n",
       "        text-align: right;\n",
       "    }\n",
       "</style>\n",
       "<table border=\"1\" class=\"dataframe\">\n",
       "  <thead>\n",
       "    <tr style=\"text-align: right;\">\n",
       "      <th></th>\n",
       "      <th>Porcentagem</th>\n",
       "    </tr>\n",
       "    <tr>\n",
       "      <th>Categoria IMC</th>\n",
       "      <th></th>\n",
       "    </tr>\n",
       "  </thead>\n",
       "  <tbody>\n",
       "    <tr>\n",
       "      <th>Peso normal</th>\n",
       "      <td>50.0</td>\n",
       "    </tr>\n",
       "    <tr>\n",
       "      <th>Sobrepeso</th>\n",
       "      <td>25.0</td>\n",
       "    </tr>\n",
       "    <tr>\n",
       "      <th>Obesidade</th>\n",
       "      <td>25.0</td>\n",
       "    </tr>\n",
       "  </tbody>\n",
       "</table>\n",
       "</div>"
      ],
      "text/plain": [
       "               Porcentagem\n",
       "Categoria IMC             \n",
       "Peso normal           50.0\n",
       "Sobrepeso             25.0\n",
       "Obesidade             25.0"
      ]
     },
     "execution_count": 5,
     "metadata": {},
     "output_type": "execute_result"
    }
   ],
   "source": [
    "df_eng_soft=df[df[\"Profissão\"]==\"Eng. de Software\"]\n",
    "df_porcentagem_obesos= df_eng_soft['Categoria IMC'].value_counts(normalize=True)\n",
    "df_porcentagem_obesos=pd.DataFrame(df_porcentagem_obesos.rename(\"Porcentagem\")*100)\n",
    "df_porcentagem_obesos"
   ]
  },
  {
   "cell_type": "markdown",
   "metadata": {},
   "source": [
    "4. De acordo com os dados, advogar ou ser representante de vendas faz\n",
    "você dormir menos? (Use o método ‘isin’, considere a média)\n"
   ]
  },
  {
   "cell_type": "code",
   "execution_count": 6,
   "metadata": {},
   "outputs": [
    {
     "data": {
      "text/html": [
       "<div>\n",
       "<style scoped>\n",
       "    .dataframe tbody tr th:only-of-type {\n",
       "        vertical-align: middle;\n",
       "    }\n",
       "\n",
       "    .dataframe tbody tr th {\n",
       "        vertical-align: top;\n",
       "    }\n",
       "\n",
       "    .dataframe thead th {\n",
       "        text-align: right;\n",
       "    }\n",
       "</style>\n",
       "<table border=\"1\" class=\"dataframe\">\n",
       "  <thead>\n",
       "    <tr style=\"text-align: right;\">\n",
       "      <th></th>\n",
       "      <th>Média de sono</th>\n",
       "    </tr>\n",
       "    <tr>\n",
       "      <th>Profissão</th>\n",
       "      <th></th>\n",
       "    </tr>\n",
       "  </thead>\n",
       "  <tbody>\n",
       "    <tr>\n",
       "      <th>Advogado(a)</th>\n",
       "      <td>7.410638</td>\n",
       "    </tr>\n",
       "    <tr>\n",
       "      <th>Representante de Vendas</th>\n",
       "      <td>5.900000</td>\n",
       "    </tr>\n",
       "    <tr>\n",
       "      <th>Outras</th>\n",
       "      <td>7.136119</td>\n",
       "    </tr>\n",
       "  </tbody>\n",
       "</table>\n",
       "</div>"
      ],
      "text/plain": [
       "                         Média de sono\n",
       "Profissão                             \n",
       "Advogado(a)                   7.410638\n",
       "Representante de Vendas       5.900000\n",
       "Outras                        7.136119"
      ]
     },
     "execution_count": 6,
     "metadata": {},
     "output_type": "execute_result"
    }
   ],
   "source": [
    "\n",
    "df_dorme_menos= df[df['Profissão'].isin([\"Advogado(a)\",\"Representante de Vendas\"])].groupby(\"Profissão\")[\"Duração do sono\"].mean()\n",
    "\n",
    "df_outros=df[np.where(df['Profissão']!=('Advogado(a)'and 'Representante de Vendas'),True, False)]\n",
    "media_sono_outros=df_outros[\"Duração do sono\"].mean()\n",
    "\n",
    "dt=pd.DataFrame(df_dorme_menos).rename(columns={'Duração do sono': 'Média de sono'}).reset_index()\n",
    "dt_sono_outros=pd.DataFrame({'Profissão': ['Outras'], 'Média de sono': [media_sono_outros]})\n",
    "dt = pd.concat([dt, dt_sono_outros])\n",
    "\n",
    "dt.set_index([\"Profissão\"])"
   ]
  },
  {
   "cell_type": "markdown",
   "metadata": {},
   "source": [
    "5. Entre quem fez enfermagem e quem fez medicina, quem tem menos\n",
    "horas de sono? (Use o método ‘isin’, considere a média)\n"
   ]
  },
  {
   "cell_type": "code",
   "execution_count": 7,
   "metadata": {},
   "outputs": [
    {
     "data": {
      "text/html": [
       "<div>\n",
       "<style scoped>\n",
       "    .dataframe tbody tr th:only-of-type {\n",
       "        vertical-align: middle;\n",
       "    }\n",
       "\n",
       "    .dataframe tbody tr th {\n",
       "        vertical-align: top;\n",
       "    }\n",
       "\n",
       "    .dataframe thead th {\n",
       "        text-align: right;\n",
       "    }\n",
       "</style>\n",
       "<table border=\"1\" class=\"dataframe\">\n",
       "  <thead>\n",
       "    <tr style=\"text-align: right;\">\n",
       "      <th></th>\n",
       "      <th>Média do sono</th>\n",
       "    </tr>\n",
       "    <tr>\n",
       "      <th>Profissão</th>\n",
       "      <th></th>\n",
       "    </tr>\n",
       "  </thead>\n",
       "  <tbody>\n",
       "    <tr>\n",
       "      <th>Enfermeiro(a)</th>\n",
       "      <td>7.048611</td>\n",
       "    </tr>\n",
       "    <tr>\n",
       "      <th>Médico(a)</th>\n",
       "      <td>6.970423</td>\n",
       "    </tr>\n",
       "  </tbody>\n",
       "</table>\n",
       "</div>"
      ],
      "text/plain": [
       "               Média do sono\n",
       "Profissão                   \n",
       "Enfermeiro(a)       7.048611\n",
       "Médico(a)           6.970423"
      ]
     },
     "execution_count": 7,
     "metadata": {},
     "output_type": "execute_result"
    }
   ],
   "source": [
    "df_enf_med= df[df['Profissão'].isin([\"Enfermeiro(a)\",\"Médico(a)\"])].groupby(\"Profissão\")[\"Duração do sono\"].mean()\n",
    "pd.DataFrame(df_enf_med.rename('Média do sono'))\n"
   ]
  },
  {
   "cell_type": "markdown",
   "metadata": {},
   "source": [
    "6. Faça um subconjunto com as colunas Identificador, Gênero, Idade,\n",
    "Pressão sanguínea e Frequência cardíaca.\n"
   ]
  },
  {
   "cell_type": "code",
   "execution_count": 8,
   "metadata": {},
   "outputs": [
    {
     "data": {
      "text/html": [
       "<div>\n",
       "<style scoped>\n",
       "    .dataframe tbody tr th:only-of-type {\n",
       "        vertical-align: middle;\n",
       "    }\n",
       "\n",
       "    .dataframe tbody tr th {\n",
       "        vertical-align: top;\n",
       "    }\n",
       "\n",
       "    .dataframe thead th {\n",
       "        text-align: right;\n",
       "    }\n",
       "</style>\n",
       "<table border=\"1\" class=\"dataframe\">\n",
       "  <thead>\n",
       "    <tr style=\"text-align: right;\">\n",
       "      <th></th>\n",
       "      <th>Gênero</th>\n",
       "      <th>Idade</th>\n",
       "      <th>Pressão sanguínea</th>\n",
       "      <th>Frequência cardíaca</th>\n",
       "    </tr>\n",
       "    <tr>\n",
       "      <th>Identificador</th>\n",
       "      <th></th>\n",
       "      <th></th>\n",
       "      <th></th>\n",
       "      <th></th>\n",
       "    </tr>\n",
       "  </thead>\n",
       "  <tbody>\n",
       "    <tr>\n",
       "      <th>1</th>\n",
       "      <td>Homem</td>\n",
       "      <td>27</td>\n",
       "      <td>126/83</td>\n",
       "      <td>77</td>\n",
       "    </tr>\n",
       "    <tr>\n",
       "      <th>2</th>\n",
       "      <td>Homem</td>\n",
       "      <td>28</td>\n",
       "      <td>125/80</td>\n",
       "      <td>75</td>\n",
       "    </tr>\n",
       "    <tr>\n",
       "      <th>3</th>\n",
       "      <td>Homem</td>\n",
       "      <td>28</td>\n",
       "      <td>125/80</td>\n",
       "      <td>75</td>\n",
       "    </tr>\n",
       "    <tr>\n",
       "      <th>4</th>\n",
       "      <td>Homem</td>\n",
       "      <td>28</td>\n",
       "      <td>140/90</td>\n",
       "      <td>85</td>\n",
       "    </tr>\n",
       "    <tr>\n",
       "      <th>5</th>\n",
       "      <td>Homem</td>\n",
       "      <td>28</td>\n",
       "      <td>140/90</td>\n",
       "      <td>85</td>\n",
       "    </tr>\n",
       "  </tbody>\n",
       "</table>\n",
       "</div>"
      ],
      "text/plain": [
       "              Gênero  Idade Pressão sanguínea  Frequência cardíaca\n",
       "Identificador                                                     \n",
       "1              Homem     27            126/83                   77\n",
       "2              Homem     28            125/80                   75\n",
       "3              Homem     28            125/80                   75\n",
       "4              Homem     28            140/90                   85\n",
       "5              Homem     28            140/90                   85"
      ]
     },
     "execution_count": 8,
     "metadata": {},
     "output_type": "execute_result"
    }
   ],
   "source": [
    "df_sub_saude=df[['Identificador', 'Gênero', 'Idade', 'Pressão sanguínea', 'Frequência cardíaca']]\n",
    "df_sub_saude.set_index(\"Identificador\").head()"
   ]
  },
  {
   "cell_type": "markdown",
   "metadata": {},
   "source": [
    "7. Descubra qual a profissão menos frequente no conjunto. (Use\n",
    "value_counts)\n"
   ]
  },
  {
   "cell_type": "code",
   "execution_count": 9,
   "metadata": {},
   "outputs": [
    {
     "data": {
      "text/html": [
       "<div>\n",
       "<style scoped>\n",
       "    .dataframe tbody tr th:only-of-type {\n",
       "        vertical-align: middle;\n",
       "    }\n",
       "\n",
       "    .dataframe tbody tr th {\n",
       "        vertical-align: top;\n",
       "    }\n",
       "\n",
       "    .dataframe thead th {\n",
       "        text-align: right;\n",
       "    }\n",
       "</style>\n",
       "<table border=\"1\" class=\"dataframe\">\n",
       "  <thead>\n",
       "    <tr style=\"text-align: right;\">\n",
       "      <th></th>\n",
       "      <th>Quantidade</th>\n",
       "    </tr>\n",
       "    <tr>\n",
       "      <th>Profissão</th>\n",
       "      <th></th>\n",
       "    </tr>\n",
       "  </thead>\n",
       "  <tbody>\n",
       "    <tr>\n",
       "      <th>Gerente</th>\n",
       "      <td>1</td>\n",
       "    </tr>\n",
       "  </tbody>\n",
       "</table>\n",
       "</div>"
      ],
      "text/plain": [
       "           Quantidade\n",
       "Profissão            \n",
       "Gerente             1"
      ]
     },
     "execution_count": 9,
     "metadata": {},
     "output_type": "execute_result"
    }
   ],
   "source": [
    "count_prof=df[\"Profissão\"].value_counts(sort=True,ascending=True)\n",
    "pd.DataFrame(count_prof.rename(\"Quantidade\").head(1))\n"
   ]
  },
  {
   "cell_type": "markdown",
   "metadata": {},
   "source": [
    "8. Quem tem maior pressão sanguínea média, homens ou mulheres?\n",
    "(Considere a média)\n"
   ]
  },
  {
   "cell_type": "code",
   "execution_count": 10,
   "metadata": {},
   "outputs": [],
   "source": [
    "pressao_sang=df.copy()\n",
    "pressao_sang[['Pressão 1','Pressão 2']]=pressao_sang[\"Pressão sanguínea\"].str.split('/',expand=True) \n",
    "pressao_sang['Pressão 1']=pd.to_numeric(pressao_sang['Pressão 1'])\n",
    "pressao_sang['Pressão 2']=pd.to_numeric(pressao_sang['Pressão 2'])"
   ]
  },
  {
   "cell_type": "code",
   "execution_count": 11,
   "metadata": {},
   "outputs": [
    {
     "data": {
      "text/html": [
       "<div>\n",
       "<style scoped>\n",
       "    .dataframe tbody tr th:only-of-type {\n",
       "        vertical-align: middle;\n",
       "    }\n",
       "\n",
       "    .dataframe tbody tr th {\n",
       "        vertical-align: top;\n",
       "    }\n",
       "\n",
       "    .dataframe thead th {\n",
       "        text-align: right;\n",
       "    }\n",
       "</style>\n",
       "<table border=\"1\" class=\"dataframe\">\n",
       "  <thead>\n",
       "    <tr style=\"text-align: right;\">\n",
       "      <th></th>\n",
       "      <th>Média Pressão sanguínea</th>\n",
       "    </tr>\n",
       "    <tr>\n",
       "      <th>Gênero</th>\n",
       "      <th></th>\n",
       "    </tr>\n",
       "  </thead>\n",
       "  <tbody>\n",
       "    <tr>\n",
       "      <th>Homem</th>\n",
       "      <td>127/83</td>\n",
       "    </tr>\n",
       "    <tr>\n",
       "      <th>Mulher</th>\n",
       "      <td>130/86</td>\n",
       "    </tr>\n",
       "  </tbody>\n",
       "</table>\n",
       "</div>"
      ],
      "text/plain": [
       "       Média Pressão sanguínea\n",
       "Gênero                        \n",
       "Homem                   127/83\n",
       "Mulher                  130/86"
      ]
     },
     "execution_count": 11,
     "metadata": {},
     "output_type": "execute_result"
    }
   ],
   "source": [
    "df_pressao=pressao_sang.groupby(\"Gênero\")[[\"Pressão 1\",\"Pressão 2\"]].mean()\n",
    "df_pressao=round(df_pressao).astype(int)\n",
    "df_pressao=df_pressao['Pressão 1'].astype(str) + \"/\" + df_pressao['Pressão 2'].astype(str)\n",
    "\n",
    "pd.DataFrame(df_pressao.rename(\"Média Pressão sanguínea\"))"
   ]
  },
  {
   "cell_type": "markdown",
   "metadata": {},
   "source": [
    "9. É predominante entre os participantes dormir 8 horas por dia\n",
    "(considere usar Moda como medida)?\n"
   ]
  },
  {
   "cell_type": "code",
   "execution_count": 21,
   "metadata": {},
   "outputs": [
    {
     "data": {
      "text/html": [
       "<div>\n",
       "<style scoped>\n",
       "    .dataframe tbody tr th:only-of-type {\n",
       "        vertical-align: middle;\n",
       "    }\n",
       "\n",
       "    .dataframe tbody tr th {\n",
       "        vertical-align: top;\n",
       "    }\n",
       "\n",
       "    .dataframe thead th {\n",
       "        text-align: right;\n",
       "    }\n",
       "</style>\n",
       "<table border=\"1\" class=\"dataframe\">\n",
       "  <thead>\n",
       "    <tr style=\"text-align: right;\">\n",
       "      <th></th>\n",
       "      <th>Dorme 8h por dia</th>\n",
       "      <th>Quantidade de participantes</th>\n",
       "    </tr>\n",
       "  </thead>\n",
       "  <tbody>\n",
       "    <tr>\n",
       "      <th>0</th>\n",
       "      <td>Não</td>\n",
       "      <td>360</td>\n",
       "    </tr>\n",
       "    <tr>\n",
       "      <th>1</th>\n",
       "      <td>Sim</td>\n",
       "      <td>13</td>\n",
       "    </tr>\n",
       "  </tbody>\n",
       "</table>\n",
       "</div>"
      ],
      "text/plain": [
       "  Dorme 8h por dia  Quantidade de participantes\n",
       "0              Não                          360\n",
       "1              Sim                           13"
      ]
     },
     "execution_count": 21,
     "metadata": {},
     "output_type": "execute_result"
    }
   ],
   "source": [
    "# Dormir 8 horas considerei como no mínimo, por isso utilizei \">= 8\" horas, caso seja exatamente 8 seria \"==8\"\n",
    "horas_dormidas=(df.groupby(\"Identificador\")[\"Duração do sono\"].agg(modag)==8) #utilizei a função já feita da moda na questão 2\n",
    "horas_dormidas=horas_dormidas.value_counts().reset_index()\n",
    "horas_dormidas.columns = ['Dorme 8h por dia', 'Quantidade de participantes']\n",
    "horas_dormidas['Dorme 8h por dia']=np.where(horas_dormidas['Dorme 8h por dia']==False,'Não','Sim')\n",
    "\n",
    "#horas_dormidas=horas_dormidas.set_index(['Dorme 8h por dia'])\n",
    "pd.DataFrame(horas_dormidas)\n"
   ]
  },
  {
   "cell_type": "code",
   "execution_count": 30,
   "metadata": {},
   "outputs": [
    {
     "data": {
      "text/html": [
       "<div>\n",
       "<style scoped>\n",
       "    .dataframe tbody tr th:only-of-type {\n",
       "        vertical-align: middle;\n",
       "    }\n",
       "\n",
       "    .dataframe tbody tr th {\n",
       "        vertical-align: top;\n",
       "    }\n",
       "\n",
       "    .dataframe thead th {\n",
       "        text-align: right;\n",
       "    }\n",
       "</style>\n",
       "<table border=\"1\" class=\"dataframe\">\n",
       "  <thead>\n",
       "    <tr style=\"text-align: right;\">\n",
       "      <th></th>\n",
       "      <th>Categoria de Sono</th>\n",
       "      <th>Quantidade de participantes</th>\n",
       "      <th>Duração do Sono - Moda</th>\n",
       "    </tr>\n",
       "  </thead>\n",
       "  <tbody>\n",
       "    <tr>\n",
       "      <th>0</th>\n",
       "      <td>Abaixo de 8h</td>\n",
       "      <td>303</td>\n",
       "      <td>7.2</td>\n",
       "    </tr>\n",
       "    <tr>\n",
       "      <th>1</th>\n",
       "      <td>Exatamente 8h</td>\n",
       "      <td>13</td>\n",
       "      <td>8.0</td>\n",
       "    </tr>\n",
       "    <tr>\n",
       "      <th>2</th>\n",
       "      <td>Acima de 8h</td>\n",
       "      <td>57</td>\n",
       "      <td>8.1</td>\n",
       "    </tr>\n",
       "  </tbody>\n",
       "</table>\n",
       "</div>"
      ],
      "text/plain": [
       "  Categoria de Sono  Quantidade de participantes  Duração do Sono - Moda\n",
       "0      Abaixo de 8h                          303                     7.2\n",
       "1     Exatamente 8h                           13                     8.0\n",
       "2       Acima de 8h                           57                     8.1"
      ]
     },
     "execution_count": 30,
     "metadata": {},
     "output_type": "execute_result"
    }
   ],
   "source": [
    "\n",
    "abaixo_8h = df[df['Duração do sono'] < 8]\n",
    "exatamente_8h = df[df['Duração do sono'] == 8]\n",
    "acima_8h = df[df['Duração do sono'] > 8]\n",
    "\n",
    "\n",
    "# Calcular a moda da duração do sono para cada grupo\n",
    "moda_abaixo_8h = abaixo_8h['Duração do sono'].agg(modag) \n",
    "moda_exatamente_8h = exatamente_8h['Duração do sono'].agg(modag) \n",
    "moda_acima_8h = acima_8h['Duração do sono'].agg(modag) \n",
    "\n",
    "\n",
    "tabela_moda_sono=pd.DataFrame({\n",
    "    'Categoria de Sono': ['Abaixo de 8h', 'Exatamente 8h', 'Acima de 8h'],\n",
    "    'Quantidade de participantes':[len(abaixo_8h),len(exatamente_8h),len(acima_8h)],\n",
    "    'Duração do Sono - Moda': [moda_abaixo_8h, moda_exatamente_8h, moda_acima_8h]\n",
    "    \n",
    "})\n",
    "\n",
    "tabela_moda_sono"
   ]
  },
  {
   "cell_type": "markdown",
   "metadata": {},
   "source": [
    "10. Pessoas com frequências cardíacas acima de 70 dão mais passos que\n",
    "pessoas com frequência cardíaca menor ou igual a 70? (Use a média)"
   ]
  },
  {
   "cell_type": "code",
   "execution_count": 13,
   "metadata": {},
   "outputs": [
    {
     "data": {
      "text/html": [
       "<div>\n",
       "<style scoped>\n",
       "    .dataframe tbody tr th:only-of-type {\n",
       "        vertical-align: middle;\n",
       "    }\n",
       "\n",
       "    .dataframe tbody tr th {\n",
       "        vertical-align: top;\n",
       "    }\n",
       "\n",
       "    .dataframe thead th {\n",
       "        text-align: right;\n",
       "    }\n",
       "</style>\n",
       "<table border=\"1\" class=\"dataframe\">\n",
       "  <thead>\n",
       "    <tr style=\"text-align: right;\">\n",
       "      <th></th>\n",
       "      <th>Média de passos</th>\n",
       "    </tr>\n",
       "    <tr>\n",
       "      <th>Frequência cardíaca</th>\n",
       "      <th></th>\n",
       "    </tr>\n",
       "  </thead>\n",
       "  <tbody>\n",
       "    <tr>\n",
       "      <th>Abaixo de 70</th>\n",
       "      <td>7006.666667</td>\n",
       "    </tr>\n",
       "    <tr>\n",
       "      <th>Acima de 70</th>\n",
       "      <td>6472.932331</td>\n",
       "    </tr>\n",
       "  </tbody>\n",
       "</table>\n",
       "</div>"
      ],
      "text/plain": [
       "                     Média de passos\n",
       "Frequência cardíaca                 \n",
       "Abaixo de 70             7006.666667\n",
       "Acima de 70              6472.932331"
      ]
     },
     "execution_count": 13,
     "metadata": {},
     "output_type": "execute_result"
    }
   ],
   "source": [
    "filtro_frequencia_acima=df['Frequência cardíaca']>70\n",
    "filtro_frequencia_abaixo=df['Frequência cardíaca']<=70\n",
    "frequencia_passos=df[\"Passos diários\"].groupby(filtro_frequencia_acima).mean().reset_index()\n",
    "frequencia_passos.columns = ['Frequência cardíaca', 'Média de passos']\n",
    "frequencia_passos['Frequência cardíaca']=np.where(frequencia_passos['Frequência cardíaca']==False,'Abaixo de 70','Acima de 70')\n",
    "\n",
    "pd.DataFrame(frequencia_passos.set_index('Frequência cardíaca'))"
   ]
  }
 ],
 "metadata": {
  "kernelspec": {
   "display_name": "Python 3",
   "language": "python",
   "name": "python3"
  },
  "language_info": {
   "codemirror_mode": {
    "name": "ipython",
    "version": 3
   },
   "file_extension": ".py",
   "mimetype": "text/x-python",
   "name": "python",
   "nbconvert_exporter": "python",
   "pygments_lexer": "ipython3",
   "version": "3.12.2"
  }
 },
 "nbformat": 4,
 "nbformat_minor": 2
}
