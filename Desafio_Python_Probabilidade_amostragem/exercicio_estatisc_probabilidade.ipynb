{
 "cells": [
  {
   "cell_type": "markdown",
   "metadata": {},
   "source": [
    "# Estatística - Probabilidade e Amostragem\n",
    "- Fernanda Soares Lima - Turma 7 | Data Analytics <br>\n",
    "Squad Katherine Johnson\n",
    "\n",
    "Você é uma pesquisadora desenvolvendo uma análise sobre as\n",
    "características da força de trabalho nos estados brasileiros. Responda as\n",
    "perguntas abaixo:"
   ]
  },
  {
   "cell_type": "code",
   "execution_count": 4,
   "metadata": {},
   "outputs": [],
   "source": [
    "import numpy as np\n",
    "import pandas as pd\n",
    "import matplotlib.pyplot as plt\n",
    "import seaborn as sns\n",
    "\n",
    "from scipy import stats"
   ]
  },
  {
   "cell_type": "code",
   "execution_count": 5,
   "metadata": {},
   "outputs": [
    {
     "name": "stdout",
     "output_type": "stream",
     "text": [
      "   Unnamed: 0 estado  idade escolaridade nível de proficiência em inglês  \\\n",
      "0           0     MA     56  Fundamental                   Intermediário   \n",
      "1           1     BA     46     Superior                          Básico   \n",
      "2           2     AM     32  Fundamental                   Intermediário   \n",
      "3           3     CE     60     Superior                          Básico   \n",
      "4           4     SE     25  Fundamental                        Avançado   \n",
      "5           5     AM     38  Fundamental                        Avançado   \n",
      "\n",
      "     renda sexo  \n",
      "0  4006.29    F  \n",
      "1  2423.11    M  \n",
      "2  3835.69    M  \n",
      "3  1870.29    M  \n",
      "4  3529.80    M  \n",
      "5  4441.57    F  \n"
     ]
    },
    {
     "data": {
      "text/html": [
       "<div>\n",
       "<style scoped>\n",
       "    .dataframe tbody tr th:only-of-type {\n",
       "        vertical-align: middle;\n",
       "    }\n",
       "\n",
       "    .dataframe tbody tr th {\n",
       "        vertical-align: top;\n",
       "    }\n",
       "\n",
       "    .dataframe thead th {\n",
       "        text-align: right;\n",
       "    }\n",
       "</style>\n",
       "<table border=\"1\" class=\"dataframe\">\n",
       "  <thead>\n",
       "    <tr style=\"text-align: right;\">\n",
       "      <th></th>\n",
       "      <th>estado</th>\n",
       "      <th>idade</th>\n",
       "      <th>escolaridade</th>\n",
       "      <th>nível de proficiência em inglês</th>\n",
       "      <th>renda</th>\n",
       "      <th>sexo</th>\n",
       "    </tr>\n",
       "  </thead>\n",
       "  <tbody>\n",
       "    <tr>\n",
       "      <th>0</th>\n",
       "      <td>MA</td>\n",
       "      <td>56</td>\n",
       "      <td>Fundamental</td>\n",
       "      <td>Intermediário</td>\n",
       "      <td>4006.29</td>\n",
       "      <td>F</td>\n",
       "    </tr>\n",
       "    <tr>\n",
       "      <th>1</th>\n",
       "      <td>BA</td>\n",
       "      <td>46</td>\n",
       "      <td>Superior</td>\n",
       "      <td>Básico</td>\n",
       "      <td>2423.11</td>\n",
       "      <td>M</td>\n",
       "    </tr>\n",
       "    <tr>\n",
       "      <th>2</th>\n",
       "      <td>AM</td>\n",
       "      <td>32</td>\n",
       "      <td>Fundamental</td>\n",
       "      <td>Intermediário</td>\n",
       "      <td>3835.69</td>\n",
       "      <td>M</td>\n",
       "    </tr>\n",
       "    <tr>\n",
       "      <th>3</th>\n",
       "      <td>CE</td>\n",
       "      <td>60</td>\n",
       "      <td>Superior</td>\n",
       "      <td>Básico</td>\n",
       "      <td>1870.29</td>\n",
       "      <td>M</td>\n",
       "    </tr>\n",
       "    <tr>\n",
       "      <th>4</th>\n",
       "      <td>SE</td>\n",
       "      <td>25</td>\n",
       "      <td>Fundamental</td>\n",
       "      <td>Avançado</td>\n",
       "      <td>3529.80</td>\n",
       "      <td>M</td>\n",
       "    </tr>\n",
       "    <tr>\n",
       "      <th>5</th>\n",
       "      <td>AM</td>\n",
       "      <td>38</td>\n",
       "      <td>Fundamental</td>\n",
       "      <td>Avançado</td>\n",
       "      <td>4441.57</td>\n",
       "      <td>F</td>\n",
       "    </tr>\n",
       "  </tbody>\n",
       "</table>\n",
       "</div>"
      ],
      "text/plain": [
       "  estado  idade escolaridade nível de proficiência em inglês    renda sexo\n",
       "0     MA     56  Fundamental                   Intermediário  4006.29    F\n",
       "1     BA     46     Superior                          Básico  2423.11    M\n",
       "2     AM     32  Fundamental                   Intermediário  3835.69    M\n",
       "3     CE     60     Superior                          Básico  1870.29    M\n",
       "4     SE     25  Fundamental                        Avançado  3529.80    M\n",
       "5     AM     38  Fundamental                        Avançado  4441.57    F"
      ]
     },
     "execution_count": 5,
     "metadata": {},
     "output_type": "execute_result"
    }
   ],
   "source": [
    "df= pd.read_csv(\"populacao_brasileira.csv\", sep=',')\n",
    "print(df.head(6))\n",
    "\n",
    "df_limpo= df.drop(columns=['Unnamed: 0'])\n",
    "df_limpo.head(6)"
   ]
  },
  {
   "cell_type": "markdown",
   "metadata": {},
   "source": [
    "Fiz uma limpeza já que a primeira linha era o número que veio do csv, a ordem permanece"
   ]
  },
  {
   "cell_type": "code",
   "execution_count": 6,
   "metadata": {},
   "outputs": [
    {
     "data": {
      "text/plain": [
       "Index(['Unnamed: 0', 'estado', 'idade', 'escolaridade',\n",
       "       'nível de proficiência em inglês', 'renda', 'sexo'],\n",
       "      dtype='object')"
      ]
     },
     "execution_count": 6,
     "metadata": {},
     "output_type": "execute_result"
    }
   ],
   "source": [
    "df.columns"
   ]
  },
  {
   "cell_type": "code",
   "execution_count": 7,
   "metadata": {},
   "outputs": [
    {
     "data": {
      "text/html": [
       "<div>\n",
       "<style scoped>\n",
       "    .dataframe tbody tr th:only-of-type {\n",
       "        vertical-align: middle;\n",
       "    }\n",
       "\n",
       "    .dataframe tbody tr th {\n",
       "        vertical-align: top;\n",
       "    }\n",
       "\n",
       "    .dataframe thead th {\n",
       "        text-align: right;\n",
       "    }\n",
       "</style>\n",
       "<table border=\"1\" class=\"dataframe\">\n",
       "  <thead>\n",
       "    <tr style=\"text-align: right;\">\n",
       "      <th></th>\n",
       "      <th>idade</th>\n",
       "      <th>renda</th>\n",
       "    </tr>\n",
       "  </thead>\n",
       "  <tbody>\n",
       "    <tr>\n",
       "      <th>count</th>\n",
       "      <td>1000.000000</td>\n",
       "      <td>1000.000000</td>\n",
       "    </tr>\n",
       "    <tr>\n",
       "      <th>mean</th>\n",
       "      <td>40.986000</td>\n",
       "      <td>3082.537180</td>\n",
       "    </tr>\n",
       "    <tr>\n",
       "      <th>std</th>\n",
       "      <td>13.497852</td>\n",
       "      <td>996.572239</td>\n",
       "    </tr>\n",
       "    <tr>\n",
       "      <th>min</th>\n",
       "      <td>18.000000</td>\n",
       "      <td>103.740000</td>\n",
       "    </tr>\n",
       "    <tr>\n",
       "      <th>25%</th>\n",
       "      <td>29.000000</td>\n",
       "      <td>2425.815000</td>\n",
       "    </tr>\n",
       "    <tr>\n",
       "      <th>50%</th>\n",
       "      <td>42.000000</td>\n",
       "      <td>3076.415000</td>\n",
       "    </tr>\n",
       "    <tr>\n",
       "      <th>75%</th>\n",
       "      <td>52.000000</td>\n",
       "      <td>3714.487500</td>\n",
       "    </tr>\n",
       "    <tr>\n",
       "      <th>max</th>\n",
       "      <td>64.000000</td>\n",
       "      <td>5632.380000</td>\n",
       "    </tr>\n",
       "  </tbody>\n",
       "</table>\n",
       "</div>"
      ],
      "text/plain": [
       "             idade        renda\n",
       "count  1000.000000  1000.000000\n",
       "mean     40.986000  3082.537180\n",
       "std      13.497852   996.572239\n",
       "min      18.000000   103.740000\n",
       "25%      29.000000  2425.815000\n",
       "50%      42.000000  3076.415000\n",
       "75%      52.000000  3714.487500\n",
       "max      64.000000  5632.380000"
      ]
     },
     "execution_count": 7,
     "metadata": {},
     "output_type": "execute_result"
    }
   ],
   "source": [
    "df_limpo.describe()"
   ]
  },
  {
   "cell_type": "code",
   "execution_count": 8,
   "metadata": {},
   "outputs": [
    {
     "name": "stdout",
     "output_type": "stream",
     "text": [
      "<class 'pandas.core.frame.DataFrame'>\n",
      "RangeIndex: 1000 entries, 0 to 999\n",
      "Data columns (total 6 columns):\n",
      " #   Column                           Non-Null Count  Dtype  \n",
      "---  ------                           --------------  -----  \n",
      " 0   estado                           1000 non-null   object \n",
      " 1   idade                            1000 non-null   int64  \n",
      " 2   escolaridade                     1000 non-null   object \n",
      " 3   nível de proficiência em inglês  1000 non-null   object \n",
      " 4   renda                            1000 non-null   float64\n",
      " 5   sexo                             1000 non-null   object \n",
      "dtypes: float64(1), int64(1), object(4)\n",
      "memory usage: 47.0+ KB\n"
     ]
    }
   ],
   "source": [
    "df_limpo.info()"
   ]
  },
  {
   "cell_type": "markdown",
   "metadata": {},
   "source": [
    "1. Considere pessoas fluentes em inglês, qual a probabilidade\n",
    "complementar? Ou seja, qual a probabilidade de escolhermos uma\n",
    "pessoa aleatória e ela não ser fluente em inglês. Considere fluente\n",
    "quem tem o nível avançado.\n"
   ]
  },
  {
   "cell_type": "code",
   "execution_count": 9,
   "metadata": {},
   "outputs": [
    {
     "data": {
      "text/plain": [
       "(344, 6)"
      ]
     },
     "execution_count": 9,
     "metadata": {},
     "output_type": "execute_result"
    }
   ],
   "source": [
    "ingles_fluente=df_limpo[df_limpo['nível de proficiência em inglês']=='Avançado']\n",
    "ingles_fluente.shape"
   ]
  },
  {
   "cell_type": "code",
   "execution_count": 10,
   "metadata": {},
   "outputs": [
    {
     "name": "stdout",
     "output_type": "stream",
     "text": [
      "0.656\n",
      "A probabilidade complementar é de 65.6%.\n"
     ]
    }
   ],
   "source": [
    "prob_complementar_fluencia= (1-(ingles_fluente.shape[0]/len(df_limpo)))\n",
    "print(prob_complementar_fluencia)\n",
    "\n",
    "print(f'A probabilidade complementar é de {round(prob_complementar_fluencia * 100, 2)}%.')"
   ]
  },
  {
   "cell_type": "markdown",
   "metadata": {},
   "source": [
    "2. Se uma pessoa escolhida aleatoriamente for de Alagoas ou do Pará,\n",
    "qual é a probabilidade de ela ter uma renda superior a 5 mil reais?\n"
   ]
  },
  {
   "cell_type": "code",
   "execution_count": 11,
   "metadata": {},
   "outputs": [
    {
     "name": "stdout",
     "output_type": "stream",
     "text": [
      "A probabilidade de escolher alguém aleatório de Alagoas ou Pará e ter renda superior a 5 mil é 5.06%\n",
      "\n",
      "Acredito que a probabilidade da questão queria ver dentro desses dois estados, por isso fiz a partir deles, não do geral\n"
     ]
    }
   ],
   "source": [
    "df_estados= df_limpo[(df_limpo['estado']=='AL') | (df_limpo['estado']=='PA')]\n",
    "df_estados.head()\n",
    "\n",
    "df_renda_alta= df_estados[df_estados['renda']>5000]\n",
    "\n",
    "prob_renda_alta_estados= len(df_renda_alta)/len(df_estados)\n",
    "\n",
    "print(f'A probabilidade de escolher alguém aleatório de Alagoas ou Pará e ter renda superior a 5 mil é {prob_renda_alta_estados*100:.2f}%')\n",
    "\n",
    "print('\\nAcredito que a probabilidade da questão queria ver dentro desses dois estados, por isso fiz a partir deles, não do geral')"
   ]
  },
  {
   "cell_type": "markdown",
   "metadata": {},
   "source": [
    "3. Descubra a probabilidade de uma pessoa ter ensino superior completo\n",
    "no estado do Amazonas. Qual a probabilidade da quinta pessoa que\n",
    "você conversar, que é amazonense, ter ensino superior completo?\n"
   ]
  },
  {
   "cell_type": "code",
   "execution_count": 118,
   "metadata": {},
   "outputs": [
    {
     "name": "stdout",
     "output_type": "stream",
     "text": [
      "A probabilidade de alguém ter superior no Estado do Amazonas é: 55.26%\n"
     ]
    }
   ],
   "source": [
    "df_amazonas= df_limpo[df_limpo['estado']=='AM']\n",
    "df_amazonas\n",
    "\n",
    "filtro_sup_amazonas=df_amazonas[df_amazonas['escolaridade'].isin(['Superior','Pós-graduação'])]\n",
    "filtro_sup_amazonas\n",
    "\n",
    "prob_superior_amazonas= (len(filtro_sup_amazonas)/len(df_amazonas))\n",
    "print(f'A probabilidade de alguém ter superior no Estado do Amazonas é: {prob_superior_amazonas*100:.2f}%')"
   ]
  },
  {
   "cell_type": "markdown",
   "metadata": {},
   "source": [
    "Aqui, calculei a probabilidade de uma pessoa selecionada aleatoriamente no Amazonas ter ensino superior completo. Dividi o número de pessoas com ensino superior pelo número total de pessoas no estado do Amazonas. O valor de 0.2368 reflete que 23,68% das pessoas do Amazonas no dataset têm ensino superior completo."
   ]
  },
  {
   "cell_type": "code",
   "execution_count": 119,
   "metadata": {},
   "outputs": [
    {
     "name": "stdout",
     "output_type": "stream",
     "text": [
      "0.5526315789473685\n",
      "Probabilidade da quinta ser amazonense e ter ensino superior completo: 2.21%\n"
     ]
    }
   ],
   "source": [
    "# Quinta pessoa que conversar já amazonense\n",
    "\n",
    "print(prob_superior_amazonas)\n",
    "prob_quinta_pessoa = stats.geom.pmf(k=5, p=prob_superior_amazonas)\n",
    "print(f'Probabilidade da quinta ser amazonense e ter ensino superior completo: {prob_quinta_pessoa:.2%}')"
   ]
  },
  {
   "cell_type": "markdown",
   "metadata": {},
   "source": [
    "apliquei a distribuição geométrica para resolver essa parte, pois não sabia de outra forma e vi a Jéssica fazer assim em uma questão, para modelar a quantidade de tentativas até obter o primeiro sucesso em um experimento de Bernoulli (nesse caso, o \"sucesso\" é a pessoa ter ensino superior completo)\n",
    "\n",
    "Isso significa que a probabilidade de após conversar com 4 pessoas que não têm ensino superior, a quinta pessoa que você conversa ter ensino superior completo. O valor de 8,03% faz sentido dentro dessa lógica."
   ]
  },
  {
   "cell_type": "markdown",
   "metadata": {},
   "source": [
    "4. Considerando a renda das pessoas do nosso conjunto, podemos dizer\n",
    "que a renda de uma pessoa brasileira está na sua maioria em que faixa\n",
    "(faça faixa de 1.500 reais)? Qual é a sua função densidade de\n",
    "probabilidade?\n"
   ]
  },
  {
   "cell_type": "code",
   "execution_count": 122,
   "metadata": {},
   "outputs": [
    {
     "data": {
      "image/png": "[encoded data removed]",
      "text/plain": [
       "<Figure size 1000x600 with 1 Axes>"
      ]
     },
     "metadata": {},
     "output_type": "display_data"
    },
    {
     "name": "stdout",
     "output_type": "stream",
     "text": [
      "O histograma mostra a densidade de probabilidade, ou seja,a frequência relativa em cada faixa de renda.\n",
      "\n",
      "Assim, é possível visualizar qual faixa de renda concentra a maioria das pessoas, nesse caso entre 3000 mil a 4500 mil reais.\n"
     ]
    }
   ],
   "source": [
    "# Função de Densidade de Probabilidade = Porcentagem de pessoas / Largura da Faixa\n",
    "\n",
    "df_limpo['renda'].describe()\n",
    "intervalo=1500\n",
    "intervalos= np.arange(0, df_limpo['renda'].max()+intervalo,intervalo)\n",
    "\n",
    "#contagem_por_faixa,_=np.histogram\n",
    "\n",
    "plt.figure(figsize=(10,6))\n",
    "plt.hist(df_limpo['renda'],bins=intervalos,color='blue',edgecolor='black',alpha=0.7)\n",
    "plt.title('Distribuição da Renda (em faixas de 1500 reais)')\n",
    "plt.xlabel('Renda R$')\n",
    "plt.ylabel('Densidade de Probabilidade')\n",
    "plt.show()\n",
    "\n",
    "print(\"O histograma mostra a densidade de probabilidade, ou seja,a frequência relativa em cada faixa de renda.\\n\")\n",
    "print(\"Assim, é possível visualizar qual faixa de renda concentra a maioria das pessoas, nesse caso entre 3000 mil a 4500 mil reais.\")"
   ]
  },
  {
   "cell_type": "markdown",
   "metadata": {},
   "source": [
    "5. Calcule a média e a variância da renda da amostra. Depois faça a\n",
    "distribuição normal, inclua o gráfico"
   ]
  },
  {
   "cell_type": "code",
   "execution_count": 15,
   "metadata": {},
   "outputs": [
    {
     "name": "stdout",
     "output_type": "stream",
     "text": [
      "Média da renda: 3082.54\n",
      "Variância da renda: 993156.23\n"
     ]
    }
   ],
   "source": [
    "media_renda = df_limpo['renda'].mean()\n",
    "variancia_renda = df_limpo['renda'].var()\n",
    "\n",
    "print(f'Média da renda: {media_renda:.2f}')\n",
    "print(f'Variância da renda: {variancia_renda:.2f}')"
   ]
  },
  {
   "cell_type": "code",
   "execution_count": 16,
   "metadata": {},
   "outputs": [],
   "source": [
    "renda_min = df_limpo['renda'].min()\n",
    "renda_max = df_limpo['renda'].max()\n",
    "x = np.arange(renda_min, renda_max, 100)\n",
    "\n",
    "desvio_padrao_renda = df_limpo['renda'].std()\n",
    "# MANUALMENTE \n",
    "y = (1 / (desvio_padrao_renda * np.sqrt(2 * np.pi))) * np.exp(-0.5 * ((x - media_renda) / desvio_padrao_renda) ** 2)\n",
    "\n",
    "\n",
    "# FUNÇÃO distribuição normal com a média e desvio padrão/raiz da variancia da amostra\n",
    "y = stats.norm.pdf(x, media_renda, np.sqrt(variancia_renda))\n",
    "\n"
   ]
  },
  {
   "cell_type": "code",
   "execution_count": 17,
   "metadata": {},
   "outputs": [
    {
     "data": {
      "text/plain": [
       "Text(0, 0.5, 'Densidade de Probabilidade')"
      ]
     },
     "execution_count": 17,
     "metadata": {},
     "output_type": "execute_result"
    },
    {
     "data": {
      "image/png": "[encoded data removed]",
      "text/plain": [
       "<Figure size 1000x600 with 1 Axes>"
      ]
     },
     "metadata": {},
     "output_type": "display_data"
    }
   ],
   "source": [
    "plt.figure(figsize=(10,6))\n",
    "plt.hist(df_limpo['renda'], bins=30, density=True, alpha=0.6, color='g', edgecolor='black')\n",
    "\n",
    "plt.plot(x, y, 'r-', lw=2)\n",
    "\n",
    "plt.title('Distribuição Normal da Renda')\n",
    "plt.xlabel('Renda')\n",
    "plt.ylabel('Densidade de Probabilidade')"
   ]
  },
  {
   "cell_type": "markdown",
   "metadata": {},
   "source": [
    "6. Primeiro considere a probabilidade encontrada no nosso conjunto de\n",
    "pessoas com escolaridade de pós-graduação. Considerando a amostra\n",
    "de população brasileira com 1 milhão de habitantes, qual a\n",
    "probabilidade de encontrarmos 243 mil pessoas com pós-graduação?\n"
   ]
  },
  {
   "cell_type": "code",
   "execution_count": 18,
   "metadata": {},
   "outputs": [
    {
     "data": {
      "text/html": [
       "<div>\n",
       "<style scoped>\n",
       "    .dataframe tbody tr th:only-of-type {\n",
       "        vertical-align: middle;\n",
       "    }\n",
       "\n",
       "    .dataframe tbody tr th {\n",
       "        vertical-align: top;\n",
       "    }\n",
       "\n",
       "    .dataframe thead th {\n",
       "        text-align: right;\n",
       "    }\n",
       "</style>\n",
       "<table border=\"1\" class=\"dataframe\">\n",
       "  <thead>\n",
       "    <tr style=\"text-align: right;\">\n",
       "      <th></th>\n",
       "      <th>Fundamental</th>\n",
       "      <th>Médio</th>\n",
       "      <th>Pós-graduação</th>\n",
       "      <th>Superior</th>\n",
       "    </tr>\n",
       "  </thead>\n",
       "  <tbody>\n",
       "    <tr>\n",
       "      <th>0</th>\n",
       "      <td>1</td>\n",
       "      <td>0</td>\n",
       "      <td>0</td>\n",
       "      <td>0</td>\n",
       "    </tr>\n",
       "    <tr>\n",
       "      <th>1</th>\n",
       "      <td>0</td>\n",
       "      <td>0</td>\n",
       "      <td>0</td>\n",
       "      <td>1</td>\n",
       "    </tr>\n",
       "    <tr>\n",
       "      <th>2</th>\n",
       "      <td>1</td>\n",
       "      <td>0</td>\n",
       "      <td>0</td>\n",
       "      <td>0</td>\n",
       "    </tr>\n",
       "    <tr>\n",
       "      <th>3</th>\n",
       "      <td>0</td>\n",
       "      <td>0</td>\n",
       "      <td>0</td>\n",
       "      <td>1</td>\n",
       "    </tr>\n",
       "    <tr>\n",
       "      <th>4</th>\n",
       "      <td>1</td>\n",
       "      <td>0</td>\n",
       "      <td>0</td>\n",
       "      <td>0</td>\n",
       "    </tr>\n",
       "    <tr>\n",
       "      <th>...</th>\n",
       "      <td>...</td>\n",
       "      <td>...</td>\n",
       "      <td>...</td>\n",
       "      <td>...</td>\n",
       "    </tr>\n",
       "    <tr>\n",
       "      <th>995</th>\n",
       "      <td>0</td>\n",
       "      <td>1</td>\n",
       "      <td>0</td>\n",
       "      <td>0</td>\n",
       "    </tr>\n",
       "    <tr>\n",
       "      <th>996</th>\n",
       "      <td>1</td>\n",
       "      <td>0</td>\n",
       "      <td>0</td>\n",
       "      <td>0</td>\n",
       "    </tr>\n",
       "    <tr>\n",
       "      <th>997</th>\n",
       "      <td>0</td>\n",
       "      <td>0</td>\n",
       "      <td>1</td>\n",
       "      <td>0</td>\n",
       "    </tr>\n",
       "    <tr>\n",
       "      <th>998</th>\n",
       "      <td>1</td>\n",
       "      <td>0</td>\n",
       "      <td>0</td>\n",
       "      <td>0</td>\n",
       "    </tr>\n",
       "    <tr>\n",
       "      <th>999</th>\n",
       "      <td>0</td>\n",
       "      <td>0</td>\n",
       "      <td>0</td>\n",
       "      <td>1</td>\n",
       "    </tr>\n",
       "  </tbody>\n",
       "</table>\n",
       "<p>1000 rows × 4 columns</p>\n",
       "</div>"
      ],
      "text/plain": [
       "     Fundamental  Médio  Pós-graduação  Superior\n",
       "0              1      0              0         0\n",
       "1              0      0              0         1\n",
       "2              1      0              0         0\n",
       "3              0      0              0         1\n",
       "4              1      0              0         0\n",
       "..           ...    ...            ...       ...\n",
       "995            0      1              0         0\n",
       "996            1      0              0         0\n",
       "997            0      0              1         0\n",
       "998            1      0              0         0\n",
       "999            0      0              0         1\n",
       "\n",
       "[1000 rows x 4 columns]"
      ]
     },
     "execution_count": 18,
     "metadata": {},
     "output_type": "execute_result"
    }
   ],
   "source": [
    "df_limpo['escolaridade'].str.get_dummies()"
   ]
  },
  {
   "cell_type": "code",
   "execution_count": 19,
   "metadata": {},
   "outputs": [
    {
     "name": "stdout",
     "output_type": "stream",
     "text": [
      "A probabilidade de alguém ter pós-graduação é: 25.30%\n",
      "0.253\n"
     ]
    }
   ],
   "source": [
    "pessoas_com_pos=df_limpo[df_limpo['escolaridade']=='Pós-graduação']\n",
    "prob_pessoas_pos=len(pessoas_com_pos)/len(df_limpo)\n",
    "print(f'A probabilidade de alguém ter pós-graduação é: {prob_pessoas_pos*100:.2f}%')\n",
    "print(prob_pessoas_pos)"
   ]
  },
  {
   "cell_type": "code",
   "execution_count": 130,
   "metadata": {},
   "outputs": [
    {
     "name": "stdout",
     "output_type": "stream",
     "text": [
      "\n",
      "    A probabilidade de encontrar exatamente 243.000 pessoas com pós-graduação, dado que a média esperada é 253.000 e o desvio padrão é 434.73, é extremamente baixa. \n",
      "      Isso acontece porque a quantidade de 243.000 está muito longe do valor esperado para uma amostra desse tamanho.\n",
      "      Fazendo pela função \"stats.binom.pmf(k,n,p)\" retornou um valor muito baixo 1.1104854289794913e-119, mas se fizer stats.binom.pmf(media,n,p) utilizando pela média o valor é 1.1104854289794913e-119 \n"
     ]
    }
   ],
   "source": [
    "# Considerando a amostra de população brasileira com 1 milhão de habitantes, qual a probabilidade de encontrarmos 243 mil pessoas com pós-graduação?\n",
    "\n",
    "\n",
    "# prob_pessoas_amostra=(243000/1000000)*100\n",
    "# print(f'A probabilidade de alguém ter pós é: {prob_pessoas_amostra:.2f}%')\n",
    "\n",
    "\n",
    "# probabilidade binomial\n",
    "n = 1000000 \n",
    "k = 243000  \n",
    "p = prob_pessoas_pos  # usar valor obtido antes\n",
    "\n",
    "# Média e desvio padrão da distribuição normal aproximada\n",
    "media = n * p\n",
    "desvio_padrao = (n * p * (1 - p)) ** 0.5\n",
    "# #print(desvio_padrao)\n",
    "\n",
    "# probabilidade = stats.norm(media, desvio_padrao).pdf(k)\n",
    "\n",
    "# # print(f'Probabilidade de encontrar 243 mil pessoas com pós-graduação: {probabilidade:.6f}')\n",
    "\n",
    "\n",
    "# desvio_padrao= np.sqrt(n*p*(1-p))\n",
    "# formula_z= (k-media)/desvio_padrao\n",
    "# formula_z\n",
    "\n",
    "\n",
    "prob_pos_grad= stats.binom.pmf(k,n,p)\n",
    "prob_pos_grad_media= stats.binom.pmf(media,n,p)\n",
    "\n",
    "\n",
    "print(f'''\\n    A probabilidade de encontrar exatamente 243.000 pessoas com pós-graduação, dado que a média esperada é 253.000 e o desvio padrão é 434.73, é extremamente baixa. \n",
    "      Isso acontece porque a quantidade de 243.000 está muito longe do valor esperado para uma amostra desse tamanho.\n",
    "      Fazendo pela função \"stats.binom.pmf(k,n,p)\" retornou um valor muito baixo {prob_pos_grad}, mas se fizer stats.binom.pmf(media,n,p) utilizando pela média o valor é {prob_pos_grad} ''')"
   ]
  },
  {
   "cell_type": "markdown",
   "metadata": {},
   "source": [
    "7. Somando as densidades nós temos a função de densidade acumulada.\n",
    "Considerando a coluna ‘Escolaridade’ faça a função de densidade\n",
    "acumulada discreta para cada nível de escolaridade"
   ]
  },
  {
   "cell_type": "code",
   "execution_count": 77,
   "metadata": {},
   "outputs": [
    {
     "name": "stdout",
     "output_type": "stream",
     "text": [
      "escolaridade\n",
      "Fundamental      266\n",
      "Médio            238\n",
      "Superior         243\n",
      "Pós-graduação    253\n",
      "Name: count, dtype: int64\n",
      "escolaridade\n",
      "Fundamental      0.266\n",
      "Médio            0.504\n",
      "Superior         0.747\n",
      "Pós-graduação    1.000\n",
      "Name: count, dtype: float64\n"
     ]
    },
    {
     "data": {
      "image/png": "[encoded data removed]",
      "text/plain": [
       "<Figure size 1200x600 with 2 Axes>"
      ]
     },
     "metadata": {},
     "output_type": "display_data"
    },
    {
     "data": {
      "image/png": "[encoded data removed]",
      "text/plain": [
       "<Figure size 640x480 with 1 Axes>"
      ]
     },
     "metadata": {},
     "output_type": "display_data"
    }
   ],
   "source": [
    "lista_ensino=['Fundamental','Médio','Superior','Pós-graduação']\n",
    "\n",
    "#df_limpo['escolaridade'].value_counts().sort_index(lista_ensino)\n",
    "\n",
    "df_limpo['escolaridade'] = pd.Categorical(df_limpo['escolaridade'], categories=lista_ensino, ordered=True)\n",
    "\n",
    "escolaridade_counts = df_limpo['escolaridade'].value_counts().sort_index()\n",
    "\n",
    "print(escolaridade_counts)\n",
    "\n",
    "densidade_cum_escolaridade = escolaridade_counts.cumsum() / escolaridade_counts.sum()\n",
    "\n",
    "print(densidade_cum_escolaridade)\n",
    "#fig, ax = plt.subplots(2,1)\n",
    "\n",
    "#plt.figure(figsize=(10,6))\n",
    "\n",
    "fig, ax = plt.subplots(nrows=1, ncols=2, figsize=(12, 6))\n",
    "\n",
    "ax[0].bar(lista_ensino,densidade_cum_escolaridade, alpha=0.5,color='lightblue', edgecolor='black')\n",
    "ax[0].set_title('Gráfico de densidade acumulada da escolaridade')\n",
    "ax[0].set_xlabel('Nível de escolaridade')\n",
    "ax[0].set_ylabel('Densidade')\n",
    "ax[0].grid(axis='y')\n",
    "\n",
    "#plt.show()\n",
    "\n",
    "# labels = 'Frogs', 'Hogs', 'Dogs', 'Logs'\n",
    "# sizes = [15, 30, 45, 10]\n",
    "\n",
    "# fig, ax = plt.subplots()\n",
    "# ax.pie(densidade_cum_escolaridade, labels=lista_ensino)\n",
    "\n",
    "r = [0]  # Criar uma única barra na posição 0\n",
    "barWidth = 0.1 # Largura da barra\n",
    "\n",
    "# Acumulando as alturas dos níveis\n",
    "bottom = np.zeros(len(r))  # Inicialmente, a base (bottom) é zero\n",
    "\n",
    "# Criar uma barra empilhada para cada nível\n",
    "for i in range(len(lista_ensino)):\n",
    "    ax[1].bar(r, escolaridade_counts.iloc[i], bottom=bottom, label=lista_ensino[i], width=barWidth)\n",
    "    bottom += escolaridade_counts.iloc[i]  # Atualizar o bottom para empilhar\n",
    "    ax[1].set_title('Gráfico de densidade empilhada')\n",
    "    ax[1].set_xlabel('Níveis de escolaridade')\n",
    "    ax[1].set_ylabel('Densidade')\n",
    "    ax[1].legend(loc=\"upper right\")\n",
    "    ax[1].set_xlim(-0.1, 0.1) \n",
    "    ax[1].set_xticklabels([])  # Remove os labels do eixo X\n",
    "  \n",
    "plt.grid(axis='y')\n",
    "\n",
    "plt.tight_layout() # serve pra não sobrepor\n",
    "\n",
    "plt.show()\n",
    "\n",
    "plt.pie(escolaridade_counts, labels=lista_ensino, autopct='%1.1f%%',shadow=True, startangle=90, radius=0.8)\n",
    "plt.title('Distribuição de escolaridade em gráfico de pizza')\n",
    "plt.show()\n",
    "\n"
   ]
  },
  {
   "cell_type": "markdown",
   "metadata": {},
   "source": [
    "Fiquei brincando pra conhecer mais outros gráficos"
   ]
  },
  {
   "cell_type": "markdown",
   "metadata": {},
   "source": [
    "8. Qual a margem de erro amostral da proporção populacional\n",
    "considerando a proporção de pessoas com nível de inglês\n",
    "intermediário?\n"
   ]
  },
  {
   "cell_type": "code",
   "execution_count": 61,
   "metadata": {},
   "outputs": [
    {
     "data": {
      "text/plain": [
       "nível de proficiência em inglês\n",
       "Avançado         344\n",
       "Intermediário    329\n",
       "Básico           327\n",
       "Name: count, dtype: int64"
      ]
     },
     "execution_count": 61,
     "metadata": {},
     "output_type": "execute_result"
    }
   ],
   "source": [
    "df_limpo['nível de proficiência em inglês'].value_counts()"
   ]
  },
  {
   "cell_type": "code",
   "execution_count": 79,
   "metadata": {},
   "outputs": [
    {
     "data": {
      "text/plain": [
       "0.671"
      ]
     },
     "execution_count": 79,
     "metadata": {},
     "output_type": "execute_result"
    }
   ],
   "source": [
    "nivel_en_intermediario= df_limpo[df_limpo['nível de proficiência em inglês']=='Intermediário']\n",
    "\n",
    "prop_en_intermediario=len(nivel_en_intermediario)/len(df_limpo)\n",
    "prop_en_intermediario\n",
    "\n",
    "prop_complementar_en_int=1-prop_en_intermediario\n",
    "prop_complementar_en_int"
   ]
  },
  {
   "cell_type": "code",
   "execution_count": 85,
   "metadata": {},
   "outputs": [
    {
     "data": {
      "text/html": [
       "<div>\n",
       "<style scoped>\n",
       "    .dataframe tbody tr th:only-of-type {\n",
       "        vertical-align: middle;\n",
       "    }\n",
       "\n",
       "    .dataframe tbody tr th {\n",
       "        vertical-align: top;\n",
       "    }\n",
       "\n",
       "    .dataframe thead th {\n",
       "        text-align: right;\n",
       "    }\n",
       "</style>\n",
       "<table border=\"1\" class=\"dataframe\">\n",
       "  <thead>\n",
       "    <tr style=\"text-align: right;\">\n",
       "      <th></th>\n",
       "      <th>estado</th>\n",
       "      <th>idade</th>\n",
       "      <th>escolaridade</th>\n",
       "      <th>nível de proficiência em inglês</th>\n",
       "      <th>renda</th>\n",
       "      <th>sexo</th>\n",
       "    </tr>\n",
       "  </thead>\n",
       "  <tbody>\n",
       "    <tr>\n",
       "      <th>0</th>\n",
       "      <td>MA</td>\n",
       "      <td>56</td>\n",
       "      <td>Fundamental</td>\n",
       "      <td>Intermediário</td>\n",
       "      <td>4006.29</td>\n",
       "      <td>F</td>\n",
       "    </tr>\n",
       "    <tr>\n",
       "      <th>2</th>\n",
       "      <td>AM</td>\n",
       "      <td>32</td>\n",
       "      <td>Fundamental</td>\n",
       "      <td>Intermediário</td>\n",
       "      <td>3835.69</td>\n",
       "      <td>M</td>\n",
       "    </tr>\n",
       "    <tr>\n",
       "      <th>6</th>\n",
       "      <td>DF</td>\n",
       "      <td>56</td>\n",
       "      <td>Médio</td>\n",
       "      <td>Intermediário</td>\n",
       "      <td>528.36</td>\n",
       "      <td>F</td>\n",
       "    </tr>\n",
       "    <tr>\n",
       "      <th>10</th>\n",
       "      <td>AC</td>\n",
       "      <td>28</td>\n",
       "      <td>Superior</td>\n",
       "      <td>Intermediário</td>\n",
       "      <td>3371.15</td>\n",
       "      <td>M</td>\n",
       "    </tr>\n",
       "    <tr>\n",
       "      <th>11</th>\n",
       "      <td>SC</td>\n",
       "      <td>41</td>\n",
       "      <td>Pós-graduação</td>\n",
       "      <td>Intermediário</td>\n",
       "      <td>2396.01</td>\n",
       "      <td>M</td>\n",
       "    </tr>\n",
       "    <tr>\n",
       "      <th>...</th>\n",
       "      <td>...</td>\n",
       "      <td>...</td>\n",
       "      <td>...</td>\n",
       "      <td>...</td>\n",
       "      <td>...</td>\n",
       "      <td>...</td>\n",
       "    </tr>\n",
       "    <tr>\n",
       "      <th>984</th>\n",
       "      <td>AP</td>\n",
       "      <td>31</td>\n",
       "      <td>Médio</td>\n",
       "      <td>Intermediário</td>\n",
       "      <td>2773.52</td>\n",
       "      <td>F</td>\n",
       "    </tr>\n",
       "    <tr>\n",
       "      <th>985</th>\n",
       "      <td>ES</td>\n",
       "      <td>55</td>\n",
       "      <td>Fundamental</td>\n",
       "      <td>Intermediário</td>\n",
       "      <td>2040.56</td>\n",
       "      <td>M</td>\n",
       "    </tr>\n",
       "    <tr>\n",
       "      <th>990</th>\n",
       "      <td>TO</td>\n",
       "      <td>60</td>\n",
       "      <td>Fundamental</td>\n",
       "      <td>Intermediário</td>\n",
       "      <td>2511.15</td>\n",
       "      <td>M</td>\n",
       "    </tr>\n",
       "    <tr>\n",
       "      <th>997</th>\n",
       "      <td>GO</td>\n",
       "      <td>27</td>\n",
       "      <td>Pós-graduação</td>\n",
       "      <td>Intermediário</td>\n",
       "      <td>1405.30</td>\n",
       "      <td>F</td>\n",
       "    </tr>\n",
       "    <tr>\n",
       "      <th>999</th>\n",
       "      <td>MG</td>\n",
       "      <td>19</td>\n",
       "      <td>Superior</td>\n",
       "      <td>Intermediário</td>\n",
       "      <td>2467.30</td>\n",
       "      <td>F</td>\n",
       "    </tr>\n",
       "  </tbody>\n",
       "</table>\n",
       "<p>329 rows × 6 columns</p>\n",
       "</div>"
      ],
      "text/plain": [
       "    estado  idade   escolaridade nível de proficiência em inglês    renda sexo\n",
       "0       MA     56    Fundamental                   Intermediário  4006.29    F\n",
       "2       AM     32    Fundamental                   Intermediário  3835.69    M\n",
       "6       DF     56          Médio                   Intermediário   528.36    F\n",
       "10      AC     28       Superior                   Intermediário  3371.15    M\n",
       "11      SC     41  Pós-graduação                   Intermediário  2396.01    M\n",
       "..     ...    ...            ...                             ...      ...  ...\n",
       "984     AP     31          Médio                   Intermediário  2773.52    F\n",
       "985     ES     55    Fundamental                   Intermediário  2040.56    M\n",
       "990     TO     60    Fundamental                   Intermediário  2511.15    M\n",
       "997     GO     27  Pós-graduação                   Intermediário  1405.30    F\n",
       "999     MG     19       Superior                   Intermediário  2467.30    F\n",
       "\n",
       "[329 rows x 6 columns]"
      ]
     },
     "execution_count": 85,
     "metadata": {},
     "output_type": "execute_result"
    }
   ],
   "source": [
    "nivel_en_intermediario"
   ]
  },
  {
   "cell_type": "code",
   "execution_count": 83,
   "metadata": {},
   "outputs": [
    {
     "name": "stdout",
     "output_type": "stream",
     "text": [
      "A Margem de erro amostral da proporção populacional usando significância de 95% é aproximadamente 0.0291 ou 2.91%\n"
     ]
    }
   ],
   "source": [
    "# Acredito que o nivel de confiança vá ser 95% o Z é 1,96 pra calculos\n",
    "\n",
    "#  Z*raiz((p * (1 - p) )/ n )\n",
    "\n",
    "margem_erro=1.96*np.sqrt((prop_en_intermediario*prop_complementar_en_int)/len(df_limpo))\n",
    "print(f\"A Margem de erro amostral da proporção populacional usando significância de 95% é aproximadamente {margem_erro:.4f} ou {margem_erro*100:.3}%\")"
   ]
  },
  {
   "cell_type": "code",
   "execution_count": null,
   "metadata": {},
   "outputs": [],
   "source": [
    "# # Achei que a professora fazia assim:\n",
    "\n",
    "# n=len(prop_en_intermediario)\n",
    "# a = 0.05\n",
    "# z = stats.norm.ppf(1-a/2,0,1)\n",
    "\n",
    "# ### n = ((z*sigma_linha)/me)**2\n",
    "\n",
    "# ### margem , me = 2%\n",
    "# me = 0.02\n",
    "# n = round(((z*sigma_linha)/me)**2,0)\n",
    "# print(\"O tamanho da amostra serÃ¡ de \"+str(n)+\" para margem de erro de 2% e 5% de significancia\")"
   ]
  },
  {
   "cell_type": "markdown",
   "metadata": {},
   "source": [
    "Tive dúvidas em relação ao cálculo para isso, mas percebi que a margem de erro é pela proporção então fiz a proporção e o complemento para o cálculo\n",
    "\n",
    "Z*raiz((p * (1 - p) )/ n )"
   ]
  },
  {
   "cell_type": "markdown",
   "metadata": {},
   "source": [
    "9. Calcula a renda da população. Qual a probabilidade de encontrar 60\n",
    "pessoas com uma renda mil reais superior à média?\n"
   ]
  },
  {
   "cell_type": "code",
   "execution_count": 87,
   "metadata": {},
   "outputs": [
    {
     "data": {
      "text/plain": [
       "count    1000.000000\n",
       "mean     3082.537180\n",
       "std       996.572239\n",
       "min       103.740000\n",
       "25%      2425.815000\n",
       "50%      3076.415000\n",
       "75%      3714.487500\n",
       "max      5632.380000\n",
       "Name: renda, dtype: float64"
      ]
     },
     "execution_count": 87,
     "metadata": {},
     "output_type": "execute_result"
    }
   ],
   "source": [
    "df_limpo['renda'].describe()"
   ]
  },
  {
   "cell_type": "code",
   "execution_count": 132,
   "metadata": {},
   "outputs": [
    {
     "name": "stdout",
     "output_type": "stream",
     "text": [
      "161\n",
      "0.161\n",
      "A probabilidade de 60 pessoas terem mil reais acima da média é: 1.099520565163774e-22%\n"
     ]
    }
   ],
   "source": [
    "renda_media=df_limpo['renda'].describe().loc['mean']\n",
    "\n",
    "populacao_renda_acima=df_limpo[df_limpo['renda']>(renda_media+1000)]\n",
    "\n",
    "print(len(populacao_renda_acima))\n",
    "\n",
    "prop_renda_acima=len(populacao_renda_acima)/len(df_limpo)\n",
    "print(prop_renda_acima)\n",
    "\n",
    "n=len(df_limpo)\n",
    "k=60\n",
    "\n",
    "# n, p, loc=0  \n",
    "# n é tentativas, p a probabilidade de sucesso\n",
    "prob_60_pessoas_renda_acima=stats.binom.pmf(k,n,prop_renda_acima)\n",
    "print(f\"A probabilidade de encontrar 60 pessoas com renda mil reais superior à média é: {prob_60_pessoas_renda_acima}%\")"
   ]
  },
  {
   "cell_type": "markdown",
   "metadata": {},
   "source": [
    "O valor da probabilidade é muito pequeno, da ordem de x10^−22\n",
    "O que significa que a chance de encontrar exatamente 60 pessoas com uma renda superior a mil reais acima da média em uma amostra de 1000 pessoas é praticamente zero."
   ]
  },
  {
   "cell_type": "code",
   "execution_count": 105,
   "metadata": {},
   "outputs": [
    {
     "name": "stdout",
     "output_type": "stream",
     "text": [
      "A probabilidade acumulada de até 60 pessoas é: 0.0000000%\n"
     ]
    }
   ],
   "source": [
    "\n",
    "prob_acumulada = stats.binom.cdf(60, len(df_limpo), prop_renda_acima)\n",
    "print(f\"A probabilidade acumulada de até 60 pessoas é: {prob_acumulada*100:.7f}%\")"
   ]
  },
  {
   "cell_type": "code",
   "execution_count": 108,
   "metadata": {},
   "outputs": [
    {
     "name": "stdout",
     "output_type": "stream",
     "text": [
      "3082.5371800000003\n",
      "996.572239312141\n",
      "0.15782441468557806\n",
      "A probabilidade de encontrar 60 pessoas com uma renda mil reais superior à média é 1.0000\n"
     ]
    }
   ],
   "source": [
    "renda_media = df['renda'].mean()\n",
    "limite = renda_media + 1000\n",
    "\n",
    "# Calcular a probabilidade de encontrar 60 pessoas com renda superior ao limite\n",
    "# Primeiro, calcular a média e desvio padrão da renda\n",
    "media = df['renda'].mean()\n",
    "desvio_padrao = df['renda'].std()\n",
    "print(media)\n",
    "print(desvio_padrao)\n",
    "# Calcular a probabilidade de uma pessoa ter renda superior ao limite\n",
    "probabilidade_individual = 1 - stats.norm.cdf(limite, loc=media, scale=desvio_padrao)\n",
    "\n",
    "print(probabilidade_individual)\n",
    "\n",
    "# Para encontrar 60 pessoas com essa característica, assumimos uma distribuição binomial\n",
    "n = len(df)  # número total de pessoas na população\n",
    "k = 60       # número de pessoas que queremos encontrar\n",
    "\n",
    "# A fórmula para a probabilidade de encontrar exatamente k pessoas é a binomial\n",
    "# Para simplificar, estamos apenas calculando a probabilidade de encontrar ao menos k pessoas\n",
    "# Isto pode ser feito com a fórmula acumulada da distribuição binomial\n",
    "probabilidade_60_pessoas = 1 - stats.binom.cdf(k-1, n, probabilidade_individual)\n",
    "\n",
    "print(f\"A probabilidade de encontrar 60 pessoas com uma renda mil reais superior à média é {probabilidade_60_pessoas:.4f}\")"
   ]
  },
  {
   "cell_type": "markdown",
   "metadata": {},
   "source": [
    "O valor é muito baixo, já que para uma população de 1000 pessoas, a expectativa seria que apenas cerca de 161 pessoas tivessem renda acima da média por mais de 1000 reais, tornando 60 um número improvável."
   ]
  },
  {
   "cell_type": "markdown",
   "metadata": {},
   "source": [
    "10. Qual a probabilidade de escolhermos alguém do Sudeste que seja\n",
    "homem, com ensino fundamental e com renda maior que 2 mil reais por\n",
    "mês?"
   ]
  },
  {
   "cell_type": "code",
   "execution_count": 114,
   "metadata": {},
   "outputs": [
    {
     "data": {
      "text/plain": [
       "0        Fundamental\n",
       "1           Superior\n",
       "2        Fundamental\n",
       "3           Superior\n",
       "4        Fundamental\n",
       "           ...      \n",
       "995            Médio\n",
       "996      Fundamental\n",
       "997    Pós-graduação\n",
       "998      Fundamental\n",
       "999         Superior\n",
       "Name: escolaridade, Length: 1000, dtype: category\n",
       "Categories (4, object): ['Fundamental' < 'Médio' < 'Superior' < 'Pós-graduação']"
      ]
     },
     "execution_count": 114,
     "metadata": {},
     "output_type": "execute_result"
    }
   ],
   "source": [
    "df_limpo['escolaridade']"
   ]
  },
  {
   "cell_type": "code",
   "execution_count": 117,
   "metadata": {},
   "outputs": [
    {
     "name": "stdout",
     "output_type": "stream",
     "text": [
      "A probabilidade de escolhermos alguém do Sudeste que seja homem, com ensino fundamental e com renda maior que 2 mil reais por mês é: 0.019\n"
     ]
    }
   ],
   "source": [
    "filtro_sudeste=df_limpo[df_limpo['estado'].isin(['RJ', 'SP', 'MG', 'ES'])]\n",
    "filtro_homem= filtro_sudeste[filtro_sudeste['sexo']=='M']\n",
    "filtro_ensino= filtro_homem[filtro_homem['escolaridade']=='Fundamental']\n",
    "filtro_renda= filtro_ensino[filtro_ensino['renda']>2000]\n",
    "\n",
    "filtro_renda\n",
    "\n",
    "prob_sudeste_man_fundamental_renda=len(filtro_renda)/len(df_limpo)\n",
    "\n",
    "print(\"A probabilidade de escolhermos alguém do Sudeste que seja homem, com ensino fundamental e com renda maior que 2 mil reais por mês é:\",prob_sudeste_man_fundamental_renda)\n"
   ]
  }
 ],
 "metadata": {
  "kernelspec": {
   "display_name": "Python 3",
   "language": "python",
   "name": "python3"
  },
  "language_info": {
   "codemirror_mode": {
    "name": "ipython",
    "version": 3
   },
   "file_extension": ".py",
   "mimetype": "text/x-python",
   "name": "python",
   "nbconvert_exporter": "python",
   "pygments_lexer": "ipython3",
   "version": "3.12.2"
  }
 },
 "nbformat": 4,
 "nbformat_minor": 2
}
