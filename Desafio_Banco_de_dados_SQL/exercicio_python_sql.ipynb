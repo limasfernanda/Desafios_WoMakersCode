{
 "cells": [
  {
   "cell_type": "markdown",
   "metadata": {},
   "source": [
    "# Semana 7 [Exercícios] - SQL"
   ]
  },
  {
   "cell_type": "code",
   "execution_count": 1,
   "metadata": {},
   "outputs": [],
   "source": [
    "import sqlite3"
   ]
  },
  {
   "cell_type": "code",
   "execution_count": 2,
   "metadata": {},
   "outputs": [],
   "source": [
    "conexao=sqlite3.connect('exercicio_sql')\n",
    "cursor=conexao.cursor()"
   ]
  },
  {
   "cell_type": "markdown",
   "metadata": {},
   "source": [
    "1. Crie uma tabela chamada \"alunos\" com os seguintes campos: id\n",
    "(inteiro), nome (texto), idade (inteiro) e curso (texto).\n"
   ]
  },
  {
   "cell_type": "code",
   "execution_count": 6,
   "metadata": {},
   "outputs": [
    {
     "data": {
      "text/plain": [
       "<sqlite3.Cursor at 0x16cd88cd340>"
      ]
     },
     "execution_count": 6,
     "metadata": {},
     "output_type": "execute_result"
    }
   ],
   "source": [
    "cursor.execute('CREATE TABLE alunos(id INT , nome VARCHAR(100) , idade INT , curso VARCHAR(100))')"
   ]
  },
  {
   "cell_type": "markdown",
   "metadata": {},
   "source": [
    "2. Insira pelo menos 5 registros de alunos na tabela que você criou no\n",
    "exercício anterior.\n"
   ]
  },
  {
   "cell_type": "code",
   "execution_count": 9,
   "metadata": {},
   "outputs": [
    {
     "data": {
      "text/plain": [
       "<sqlite3.Cursor at 0x16cd88cd340>"
      ]
     },
     "execution_count": 9,
     "metadata": {},
     "output_type": "execute_result"
    }
   ],
   "source": [
    "cursor.execute('INSERT INTO alunos(id, nome, idade, curso) VALUES (1, \"Cristiane da Paz\" , 27 , \"Arquitetura\")')\n",
    "cursor.execute('INSERT INTO alunos(id, nome, idade, curso) VALUES (2, \"Débora Campos\" , 26 , \"Engenharia\")')\n",
    "cursor.execute('INSERT INTO alunos(id, nome, idade, curso) VALUES (3, \"Jorge Nicolas\" , 20 , \"Fisioterapia\")')\n",
    "cursor.execute('INSERT INTO alunos(id, nome, idade, curso) VALUES (4, \"Guilherme Aragão\", 17 , \"Engenharia\")')\n",
    "cursor.execute('INSERT INTO alunos(id, nome, idade, curso) VALUES (5, \"Camila Assis\" , 23 , \"Física\")')\n"
   ]
  },
  {
   "cell_type": "markdown",
   "metadata": {},
   "source": [
    "3. Consultas Básicas\n",
    "Escreva consultas SQL para realizar as seguintes tarefas:"
   ]
  },
  {
   "cell_type": "markdown",
   "metadata": {},
   "source": [
    "a) Selecionar todos os registros da tabela \"alunos\".\n"
   ]
  },
  {
   "cell_type": "code",
   "execution_count": 15,
   "metadata": {},
   "outputs": [
    {
     "name": "stdout",
     "output_type": "stream",
     "text": [
      "(1, 'Cristiane da Paz', 27, 'Arquitetura')\n",
      "(2, 'Débora Campos', 26, 'Engenharia')\n",
      "(3, 'Jorge Nicolas', 20, 'Fisioterapia')\n",
      "(4, 'Guilherme Aragão', 17, 'Engenharia')\n",
      "(5, 'Camila Assis', 23, 'Física')\n"
     ]
    }
   ],
   "source": [
    "dados= cursor.execute('SELECT * FROM alunos')\n",
    "for alunos in dados:\n",
    "    print(alunos)"
   ]
  },
  {
   "cell_type": "markdown",
   "metadata": {},
   "source": [
    "b) Selecionar o nome e a idade dos alunos com mais de 20 anos"
   ]
  },
  {
   "cell_type": "code",
   "execution_count": 17,
   "metadata": {},
   "outputs": [
    {
     "name": "stdout",
     "output_type": "stream",
     "text": [
      "('Cristiane da Paz', 27)\n",
      "('Débora Campos', 26)\n",
      "('Camila Assis', 23)\n"
     ]
    }
   ],
   "source": [
    "dados=cursor.execute('SELECT nome, idade FROM alunos WHERE idade>20')\n",
    "\n",
    "for alunos in dados:\n",
    "    print(alunos)"
   ]
  },
  {
   "cell_type": "markdown",
   "metadata": {},
   "source": [
    "c) Selecionar os alunos do curso de \"Engenharia\" em ordem\n",
    "alfabética"
   ]
  },
  {
   "cell_type": "code",
   "execution_count": 23,
   "metadata": {},
   "outputs": [
    {
     "name": "stdout",
     "output_type": "stream",
     "text": [
      "(2, 'Débora Campos', 26, 'Engenharia')\n",
      "(4, 'Guilherme Aragão', 17, 'Engenharia')\n"
     ]
    }
   ],
   "source": [
    "dados=cursor.execute('SELECT * FROM alunos WHERE curso = \"Engenharia\" ORDER BY nome')\n",
    "\n",
    "for alunos in dados:\n",
    "    print(alunos)"
   ]
  },
  {
   "cell_type": "markdown",
   "metadata": {},
   "source": [
    "d) Contar o número total de alunos na tabela\n"
   ]
  },
  {
   "cell_type": "code",
   "execution_count": 33,
   "metadata": {},
   "outputs": [
    {
     "name": "stdout",
     "output_type": "stream",
     "text": [
      "O número total de alunos na tabela é 5\n"
     ]
    }
   ],
   "source": [
    "dados= cursor.execute('SELECT * FROM alunos')\n",
    "contagem=[]\n",
    "for alunos in dados:\n",
    "    contagem.append(alunos)\n",
    "\n",
    "print(f\"O número total de alunos na tabela é {len(contagem)}\")"
   ]
  },
  {
   "cell_type": "markdown",
   "metadata": {},
   "source": [
    "4. Atualização e Remoção\n"
   ]
  },
  {
   "cell_type": "markdown",
   "metadata": {},
   "source": [
    "a) Atualize a idade de um aluno específico na tabela."
   ]
  },
  {
   "cell_type": "code",
   "execution_count": 34,
   "metadata": {},
   "outputs": [
    {
     "data": {
      "text/plain": [
       "<sqlite3.Cursor at 0x16cd88cd340>"
      ]
     },
     "execution_count": 34,
     "metadata": {},
     "output_type": "execute_result"
    }
   ],
   "source": [
    "cursor.execute('UPDATE alunos SET idade=20 WHERE nome=\"Camila Assis\"')"
   ]
  },
  {
   "cell_type": "markdown",
   "metadata": {},
   "source": [
    "b) Remova um aluno pelo seu ID.\n"
   ]
  },
  {
   "cell_type": "code",
   "execution_count": 36,
   "metadata": {},
   "outputs": [
    {
     "data": {
      "text/plain": [
       "<sqlite3.Cursor at 0x16cd88cd340>"
      ]
     },
     "execution_count": 36,
     "metadata": {},
     "output_type": "execute_result"
    }
   ],
   "source": [
    "cursor.execute('DELETE FROM alunos WHERE id=5')"
   ]
  },
  {
   "cell_type": "markdown",
   "metadata": {},
   "source": [
    "5. Criar uma Tabela e Inserir Dados\n",
    "\n",
    "Crie uma tabela chamada \"clientes\" com os campos: id (chave\n",
    "primária), nome (texto), idade (inteiro) e saldo (float). Insira alguns\n",
    "registros de clientes na tabela."
   ]
  },
  {
   "cell_type": "code",
   "execution_count": 44,
   "metadata": {},
   "outputs": [
    {
     "data": {
      "text/plain": [
       "<sqlite3.Cursor at 0x16cd88cd340>"
      ]
     },
     "execution_count": 44,
     "metadata": {},
     "output_type": "execute_result"
    }
   ],
   "source": [
    "cursor.execute('CREATE TABLE clientes(id INT PRIMARY KEY, nome VARCHAR(100), idade INT, saldo FLOAT)')\n",
    "\n",
    "# Como colocar autoincremento?"
   ]
  },
  {
   "cell_type": "code",
   "execution_count": 51,
   "metadata": {},
   "outputs": [
    {
     "data": {
      "text/plain": [
       "<sqlite3.Cursor at 0x16cd88cd340>"
      ]
     },
     "execution_count": 51,
     "metadata": {},
     "output_type": "execute_result"
    }
   ],
   "source": [
    "cursor.execute('INSERT INTO clientes(id,nome,idade,saldo) VALUES(1, \"Cristiane da Paz\" , 27 , 1200)')\n",
    "cursor.execute('INSERT INTO clientes(id,nome,idade,saldo) VALUES(2, \"Joana da Paz\" , 48 , 9038)')\n",
    "cursor.execute('INSERT INTO clientes(id,nome,idade,saldo) VALUES(3, \"Geraldo Carlos\" , 32 , 6200)')\n",
    "cursor.execute('INSERT INTO clientes(id,nome,idade,saldo) VALUES(4, \"Guilherme Aragão\" , 17 , 600)')\n",
    "cursor.execute('INSERT INTO clientes(id,nome,idade,saldo) VALUES(5, \"Elza Yasmin\" , 20 , 800)')\n",
    "\n",
    "# Ao colocar 9600 ele entende no SQL que é 9.600, os 9 mil e pouco\n",
    "# Se na inserção eu colocar 9.600 ele entende como 9,6 um número baixo"
   ]
  },
  {
   "cell_type": "code",
   "execution_count": 49,
   "metadata": {},
   "outputs": [
    {
     "data": {
      "text/plain": [
       "<sqlite3.Cursor at 0x16cd88cd340>"
      ]
     },
     "execution_count": 49,
     "metadata": {},
     "output_type": "execute_result"
    }
   ],
   "source": [
    "#cursor.execute('DELETE FROM clientes')"
   ]
  },
  {
   "cell_type": "markdown",
   "metadata": {},
   "source": [
    "6. Consultas e Funções Agregadas\n",
    "\n",
    "Escreva consultas SQL para realizar as seguintes tarefas:"
   ]
  },
  {
   "cell_type": "markdown",
   "metadata": {},
   "source": [
    "a) Selecione o nome e a idade dos clientes com idade superior a\n",
    "30 anos."
   ]
  },
  {
   "cell_type": "code",
   "execution_count": 54,
   "metadata": {},
   "outputs": [
    {
     "name": "stdout",
     "output_type": "stream",
     "text": [
      "('Joana da Paz', 48)\n",
      "('Geraldo Carlos', 32)\n"
     ]
    }
   ],
   "source": [
    "dados= cursor.execute('SELECT nome, idade FROM clientes WHERE idade>30')\n",
    "for maisque30 in dados:\n",
    "    print(maisque30)\n"
   ]
  },
  {
   "cell_type": "markdown",
   "metadata": {},
   "source": [
    "b) Calcule o saldo médio dos clientes.\n"
   ]
  },
  {
   "cell_type": "code",
   "execution_count": 58,
   "metadata": {},
   "outputs": [
    {
     "name": "stdout",
     "output_type": "stream",
     "text": [
      "O saldo médio dos clientes é 3567.6\n"
     ]
    }
   ],
   "source": [
    "dados=cursor.execute('SELECT AVG(saldo) as \"Média\" FROM clientes ')\n",
    "\n",
    "for media_saldo in dados:\n",
    "    print(f\"O saldo médio dos clientes é {media_saldo[0]}\")"
   ]
  },
  {
   "cell_type": "markdown",
   "metadata": {},
   "source": [
    "c) Encontre o cliente com o saldo máximo"
   ]
  },
  {
   "cell_type": "code",
   "execution_count": 62,
   "metadata": {},
   "outputs": [
    {
     "name": "stdout",
     "output_type": "stream",
     "text": [
      "(2, 'Joana da Paz', 9038.0)\n"
     ]
    }
   ],
   "source": [
    "dados=cursor.execute('SELECT id, nome, MAX(saldo) FROM clientes')\n",
    "\n",
    "for maximo in dados:\n",
    "    print(maximo)\n"
   ]
  },
  {
   "cell_type": "markdown",
   "metadata": {},
   "source": [
    "d) Conte quantos clientes têm saldo acima de 1000.\n"
   ]
  },
  {
   "cell_type": "code",
   "execution_count": 66,
   "metadata": {},
   "outputs": [
    {
     "name": "stdout",
     "output_type": "stream",
     "text": [
      "Existe 3 clientes com saldo acima de 1000\n",
      "(1, 'Cristiane da Paz', 27, 1200.0)\n",
      "(2, 'Joana da Paz', 48, 9038.0)\n",
      "(3, 'Geraldo Carlos', 32, 6200.0)\n"
     ]
    }
   ],
   "source": [
    "dados=cursor.execute('SELECT COUNT(nome) FROM clientes WHERE saldo>1000')\n",
    "\n",
    "for saldo_grande in dados:\n",
    "    print(f\"Existe {saldo_grande[0]} clientes com saldo acima de 1000\")\n",
    "\n",
    "# Queria ver quem eram\n",
    "\n",
    "dados=cursor.execute('SELECT * FROM clientes WHERE saldo>1000')\n",
    "\n",
    "for saldo_grande in dados:\n",
    "    print(saldo_grande)"
   ]
  },
  {
   "cell_type": "markdown",
   "metadata": {},
   "source": [
    "7. Atualização e Remoção com Condições\n",
    "\n",
    "a) Atualize o saldo de um cliente específico.\n"
   ]
  },
  {
   "cell_type": "code",
   "execution_count": 70,
   "metadata": {},
   "outputs": [
    {
     "data": {
      "text/plain": [
       "<sqlite3.Cursor at 0x16cd88cd340>"
      ]
     },
     "execution_count": 70,
     "metadata": {},
     "output_type": "execute_result"
    }
   ],
   "source": [
    "cursor.execute('UPDATE clientes SET saldo=9000 WHERE nome=\"Joana da Paz\"')"
   ]
  },
  {
   "cell_type": "markdown",
   "metadata": {},
   "source": [
    "b) Remova um cliente pelo seu ID.\n"
   ]
  },
  {
   "cell_type": "code",
   "execution_count": 72,
   "metadata": {},
   "outputs": [
    {
     "data": {
      "text/plain": [
       "<sqlite3.Cursor at 0x16cd88cd340>"
      ]
     },
     "execution_count": 72,
     "metadata": {},
     "output_type": "execute_result"
    }
   ],
   "source": [
    "cursor.execute('DELETE FROM clientes WHERE id=5')\n",
    "# Elza era o id 5, foi removida"
   ]
  },
  {
   "cell_type": "markdown",
   "metadata": {},
   "source": [
    "8. Junção de Tabelas\n",
    "\n",
    "Crie uma segunda tabela chamada \"compras\" com os campos: id\n",
    "(chave primária), cliente_id (chave estrangeira referenciando o id\n",
    "da tabela \"clientes\"), produto (texto) e valor (real). Insira algumas\n",
    "compras associadas a clientes existentes na tabela \"clientes\".\n",
    "Escreva uma consulta para exibir o nome do cliente, o produto e o\n",
    "valor de cada compra."
   ]
  },
  {
   "cell_type": "code",
   "execution_count": 78,
   "metadata": {},
   "outputs": [
    {
     "data": {
      "text/plain": [
       "<sqlite3.Cursor at 0x16cd88cd340>"
      ]
     },
     "execution_count": 78,
     "metadata": {},
     "output_type": "execute_result"
    }
   ],
   "source": [
    "cursor.execute('''\n",
    "    CREATE TABLE compras (\n",
    "        id INT PRIMARY KEY,\n",
    "        cliente_id INT,\n",
    "        produto VARCHAR(100),\n",
    "        valor REAL,\n",
    "        FOREIGN KEY (cliente_id) REFERENCES clientes(id)\n",
    "    )\n",
    "''')\n"
   ]
  },
  {
   "cell_type": "markdown",
   "metadata": {},
   "source": [
    "Insira algumas compras associadas a clientes existentes na tabela \"clientes\"."
   ]
  },
  {
   "cell_type": "code",
   "execution_count": 86,
   "metadata": {},
   "outputs": [
    {
     "data": {
      "text/plain": [
       "<sqlite3.Cursor at 0x16cd88cd340>"
      ]
     },
     "execution_count": 86,
     "metadata": {},
     "output_type": "execute_result"
    }
   ],
   "source": [
    "cursor.execute('INSERT INTO compras(id,cliente_id ,produto ,valor) VALUES (1,1, \"Ventilador\", 90)')\n",
    "cursor.execute('INSERT INTO compras(id,cliente_id ,produto ,valor) VALUES (2,3, \"Alexa\", 880)')\n",
    "cursor.execute('INSERT INTO compras(id,cliente_id ,produto ,valor) VALUES (3,3, \"Videogame X-box\", 3000)')\n",
    "cursor.execute('INSERT INTO compras(id,cliente_id ,produto ,valor) VALUES (4,4, \"Box de Livros\", 120)')\n",
    "cursor.execute('INSERT INTO compras(id,cliente_id ,produto ,valor) VALUES (5,2, \"Geladeira eletrolux\", 4000)')"
   ]
  },
  {
   "cell_type": "markdown",
   "metadata": {},
   "source": [
    "Escreva uma consulta para exibir o nome do cliente, o produto e o\n",
    "valor de cada compra."
   ]
  },
  {
   "cell_type": "code",
   "execution_count": 94,
   "metadata": {},
   "outputs": [
    {
     "name": "stdout",
     "output_type": "stream",
     "text": [
      "('Cristiane da Paz', 'Ventilador', 90.0)\n",
      "('Geraldo Carlos', 'Alexa', 880.0)\n",
      "('Geraldo Carlos', 'Videogame X-box', 3000.0)\n",
      "('Guilherme Aragão', 'Box de Livros', 120.0)\n",
      "('Joana da Paz', 'Geladeira eletrolux', 4000.0)\n"
     ]
    }
   ],
   "source": [
    "# Aqui tem que se usar subqueries já que o nome do cliente está na outra tabela\n",
    "\n",
    "dados=cursor.execute('''\n",
    "               SELECT clientes.nome, compras.produto, compras.valor \n",
    "               FROM compras \n",
    "               JOIN clientes ON compras.cliente_id =clientes.id\n",
    "''')\n",
    "\n",
    "for consulta in dados:\n",
    "    print(consulta)\n",
    "\n"
   ]
  },
  {
   "cell_type": "markdown",
   "metadata": {},
   "source": [
    "Mostrando aqueles que tem salário superior à mil e suas compras"
   ]
  },
  {
   "cell_type": "code",
   "execution_count": 101,
   "metadata": {},
   "outputs": [
    {
     "name": "stdout",
     "output_type": "stream",
     "text": [
      "('Cristiane da Paz', 'Ventilador', 90.0, 1200.0)\n",
      "('Geraldo Carlos', 'Alexa', 880.0, 6200.0)\n",
      "('Geraldo Carlos', 'Videogame X-box', 3000.0, 6200.0)\n",
      "('Joana da Paz', 'Geladeira eletrolux', 4000.0, 9000.0)\n"
     ]
    }
   ],
   "source": [
    "dados=cursor.execute('''\n",
    "                SELECT clientes.nome, compras.produto, compras.valor, clientes.saldo FROM compras\n",
    "                     JOIN clientes ON clientes.id=compras.cliente_id\n",
    "                     WHERE clientes.saldo>1000\n",
    "               \n",
    "               ''')\n",
    "\n",
    "for salario_compras in dados:\n",
    "    print(salario_compras)\n"
   ]
  },
  {
   "cell_type": "code",
   "execution_count": 87,
   "metadata": {},
   "outputs": [
    {
     "data": {
      "text/plain": [
       "<function Connection.close()>"
      ]
     },
     "execution_count": 87,
     "metadata": {},
     "output_type": "execute_result"
    }
   ],
   "source": [
    "conexao.commit()\n",
    "conexao.close"
   ]
  }
 ],
 "metadata": {
  "kernelspec": {
   "display_name": "Python 3",
   "language": "python",
   "name": "python3"
  },
  "language_info": {
   "codemirror_mode": {
    "name": "ipython",
    "version": 3
   },
   "file_extension": ".py",
   "mimetype": "text/x-python",
   "name": "python",
   "nbconvert_exporter": "python",
   "pygments_lexer": "ipython3",
   "version": "3.12.2"
  }
 },
 "nbformat": 4,
 "nbformat_minor": 2
}
