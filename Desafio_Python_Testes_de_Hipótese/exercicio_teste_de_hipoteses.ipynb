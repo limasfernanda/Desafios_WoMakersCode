{
 "cells": [
  {
   "cell_type": "markdown",
   "metadata": {},
   "source": [
    "# Estatística - Teste de Hipóteses\n",
    "- Fernanda Soares Lima - Turma 7 | Data Analytics <br>\n",
    "Squad Katherine Johnson"
   ]
  },
  {
   "cell_type": "markdown",
   "metadata": {},
   "source": [
    "Considerando a base de dados experimento_test_ab.csv responda as questões abaixo:\n"
   ]
  },
  {
   "cell_type": "code",
   "execution_count": 29,
   "metadata": {},
   "outputs": [],
   "source": [
    "import numpy as np\n",
    "import pandas as pd\n",
    "import matplotlib.pyplot as plt\n",
    "import seaborn as sns\n",
    "from scipy import stats\n",
    "\n",
    "from tabulate import tabulate ## para fazer tabelas"
   ]
  },
  {
   "cell_type": "code",
   "execution_count": 30,
   "metadata": {},
   "outputs": [
    {
     "data": {
      "text/html": [
       "<div>\n",
       "<style scoped>\n",
       "    .dataframe tbody tr th:only-of-type {\n",
       "        vertical-align: middle;\n",
       "    }\n",
       "\n",
       "    .dataframe tbody tr th {\n",
       "        vertical-align: top;\n",
       "    }\n",
       "\n",
       "    .dataframe thead th {\n",
       "        text-align: right;\n",
       "    }\n",
       "</style>\n",
       "<table border=\"1\" class=\"dataframe\">\n",
       "  <thead>\n",
       "    <tr style=\"text-align: right;\">\n",
       "      <th></th>\n",
       "      <th>Visitante_ID</th>\n",
       "      <th>Versão_Página</th>\n",
       "      <th>Visualizações</th>\n",
       "      <th>Conversões</th>\n",
       "    </tr>\n",
       "  </thead>\n",
       "  <tbody>\n",
       "    <tr>\n",
       "      <th>0</th>\n",
       "      <td>1</td>\n",
       "      <td>A</td>\n",
       "      <td>167</td>\n",
       "      <td>1</td>\n",
       "    </tr>\n",
       "    <tr>\n",
       "      <th>1</th>\n",
       "      <td>2</td>\n",
       "      <td>A</td>\n",
       "      <td>160</td>\n",
       "      <td>0</td>\n",
       "    </tr>\n",
       "    <tr>\n",
       "      <th>2</th>\n",
       "      <td>3</td>\n",
       "      <td>A</td>\n",
       "      <td>170</td>\n",
       "      <td>0</td>\n",
       "    </tr>\n",
       "    <tr>\n",
       "      <th>3</th>\n",
       "      <td>4</td>\n",
       "      <td>A</td>\n",
       "      <td>161</td>\n",
       "      <td>1</td>\n",
       "    </tr>\n",
       "    <tr>\n",
       "      <th>4</th>\n",
       "      <td>5</td>\n",
       "      <td>A</td>\n",
       "      <td>104</td>\n",
       "      <td>0</td>\n",
       "    </tr>\n",
       "  </tbody>\n",
       "</table>\n",
       "</div>"
      ],
      "text/plain": [
       "   Visitante_ID Versão_Página  Visualizações  Conversões\n",
       "0             1             A            167           1\n",
       "1             2             A            160           0\n",
       "2             3             A            170           0\n",
       "3             4             A            161           1\n",
       "4             5             A            104           0"
      ]
     },
     "execution_count": 30,
     "metadata": {},
     "output_type": "execute_result"
    }
   ],
   "source": [
    "df_experimento=pd.read_csv('experimento_teste_ab.csv')\n",
    "df_experimento.head()"
   ]
  },
  {
   "cell_type": "code",
   "execution_count": 31,
   "metadata": {},
   "outputs": [
    {
     "data": {
      "text/html": [
       "<div>\n",
       "<style scoped>\n",
       "    .dataframe tbody tr th:only-of-type {\n",
       "        vertical-align: middle;\n",
       "    }\n",
       "\n",
       "    .dataframe tbody tr th {\n",
       "        vertical-align: top;\n",
       "    }\n",
       "\n",
       "    .dataframe thead th {\n",
       "        text-align: right;\n",
       "    }\n",
       "</style>\n",
       "<table border=\"1\" class=\"dataframe\">\n",
       "  <thead>\n",
       "    <tr style=\"text-align: right;\">\n",
       "      <th></th>\n",
       "      <th>A</th>\n",
       "      <th>B</th>\n",
       "    </tr>\n",
       "  </thead>\n",
       "  <tbody>\n",
       "    <tr>\n",
       "      <th>0</th>\n",
       "      <td>1</td>\n",
       "      <td>0</td>\n",
       "    </tr>\n",
       "    <tr>\n",
       "      <th>1</th>\n",
       "      <td>1</td>\n",
       "      <td>0</td>\n",
       "    </tr>\n",
       "    <tr>\n",
       "      <th>2</th>\n",
       "      <td>1</td>\n",
       "      <td>0</td>\n",
       "    </tr>\n",
       "    <tr>\n",
       "      <th>3</th>\n",
       "      <td>1</td>\n",
       "      <td>0</td>\n",
       "    </tr>\n",
       "    <tr>\n",
       "      <th>4</th>\n",
       "      <td>1</td>\n",
       "      <td>0</td>\n",
       "    </tr>\n",
       "  </tbody>\n",
       "</table>\n",
       "</div>"
      ],
      "text/plain": [
       "   A  B\n",
       "0  1  0\n",
       "1  1  0\n",
       "2  1  0\n",
       "3  1  0\n",
       "4  1  0"
      ]
     },
     "execution_count": 31,
     "metadata": {},
     "output_type": "execute_result"
    }
   ],
   "source": [
    "df_experimento['Versão_Página'].str.get_dummies().head()"
   ]
  },
  {
   "cell_type": "code",
   "execution_count": 32,
   "metadata": {},
   "outputs": [
    {
     "data": {
      "text/plain": [
       "2000"
      ]
     },
     "execution_count": 32,
     "metadata": {},
     "output_type": "execute_result"
    }
   ],
   "source": [
    "df_experimento['Visitante_ID'].value_counts().sum()\n",
    "len(df_experimento)"
   ]
  },
  {
   "cell_type": "code",
   "execution_count": 33,
   "metadata": {},
   "outputs": [
    {
     "name": "stdout",
     "output_type": "stream",
     "text": [
      "<class 'pandas.core.frame.DataFrame'>\n",
      "RangeIndex: 2000 entries, 0 to 1999\n",
      "Data columns (total 4 columns):\n",
      " #   Column         Non-Null Count  Dtype \n",
      "---  ------         --------------  ----- \n",
      " 0   Visitante_ID   2000 non-null   int64 \n",
      " 1   Versão_Página  2000 non-null   object\n",
      " 2   Visualizações  2000 non-null   int64 \n",
      " 3   Conversões     2000 non-null   int64 \n",
      "dtypes: int64(3), object(1)\n",
      "memory usage: 62.6+ KB\n"
     ]
    }
   ],
   "source": [
    "df_experimento.info()"
   ]
  },
  {
   "cell_type": "code",
   "execution_count": 34,
   "metadata": {},
   "outputs": [
    {
     "data": {
      "text/html": [
       "<div>\n",
       "<style scoped>\n",
       "    .dataframe tbody tr th:only-of-type {\n",
       "        vertical-align: middle;\n",
       "    }\n",
       "\n",
       "    .dataframe tbody tr th {\n",
       "        vertical-align: top;\n",
       "    }\n",
       "\n",
       "    .dataframe thead th {\n",
       "        text-align: right;\n",
       "    }\n",
       "</style>\n",
       "<table border=\"1\" class=\"dataframe\">\n",
       "  <thead>\n",
       "    <tr style=\"text-align: right;\">\n",
       "      <th></th>\n",
       "      <th>Visitante_ID</th>\n",
       "      <th>Visualizações</th>\n",
       "      <th>Conversões</th>\n",
       "    </tr>\n",
       "  </thead>\n",
       "  <tbody>\n",
       "    <tr>\n",
       "      <th>count</th>\n",
       "      <td>2000.000000</td>\n",
       "      <td>2000.000000</td>\n",
       "      <td>2000.000000</td>\n",
       "    </tr>\n",
       "    <tr>\n",
       "      <th>mean</th>\n",
       "      <td>1000.500000</td>\n",
       "      <td>150.755500</td>\n",
       "      <td>0.115000</td>\n",
       "    </tr>\n",
       "    <tr>\n",
       "      <th>std</th>\n",
       "      <td>577.494589</td>\n",
       "      <td>28.809421</td>\n",
       "      <td>0.319102</td>\n",
       "    </tr>\n",
       "    <tr>\n",
       "      <th>min</th>\n",
       "      <td>1.000000</td>\n",
       "      <td>100.000000</td>\n",
       "      <td>0.000000</td>\n",
       "    </tr>\n",
       "    <tr>\n",
       "      <th>25%</th>\n",
       "      <td>500.750000</td>\n",
       "      <td>126.000000</td>\n",
       "      <td>0.000000</td>\n",
       "    </tr>\n",
       "    <tr>\n",
       "      <th>50%</th>\n",
       "      <td>1000.500000</td>\n",
       "      <td>151.000000</td>\n",
       "      <td>0.000000</td>\n",
       "    </tr>\n",
       "    <tr>\n",
       "      <th>75%</th>\n",
       "      <td>1500.250000</td>\n",
       "      <td>175.000000</td>\n",
       "      <td>0.000000</td>\n",
       "    </tr>\n",
       "    <tr>\n",
       "      <th>max</th>\n",
       "      <td>2000.000000</td>\n",
       "      <td>199.000000</td>\n",
       "      <td>1.000000</td>\n",
       "    </tr>\n",
       "  </tbody>\n",
       "</table>\n",
       "</div>"
      ],
      "text/plain": [
       "       Visitante_ID  Visualizações   Conversões\n",
       "count   2000.000000    2000.000000  2000.000000\n",
       "mean    1000.500000     150.755500     0.115000\n",
       "std      577.494589      28.809421     0.319102\n",
       "min        1.000000     100.000000     0.000000\n",
       "25%      500.750000     126.000000     0.000000\n",
       "50%     1000.500000     151.000000     0.000000\n",
       "75%     1500.250000     175.000000     0.000000\n",
       "max     2000.000000     199.000000     1.000000"
      ]
     },
     "execution_count": 34,
     "metadata": {},
     "output_type": "execute_result"
    }
   ],
   "source": [
    "df_experimento.describe()"
   ]
  },
  {
   "cell_type": "code",
   "execution_count": 35,
   "metadata": {},
   "outputs": [
    {
     "data": {
      "image/png": "[encoded data removed]",
      "text/plain": [
       "<Figure size 1600x800 with 2 Axes>"
      ]
     },
     "metadata": {},
     "output_type": "display_data"
    }
   ],
   "source": [
    "plt.figure(figsize=(16, 8))\n",
    "\n",
    "plt.subplot(1, 2, 1)\n",
    "sns.histplot(df_experimento['Visualizações'], kde=True, color='blue')\n",
    "plt.title(f'Histograma de Visualizações',loc='center')\n",
    "plt.xlabel('Visualizações')\n",
    "plt.ylabel('Densidade')\n",
    "\n",
    "plt.subplot(1, 2, 2)\n",
    "sns.boxplot(data=df_experimento, x='Visualizações', color='blue')\n",
    "plt.title(f'Boxplot de Visualizações')\n",
    "plt.tight_layout()\n",
    "plt.show()"
   ]
  },
  {
   "cell_type": "markdown",
   "metadata": {},
   "source": [
    "# Questão 1 \n",
    "1.\tQual dos cenários tem a maior taxa de conversão?"
   ]
  },
  {
   "cell_type": "code",
   "execution_count": 36,
   "metadata": {},
   "outputs": [],
   "source": [
    "df_versao_A=df_experimento[df_experimento['Versão_Página']=='A']\n",
    "df_versao_B=df_experimento[df_experimento['Versão_Página']=='B']"
   ]
  },
  {
   "cell_type": "markdown",
   "metadata": {},
   "source": [
    "Achei a questão muito mal explicada, mas acredito que tem que ver a quantidade para cada versão"
   ]
  },
  {
   "cell_type": "code",
   "execution_count": 37,
   "metadata": {},
   "outputs": [
    {
     "data": {
      "text/html": [
       "<div>\n",
       "<style scoped>\n",
       "    .dataframe tbody tr th:only-of-type {\n",
       "        vertical-align: middle;\n",
       "    }\n",
       "\n",
       "    .dataframe tbody tr th {\n",
       "        vertical-align: top;\n",
       "    }\n",
       "\n",
       "    .dataframe thead th {\n",
       "        text-align: right;\n",
       "    }\n",
       "</style>\n",
       "<table border=\"1\" class=\"dataframe\">\n",
       "  <thead>\n",
       "    <tr style=\"text-align: right;\">\n",
       "      <th></th>\n",
       "      <th>Visualizações</th>\n",
       "    </tr>\n",
       "    <tr>\n",
       "      <th>Versão_Página</th>\n",
       "      <th></th>\n",
       "    </tr>\n",
       "  </thead>\n",
       "  <tbody>\n",
       "    <tr>\n",
       "      <th>A</th>\n",
       "      <td>150835</td>\n",
       "    </tr>\n",
       "    <tr>\n",
       "      <th>B</th>\n",
       "      <td>150676</td>\n",
       "    </tr>\n",
       "  </tbody>\n",
       "</table>\n",
       "</div>"
      ],
      "text/plain": [
       "               Visualizações\n",
       "Versão_Página               \n",
       "A                     150835\n",
       "B                     150676"
      ]
     },
     "execution_count": 37,
     "metadata": {},
     "output_type": "execute_result"
    }
   ],
   "source": [
    "versao_e_visualizacao=df_experimento.groupby('Versão_Página')['Visualizações'].sum()\n",
    "VerVisu=pd.DataFrame(versao_e_visualizacao)\n",
    "VerVisu\n"
   ]
  },
  {
   "cell_type": "code",
   "execution_count": 38,
   "metadata": {},
   "outputs": [
    {
     "data": {
      "text/html": [
       "<div>\n",
       "<style scoped>\n",
       "    .dataframe tbody tr th:only-of-type {\n",
       "        vertical-align: middle;\n",
       "    }\n",
       "\n",
       "    .dataframe tbody tr th {\n",
       "        vertical-align: top;\n",
       "    }\n",
       "\n",
       "    .dataframe thead th {\n",
       "        text-align: right;\n",
       "    }\n",
       "</style>\n",
       "<table border=\"1\" class=\"dataframe\">\n",
       "  <thead>\n",
       "    <tr style=\"text-align: right;\">\n",
       "      <th></th>\n",
       "      <th>Conversões</th>\n",
       "    </tr>\n",
       "    <tr>\n",
       "      <th>Versão_Página</th>\n",
       "      <th></th>\n",
       "    </tr>\n",
       "  </thead>\n",
       "  <tbody>\n",
       "    <tr>\n",
       "      <th>A</th>\n",
       "      <td>105</td>\n",
       "    </tr>\n",
       "    <tr>\n",
       "      <th>B</th>\n",
       "      <td>125</td>\n",
       "    </tr>\n",
       "  </tbody>\n",
       "</table>\n",
       "</div>"
      ],
      "text/plain": [
       "               Conversões\n",
       "Versão_Página            \n",
       "A                     105\n",
       "B                     125"
      ]
     },
     "execution_count": 38,
     "metadata": {},
     "output_type": "execute_result"
    }
   ],
   "source": [
    "versao_e_conversao=df_experimento.groupby('Versão_Página')['Conversões'].sum()\n",
    "VerConv=pd.DataFrame(versao_e_conversao)\n",
    "VerConv"
   ]
  },
  {
   "cell_type": "code",
   "execution_count": 39,
   "metadata": {},
   "outputs": [
    {
     "data": {
      "text/plain": [
       "105"
      ]
     },
     "execution_count": 39,
     "metadata": {},
     "output_type": "execute_result"
    }
   ],
   "source": [
    "versao_e_conversao.loc['A']"
   ]
  },
  {
   "cell_type": "code",
   "execution_count": 40,
   "metadata": {},
   "outputs": [
    {
     "data": {
      "text/plain": [
       "Visualizações    150835\n",
       "Name: A, dtype: int64"
      ]
     },
     "execution_count": 40,
     "metadata": {},
     "output_type": "execute_result"
    }
   ],
   "source": [
    "VerVisu.loc['A']"
   ]
  },
  {
   "cell_type": "code",
   "execution_count": 41,
   "metadata": {},
   "outputs": [
    {
     "name": "stdout",
     "output_type": "stream",
     "text": [
      "A versão que possui maior valor de conversão é B com 0.0008295946268815207 de taxa de conversão, ou no caso 0.08%\n"
     ]
    }
   ],
   "source": [
    "valor_A=versao_e_conversao.loc['A']/versao_e_visualizacao.loc['A']\n",
    "valor_B=versao_e_conversao.loc['B']/versao_e_visualizacao.loc['B']\n",
    "if valor_A > valor_B:\n",
    "    print(f\"A versão que possui maior valor de conversão é A com {valor_A} de taxa de conversão, ou no caso {round(valor_A*100,2)}%\")\n",
    "elif valor_B > valor_A:\n",
    "    print(f\"A versão que possui maior valor de conversão é B com {valor_B} de taxa de conversão, ou no caso {round(valor_B*100,2)}%\")\n",
    "else:\n",
    "    print(f\"As duas versões possuem a mesma taxa de conversão: {round(valor_A*100,2)}%\")"
   ]
  },
  {
   "cell_type": "markdown",
   "metadata": {},
   "source": [
    "# Questão 2\n",
    "\n",
    "2.\tCalcule qual o tamanho da amostra necessária para o desenvolvimento de um teste A/B, seguindo os seguintes critérios:"
   ]
  },
  {
   "cell_type": "markdown",
   "metadata": {},
   "source": [
    "a.\tO cenário A, da base, como o inicial, que funciona hoje.<br>\n",
    "b.\tConsidere 95% de confiança de que o efeito na conversão não foi aleatório com um nível de significância de 5% (alpha = 0,05). <br>\n",
    "c.\tTambém considere 80% de certeza conseguir capturar o efeito da nova abordagem. <br>\n",
    "d.\tO aumento para 10% de conversão.\n",
    "\n"
   ]
  },
  {
   "cell_type": "markdown",
   "metadata": {},
   "source": [
    "O critério C representa o poder do teste o 1-beta, então no caso 80% é 0.8, e não será feito 1-0.8, pois o 0.8 já é o (1-beta)\n",
    "Pois no critério diz sobre a certeza de conseguir capturar algo, o Beta sozinha é a probabilidade do teste não encontrar diferença mesmo que exista"
   ]
  },
  {
   "cell_type": "markdown",
   "metadata": {},
   "source": [
    "O critério D fala sobre um aumento, o que entendo que supõe da conversão desejada acima de conversão atual, que temos uma coluna no conjunto sobre esses dados"
   ]
  },
  {
   "cell_type": "code",
   "execution_count": 42,
   "metadata": {},
   "outputs": [
    {
     "name": "stdout",
     "output_type": "stream",
     "text": [
      "Taxa de conversão atual (versão A): 0.1050\n"
     ]
    }
   ],
   "source": [
    "# Como já temos A separado em um df vamos usar novamente o df_versao_A já criado na questão 1\n",
    "\n",
    "# eu acho que isso de conversão é sobre a coluna também\n",
    "conversao_atual = df_versao_A['Conversões'].mean()\n",
    "print(f'Taxa de conversão atual (versão A): {conversao_atual:.4f}')"
   ]
  },
  {
   "cell_type": "code",
   "execution_count": 43,
   "metadata": {},
   "outputs": [
    {
     "name": "stdout",
     "output_type": "stream",
     "text": [
      "Tamanho necessário da amostra por grupo: 6493.0\n"
     ]
    }
   ],
   "source": [
    "# Nível de significância (alpha) e poder estatistico, o beta\n",
    "alpha = 0.05\n",
    "beta = 0.80\n",
    "\n",
    "conversao_esperada = conversao_atual + (0.10 * conversao_atual) # é 10% maior que a atual\n",
    "\n",
    "# os valores críticos de Z\n",
    "z_alpha = stats.norm.ppf(1 - alpha / 2)  #  95% de confiança\n",
    "z_beta =  beta # stats.norm.ppf(1 - beta)  #  80% de poder do teste\n",
    "\n",
    "# variancia\n",
    "variancia = conversao_atual * (1 - conversao_atual)\n",
    "\n",
    "# delta é a diferença absoluta, esperada maior que atual\n",
    "delta = conversao_esperada - conversao_atual\n",
    "\n",
    "n_amostra = ((z_alpha + z_beta) **2 * variancia) / (delta ** 2)\n",
    "\n",
    "# Exibir o resultado\n",
    "print(f\"Tamanho necessário da amostra por grupo: {np.ceil(n_amostra)}\") # arredonda pra maior"
   ]
  },
  {
   "cell_type": "code",
   "execution_count": 44,
   "metadata": {},
   "outputs": [
    {
     "name": "stdout",
     "output_type": "stream",
     "text": [
      "1.959963984540054\n",
      "0.8\n"
     ]
    }
   ],
   "source": [
    "print(z_alpha)\n",
    "print(z_beta)"
   ]
  },
  {
   "cell_type": "markdown",
   "metadata": {},
   "source": [
    "<hr>"
   ]
  },
  {
   "cell_type": "markdown",
   "metadata": {},
   "source": [
    "Verifique a base pacientes.csv, os dados são fictícios. A sintetiza uma base de dados de um hospital que trata de pacientes com problemas cardíacos. Considere a base como a população, portanto as estatísticas da população são conhecidas. Responda as perguntas abaixo:"
   ]
  },
  {
   "cell_type": "code",
   "execution_count": 45,
   "metadata": {},
   "outputs": [
    {
     "data": {
      "text/html": [
       "<div>\n",
       "<style scoped>\n",
       "    .dataframe tbody tr th:only-of-type {\n",
       "        vertical-align: middle;\n",
       "    }\n",
       "\n",
       "    .dataframe tbody tr th {\n",
       "        vertical-align: top;\n",
       "    }\n",
       "\n",
       "    .dataframe thead th {\n",
       "        text-align: right;\n",
       "    }\n",
       "</style>\n",
       "<table border=\"1\" class=\"dataframe\">\n",
       "  <thead>\n",
       "    <tr style=\"text-align: right;\">\n",
       "      <th></th>\n",
       "      <th>Unnamed: 0</th>\n",
       "      <th>Pressao_Arterial</th>\n",
       "      <th>Idade</th>\n",
       "      <th>Genero</th>\n",
       "      <th>Etnia</th>\n",
       "      <th>Estado_Saude</th>\n",
       "      <th>Nome_Genero</th>\n",
       "      <th>Nome_Etnia</th>\n",
       "      <th>Nome_Estado_Saude</th>\n",
       "    </tr>\n",
       "  </thead>\n",
       "  <tbody>\n",
       "    <tr>\n",
       "      <th>0</th>\n",
       "      <td>0</td>\n",
       "      <td>142.755809</td>\n",
       "      <td>31</td>\n",
       "      <td>1</td>\n",
       "      <td>1</td>\n",
       "      <td>1</td>\n",
       "      <td>Feminino</td>\n",
       "      <td>Afro-americano</td>\n",
       "      <td>Com condições de saúde adicionais</td>\n",
       "    </tr>\n",
       "    <tr>\n",
       "      <th>1</th>\n",
       "      <td>1</td>\n",
       "      <td>161.878468</td>\n",
       "      <td>35</td>\n",
       "      <td>1</td>\n",
       "      <td>1</td>\n",
       "      <td>0</td>\n",
       "      <td>Feminino</td>\n",
       "      <td>Afro-americano</td>\n",
       "      <td>Saudável</td>\n",
       "    </tr>\n",
       "    <tr>\n",
       "      <th>2</th>\n",
       "      <td>2</td>\n",
       "      <td>161.508259</td>\n",
       "      <td>39</td>\n",
       "      <td>0</td>\n",
       "      <td>3</td>\n",
       "      <td>1</td>\n",
       "      <td>Masculino</td>\n",
       "      <td>Asiático</td>\n",
       "      <td>Com condições de saúde adicionais</td>\n",
       "    </tr>\n",
       "    <tr>\n",
       "      <th>3</th>\n",
       "      <td>3</td>\n",
       "      <td>144.979408</td>\n",
       "      <td>43</td>\n",
       "      <td>1</td>\n",
       "      <td>3</td>\n",
       "      <td>1</td>\n",
       "      <td>Feminino</td>\n",
       "      <td>Asiático</td>\n",
       "      <td>Com condições de saúde adicionais</td>\n",
       "    </tr>\n",
       "    <tr>\n",
       "      <th>4</th>\n",
       "      <td>4</td>\n",
       "      <td>162.502954</td>\n",
       "      <td>55</td>\n",
       "      <td>0</td>\n",
       "      <td>2</td>\n",
       "      <td>1</td>\n",
       "      <td>Masculino</td>\n",
       "      <td>Hispânico</td>\n",
       "      <td>Com condições de saúde adicionais</td>\n",
       "    </tr>\n",
       "  </tbody>\n",
       "</table>\n",
       "</div>"
      ],
      "text/plain": [
       "   Unnamed: 0  Pressao_Arterial  Idade  Genero  Etnia  Estado_Saude  \\\n",
       "0           0        142.755809     31       1      1             1   \n",
       "1           1        161.878468     35       1      1             0   \n",
       "2           2        161.508259     39       0      3             1   \n",
       "3           3        144.979408     43       1      3             1   \n",
       "4           4        162.502954     55       0      2             1   \n",
       "\n",
       "  Nome_Genero      Nome_Etnia                  Nome_Estado_Saude  \n",
       "0    Feminino  Afro-americano  Com condições de saúde adicionais  \n",
       "1    Feminino  Afro-americano                           Saudável  \n",
       "2   Masculino        Asiático  Com condições de saúde adicionais  \n",
       "3    Feminino        Asiático  Com condições de saúde adicionais  \n",
       "4   Masculino       Hispânico  Com condições de saúde adicionais  "
      ]
     },
     "execution_count": 45,
     "metadata": {},
     "output_type": "execute_result"
    }
   ],
   "source": [
    "df_pacientes=pd.read_csv('pacientes.csv')\n",
    "df_pacientes.head()"
   ]
  },
  {
   "cell_type": "code",
   "execution_count": 46,
   "metadata": {},
   "outputs": [
    {
     "name": "stdout",
     "output_type": "stream",
     "text": [
      "<class 'pandas.core.frame.DataFrame'>\n",
      "RangeIndex: 1000 entries, 0 to 999\n",
      "Data columns (total 9 columns):\n",
      " #   Column             Non-Null Count  Dtype  \n",
      "---  ------             --------------  -----  \n",
      " 0   Unnamed: 0         1000 non-null   int64  \n",
      " 1   Pressao_Arterial   1000 non-null   float64\n",
      " 2   Idade              1000 non-null   int64  \n",
      " 3   Genero             1000 non-null   int64  \n",
      " 4   Etnia              1000 non-null   int64  \n",
      " 5   Estado_Saude       1000 non-null   int64  \n",
      " 6   Nome_Genero        1000 non-null   object \n",
      " 7   Nome_Etnia         1000 non-null   object \n",
      " 8   Nome_Estado_Saude  1000 non-null   object \n",
      "dtypes: float64(1), int64(5), object(3)\n",
      "memory usage: 70.4+ KB\n"
     ]
    }
   ],
   "source": [
    "df_pacientes.info()"
   ]
  },
  {
   "cell_type": "code",
   "execution_count": 47,
   "metadata": {},
   "outputs": [
    {
     "data": {
      "text/plain": [
       "Nome_Estado_Saude\n",
       "Com condições de saúde adicionais    510\n",
       "Saudável                             490\n",
       "Name: count, dtype: int64"
      ]
     },
     "execution_count": 47,
     "metadata": {},
     "output_type": "execute_result"
    }
   ],
   "source": [
    "df_pacientes.Nome_Estado_Saude.value_counts()"
   ]
  },
  {
   "cell_type": "code",
   "execution_count": 48,
   "metadata": {},
   "outputs": [
    {
     "name": "stdout",
     "output_type": "stream",
     "text": [
      "Etnia\n",
      "1    260\n",
      "2    255\n",
      "3    252\n",
      "0    233\n",
      "Name: count, dtype: int64\n"
     ]
    },
    {
     "data": {
      "text/plain": [
       "Nome_Etnia\n",
       "Afro-americano    260\n",
       "Hispânico         255\n",
       "Asiático          252\n",
       "Caucasiano        233\n",
       "Name: count, dtype: int64"
      ]
     },
     "execution_count": 48,
     "metadata": {},
     "output_type": "execute_result"
    }
   ],
   "source": [
    "print(df_pacientes.Etnia.value_counts())\n",
    "df_pacientes.Nome_Etnia.value_counts()"
   ]
  },
  {
   "cell_type": "markdown",
   "metadata": {},
   "source": [
    "# Questão 3\n",
    "3.\tConsiderando uma amostra de 45 números que representam o index do dataframe, índices= ([909, 751, 402, 400, 726, 39, 184, 269, 255, 769, 209, 715, 677, 381, 793, 697,  89, 280, 232, 756, 358,  36, 439, 768, 967, 699, 473, 222,  89, 639, 883, 558, 757,  84, 907, 895, 217, 224, 311, 348, 146, 505, 273, 957, 362]). Considerando essa amostra é possível dizer que a idade média das pessoas com problemas cardíacos é maior que 50 anos? Nível de significância igual a 5%."
   ]
  },
  {
   "cell_type": "code",
   "execution_count": 49,
   "metadata": {},
   "outputs": [
    {
     "data": {
      "text/html": [
       "<div>\n",
       "<style scoped>\n",
       "    .dataframe tbody tr th:only-of-type {\n",
       "        vertical-align: middle;\n",
       "    }\n",
       "\n",
       "    .dataframe tbody tr th {\n",
       "        vertical-align: top;\n",
       "    }\n",
       "\n",
       "    .dataframe thead th {\n",
       "        text-align: right;\n",
       "    }\n",
       "</style>\n",
       "<table border=\"1\" class=\"dataframe\">\n",
       "  <thead>\n",
       "    <tr style=\"text-align: right;\">\n",
       "      <th></th>\n",
       "      <th>Unnamed: 0</th>\n",
       "      <th>Pressao_Arterial</th>\n",
       "      <th>Idade</th>\n",
       "      <th>Genero</th>\n",
       "      <th>Etnia</th>\n",
       "      <th>Estado_Saude</th>\n",
       "      <th>Nome_Genero</th>\n",
       "      <th>Nome_Etnia</th>\n",
       "      <th>Nome_Estado_Saude</th>\n",
       "    </tr>\n",
       "  </thead>\n",
       "  <tbody>\n",
       "    <tr>\n",
       "      <th>36</th>\n",
       "      <td>36</td>\n",
       "      <td>168.708224</td>\n",
       "      <td>41</td>\n",
       "      <td>1</td>\n",
       "      <td>3</td>\n",
       "      <td>1</td>\n",
       "      <td>Feminino</td>\n",
       "      <td>Asiático</td>\n",
       "      <td>Com condições de saúde adicionais</td>\n",
       "    </tr>\n",
       "    <tr>\n",
       "      <th>39</th>\n",
       "      <td>39</td>\n",
       "      <td>144.565778</td>\n",
       "      <td>50</td>\n",
       "      <td>0</td>\n",
       "      <td>2</td>\n",
       "      <td>0</td>\n",
       "      <td>Masculino</td>\n",
       "      <td>Hispânico</td>\n",
       "      <td>Saudável</td>\n",
       "    </tr>\n",
       "    <tr>\n",
       "      <th>84</th>\n",
       "      <td>84</td>\n",
       "      <td>172.697749</td>\n",
       "      <td>63</td>\n",
       "      <td>0</td>\n",
       "      <td>3</td>\n",
       "      <td>0</td>\n",
       "      <td>Masculino</td>\n",
       "      <td>Asiático</td>\n",
       "      <td>Saudável</td>\n",
       "    </tr>\n",
       "    <tr>\n",
       "      <th>89</th>\n",
       "      <td>89</td>\n",
       "      <td>154.485901</td>\n",
       "      <td>41</td>\n",
       "      <td>1</td>\n",
       "      <td>3</td>\n",
       "      <td>0</td>\n",
       "      <td>Feminino</td>\n",
       "      <td>Asiático</td>\n",
       "      <td>Saudável</td>\n",
       "    </tr>\n",
       "    <tr>\n",
       "      <th>146</th>\n",
       "      <td>146</td>\n",
       "      <td>157.727254</td>\n",
       "      <td>69</td>\n",
       "      <td>1</td>\n",
       "      <td>0</td>\n",
       "      <td>0</td>\n",
       "      <td>Feminino</td>\n",
       "      <td>Caucasiano</td>\n",
       "      <td>Saudável</td>\n",
       "    </tr>\n",
       "  </tbody>\n",
       "</table>\n",
       "</div>"
      ],
      "text/plain": [
       "     Unnamed: 0  Pressao_Arterial  Idade  Genero  Etnia  Estado_Saude  \\\n",
       "36           36        168.708224     41       1      3             1   \n",
       "39           39        144.565778     50       0      2             0   \n",
       "84           84        172.697749     63       0      3             0   \n",
       "89           89        154.485901     41       1      3             0   \n",
       "146         146        157.727254     69       1      0             0   \n",
       "\n",
       "    Nome_Genero  Nome_Etnia                  Nome_Estado_Saude  \n",
       "36     Feminino    Asiático  Com condições de saúde adicionais  \n",
       "39    Masculino   Hispânico                           Saudável  \n",
       "84    Masculino    Asiático                           Saudável  \n",
       "89     Feminino    Asiático                           Saudável  \n",
       "146    Feminino  Caucasiano                           Saudável  "
      ]
     },
     "execution_count": 49,
     "metadata": {},
     "output_type": "execute_result"
    }
   ],
   "source": [
    "indices= [909, 751, 402, 400, 726, 39, 184, 269, 255, 769, 209, 715, 677, 381, 793, 697,  89, 280, 232, 756, 358,  36, 439, 768, 967, 699, 473, 222,  89, 639, 883, 558, 757,  84, 907, 895, 217, 224, 311, 348, 146, 505, 273, 957, 362]\n",
    "\n",
    "amostra_pacientes=df_pacientes[df_pacientes['Unnamed: 0'].isin(indices)]\n",
    "amostra_pacientes.head()"
   ]
  },
  {
   "cell_type": "code",
   "execution_count": 50,
   "metadata": {},
   "outputs": [
    {
     "data": {
      "text/plain": [
       "44"
      ]
     },
     "execution_count": 50,
     "metadata": {},
     "output_type": "execute_result"
    }
   ],
   "source": [
    "len(amostra_pacientes)"
   ]
  },
  {
   "cell_type": "markdown",
   "metadata": {},
   "source": [
    "Hipóteses:\n",
    "\n",
    "H0 (Hipótese Nula): A média da idade das pessoas com problemas cardíacos é menor ou igual 50 anos. (μ<=50) <br>\n",
    "H1 (Hipótese Alternativa): A média da idade das pessoas com problemas cardíacos é maior que 50 anos. (μ>50)\n",
    "\n",
    "Vou utilizar o teste z que compara a média de uma amostra com a média da população, levando em consideração que a nossa amostra é maior que 30 E o desvio padrão da população é conhecido."
   ]
  },
  {
   "cell_type": "code",
   "execution_count": 51,
   "metadata": {},
   "outputs": [
    {
     "name": "stdout",
     "output_type": "stream",
     "text": [
      "Z-Score: 0.7057374479839013\n",
      "Z-Crítico: 1.645\n",
      "A Hipótese nula H0 não é rejeitada, pois não há evidências suficientes para concluir que a idade média é maior que 50 anos.\n"
     ]
    }
   ],
   "source": [
    "amostra_idade_media=np.ceil(amostra_pacientes.Idade.mean()) # 50.29545454545455\n",
    "amostra_idade_media\n",
    "\n",
    "populacao_idade_media=df_pacientes['Idade'].mean()  \n",
    "populacoa_idade_desvio=df_pacientes['Idade'].std() \n",
    "\n",
    "n_amostra_pacientes=len(amostra_pacientes)\n",
    "\n",
    "z_score=(amostra_idade_media-populacao_idade_media) / (populacoa_idade_desvio/np.sqrt(n_amostra_pacientes))\n",
    "\n",
    "# Valor crítico para um teste unilateral com alfa = 0.05\n",
    "z_critico=  1.645  # valor crítico da distribuição normal padrão\n",
    "\n",
    "print(f\"Z-Score: {z_score}\")\n",
    "print(f\"Z-Crítico: {z_critico}\")\n",
    "\n",
    "if z_score > z_critico:\n",
    "    print(\"A Hipótese nula H0 é rejeitada, pois a idade média das pessoas com problemas cardíacos é maior que 50 anos.\")\n",
    "else:\n",
    "    print(\"A Hipótese nula H0 não é rejeitada, pois não há evidências suficientes para concluir que a idade média é maior que 50 anos.\")\n"
   ]
  },
  {
   "cell_type": "markdown",
   "metadata": {},
   "source": [
    "# Questão 4\n",
    "4.\tQueremos entender que tipo de amostra estamos lidando se dividirmos os conjuntos em 2, sendo um com pessoas que têm condições de saúde adicionais e o outro com pessoas saudáveis. Seria dependente ou independente?"
   ]
  },
  {
   "cell_type": "markdown",
   "metadata": {},
   "source": [
    "A questão fica meio confusa sobre o que quer de cálculo, pois são independentes já que tratam de pessoas diferentes, com estados de saúde diferentes, e também não informou se quer o conjunto original ou com aquele das amostras da questão 3. Mas tentarei fazer uma análise das diferenças dos grupos saudáveis e com condições de saúde.\n",
    "\n",
    "Como já havia sido feito anteriormente com `df_pacientes.value_counts()`"
   ]
  },
  {
   "cell_type": "markdown",
   "metadata": {},
   "source": [
    "|Nome_Estado_Saude|Quantidade|\n",
    "|-------|--------|\n",
    "|Com condições de saúde adicionais|510|\n",
    "|Saudável|490||"
   ]
  },
  {
   "cell_type": "markdown",
   "metadata": {},
   "source": [
    "Lembrando que para o código o Estado de saúde está sendo representado em valores de 0 e 1, 0 sendo para 'Saudável' e 1 para 'Com condições de saúde adicionais'"
   ]
  },
  {
   "cell_type": "code",
   "execution_count": 52,
   "metadata": {},
   "outputs": [
    {
     "name": "stdout",
     "output_type": "stream",
     "text": [
      "510 490\n"
     ]
    }
   ],
   "source": [
    "df_condicoes_saude=df_pacientes[df_pacientes['Estado_Saude']==1]\n",
    "df_saudavel=df_pacientes[df_pacientes['Estado_Saude']==0]\n",
    "\n",
    "print(len(df_condicoes_saude),len(df_saudavel))\n"
   ]
  },
  {
   "cell_type": "markdown",
   "metadata": {},
   "source": [
    "Agora vou dividir a amostra anterior também "
   ]
  },
  {
   "cell_type": "code",
   "execution_count": 53,
   "metadata": {},
   "outputs": [
    {
     "name": "stdout",
     "output_type": "stream",
     "text": [
      "19 25\n"
     ]
    }
   ],
   "source": [
    "df_amostra_condicoes_saude=amostra_pacientes[amostra_pacientes['Estado_Saude']==1]\n",
    "df_amostra_saudavel=amostra_pacientes[amostra_pacientes['Estado_Saude']==0]\n",
    "\n",
    "print(len(df_amostra_condicoes_saude),len(df_amostra_saudavel))\n"
   ]
  },
  {
   "cell_type": "markdown",
   "metadata": {},
   "source": [
    "Como são variáveis categóricas onde posso ver apenas quantas pessoas existem naquela categoria decidi fazer o Teste qui-quadrado\n",
    "\n",
    "O objetivo foi verificar se a divisão entre essas categorias na amostra são independentes da divisão na população total."
   ]
  },
  {
   "cell_type": "code",
   "execution_count": 54,
   "metadata": {},
   "outputs": [
    {
     "data": {
      "text/html": [
       "<div>\n",
       "<style scoped>\n",
       "    .dataframe tbody tr th:only-of-type {\n",
       "        vertical-align: middle;\n",
       "    }\n",
       "\n",
       "    .dataframe tbody tr th {\n",
       "        vertical-align: top;\n",
       "    }\n",
       "\n",
       "    .dataframe thead th {\n",
       "        text-align: right;\n",
       "    }\n",
       "</style>\n",
       "<table border=\"1\" class=\"dataframe\">\n",
       "  <thead>\n",
       "    <tr style=\"text-align: right;\">\n",
       "      <th></th>\n",
       "      <th>Com Condições de Saúde</th>\n",
       "      <th>Saudáveis</th>\n",
       "    </tr>\n",
       "  </thead>\n",
       "  <tbody>\n",
       "    <tr>\n",
       "      <th>Amostra</th>\n",
       "      <td>19</td>\n",
       "      <td>25</td>\n",
       "    </tr>\n",
       "    <tr>\n",
       "      <th>População</th>\n",
       "      <td>510</td>\n",
       "      <td>490</td>\n",
       "    </tr>\n",
       "  </tbody>\n",
       "</table>\n",
       "</div>"
      ],
      "text/plain": [
       "           Com Condições de Saúde  Saudáveis\n",
       "Amostra                        19         25\n",
       "População                     510        490"
      ]
     },
     "execution_count": 54,
     "metadata": {},
     "output_type": "execute_result"
    }
   ],
   "source": [
    "observados = pd.DataFrame({\n",
    "    'Com Condições de Saúde': [len(df_amostra_condicoes_saude), len(df_condicoes_saude)],\n",
    "    'Saudáveis': [len(df_amostra_saudavel), len(df_saudavel)]\n",
    "}, index=['Amostra', 'População'])\n",
    "observados"
   ]
  },
  {
   "cell_type": "code",
   "execution_count": 55,
   "metadata": {},
   "outputs": [
    {
     "name": "stdout",
     "output_type": "stream",
     "text": [
      "Estatística Qui-quadrado: 0.7415757099691842\n",
      "p-valor: 0.3891565891252817\n",
      "Graus de Liberdade: 1\n",
      "Frequências Esperadas: [[ 22.29501916  21.70498084]\n",
      " [506.70498084 493.29501916]] \n",
      "\n",
      "As variáveis são independentes, então não se rejeita a hipótese nula\n"
     ]
    }
   ],
   "source": [
    "chi2, p_valor, gliberdade, esperado = stats.chi2_contingency(observados) # que função complicada mds\n",
    "\n",
    "\n",
    "print(f\"Estatística Qui-quadrado: {chi2}\")  # (o-e)^2 / e   onde \"o\" é o observado e \"e\" o esperado\n",
    "print(f\"p-valor: {p_valor}\")  # p-valor e crítico\n",
    "print(f\"Graus de Liberdade: {gliberdade}\") #r-1*c-1\n",
    "print(\"Frequências Esperadas:\",esperado,\"\\n\")  # total linha x total coluna / total observado\n",
    "\n",
    "# Verificar se são dependentes ou independentes com base no p-valor\n",
    "significancia = 0.05\n",
    "if p_valor<significancia:\n",
    "    print(\"As variáveis são dependentes, então a hipótese nula vai ser rejeitada\")\n",
    "else:\n",
    "    print(\"As variáveis são independentes, então não se rejeita a hipótese nula\")"
   ]
  },
  {
   "cell_type": "code",
   "execution_count": 56,
   "metadata": {},
   "outputs": [
    {
     "data": {
      "text/html": [
       "<div>\n",
       "<style scoped>\n",
       "    .dataframe tbody tr th:only-of-type {\n",
       "        vertical-align: middle;\n",
       "    }\n",
       "\n",
       "    .dataframe tbody tr th {\n",
       "        vertical-align: top;\n",
       "    }\n",
       "\n",
       "    .dataframe thead th {\n",
       "        text-align: right;\n",
       "    }\n",
       "</style>\n",
       "<table border=\"1\" class=\"dataframe\">\n",
       "  <thead>\n",
       "    <tr style=\"text-align: right;\">\n",
       "      <th></th>\n",
       "      <th>Com Condições de Saúde</th>\n",
       "      <th>Saudáveis</th>\n",
       "    </tr>\n",
       "  </thead>\n",
       "  <tbody>\n",
       "    <tr>\n",
       "      <th>Amostra</th>\n",
       "      <td>19</td>\n",
       "      <td>25</td>\n",
       "    </tr>\n",
       "    <tr>\n",
       "      <th>População</th>\n",
       "      <td>510</td>\n",
       "      <td>490</td>\n",
       "    </tr>\n",
       "  </tbody>\n",
       "</table>\n",
       "</div>"
      ],
      "text/plain": [
       "           Com Condições de Saúde  Saudáveis\n",
       "Amostra                        19         25\n",
       "População                     510        490"
      ]
     },
     "execution_count": 56,
     "metadata": {},
     "output_type": "execute_result"
    }
   ],
   "source": [
    "observados"
   ]
  },
  {
   "cell_type": "code",
   "execution_count": 57,
   "metadata": {},
   "outputs": [
    {
     "data": {
      "text/html": [
       "<div>\n",
       "<style scoped>\n",
       "    .dataframe tbody tr th:only-of-type {\n",
       "        vertical-align: middle;\n",
       "    }\n",
       "\n",
       "    .dataframe tbody tr th {\n",
       "        vertical-align: top;\n",
       "    }\n",
       "\n",
       "    .dataframe thead th {\n",
       "        text-align: right;\n",
       "    }\n",
       "</style>\n",
       "<table border=\"1\" class=\"dataframe\">\n",
       "  <thead>\n",
       "    <tr style=\"text-align: right;\">\n",
       "      <th></th>\n",
       "      <th>Com Condições de Saúde</th>\n",
       "      <th>Saudáveis</th>\n",
       "    </tr>\n",
       "  </thead>\n",
       "  <tbody>\n",
       "    <tr>\n",
       "      <th>Amostra</th>\n",
       "      <td>22.295019</td>\n",
       "      <td>21.704981</td>\n",
       "    </tr>\n",
       "    <tr>\n",
       "      <th>População</th>\n",
       "      <td>506.704981</td>\n",
       "      <td>493.295019</td>\n",
       "    </tr>\n",
       "  </tbody>\n",
       "</table>\n",
       "</div>"
      ],
      "text/plain": [
       "           Com Condições de Saúde   Saudáveis\n",
       "Amostra                 22.295019   21.704981\n",
       "População              506.704981  493.295019"
      ]
     },
     "execution_count": 57,
     "metadata": {},
     "output_type": "execute_result"
    }
   ],
   "source": [
    "esperados = pd.DataFrame(esperado, index=['Amostra', 'População'], columns=['Com Condições de Saúde', 'Saudáveis'])\n",
    "esperados"
   ]
  },
  {
   "cell_type": "markdown",
   "metadata": {},
   "source": [
    "Se o p-valor fosse menor que 0.05 teria que concluir que havia dependência entre os grupos, porém como é visto os grupos são independentes. Isso indica que as categorias na amostra são distribuídas de forma semelhante à população, sugerindo independência. E como podemos ver o valor esperado é próximo do observado, além o p-valor ter dado maior que o crítico"
   ]
  },
  {
   "cell_type": "markdown",
   "metadata": {},
   "source": [
    "# Questão 5\n",
    "5.\tAgora considere o um conjunto de pessoas aleatória que representam o index do dataframe,  índices = ([690, 894,  67, 201, 364,  19,  60, 319, 588, 643, 855, 623, 530, 174, 105, 693,   6, 462, 973, 607, 811, 346, 354, 966, 943, 372]), podemos dizer que a pressão arterial média para pacientes com condições de saúde adicionais é igual à pressão arterial média para pacientes sem condições adicionais de saúde? Considere o nível de significância a 6%."
   ]
  },
  {
   "cell_type": "code",
   "execution_count": 58,
   "metadata": {},
   "outputs": [
    {
     "data": {
      "text/html": [
       "<div>\n",
       "<style scoped>\n",
       "    .dataframe tbody tr th:only-of-type {\n",
       "        vertical-align: middle;\n",
       "    }\n",
       "\n",
       "    .dataframe tbody tr th {\n",
       "        vertical-align: top;\n",
       "    }\n",
       "\n",
       "    .dataframe thead th {\n",
       "        text-align: right;\n",
       "    }\n",
       "</style>\n",
       "<table border=\"1\" class=\"dataframe\">\n",
       "  <thead>\n",
       "    <tr style=\"text-align: right;\">\n",
       "      <th></th>\n",
       "      <th>Unnamed: 0</th>\n",
       "      <th>Pressao_Arterial</th>\n",
       "      <th>Idade</th>\n",
       "      <th>Genero</th>\n",
       "      <th>Etnia</th>\n",
       "      <th>Estado_Saude</th>\n",
       "      <th>Nome_Genero</th>\n",
       "      <th>Nome_Etnia</th>\n",
       "      <th>Nome_Estado_Saude</th>\n",
       "    </tr>\n",
       "  </thead>\n",
       "  <tbody>\n",
       "    <tr>\n",
       "      <th>6</th>\n",
       "      <td>6</td>\n",
       "      <td>150.750643</td>\n",
       "      <td>52</td>\n",
       "      <td>1</td>\n",
       "      <td>2</td>\n",
       "      <td>1</td>\n",
       "      <td>Feminino</td>\n",
       "      <td>Hispânico</td>\n",
       "      <td>Com condições de saúde adicionais</td>\n",
       "    </tr>\n",
       "    <tr>\n",
       "      <th>19</th>\n",
       "      <td>19</td>\n",
       "      <td>160.089332</td>\n",
       "      <td>38</td>\n",
       "      <td>1</td>\n",
       "      <td>1</td>\n",
       "      <td>0</td>\n",
       "      <td>Feminino</td>\n",
       "      <td>Afro-americano</td>\n",
       "      <td>Saudável</td>\n",
       "    </tr>\n",
       "    <tr>\n",
       "      <th>60</th>\n",
       "      <td>60</td>\n",
       "      <td>161.136755</td>\n",
       "      <td>35</td>\n",
       "      <td>1</td>\n",
       "      <td>1</td>\n",
       "      <td>1</td>\n",
       "      <td>Feminino</td>\n",
       "      <td>Afro-americano</td>\n",
       "      <td>Com condições de saúde adicionais</td>\n",
       "    </tr>\n",
       "    <tr>\n",
       "      <th>67</th>\n",
       "      <td>67</td>\n",
       "      <td>158.427577</td>\n",
       "      <td>45</td>\n",
       "      <td>1</td>\n",
       "      <td>0</td>\n",
       "      <td>1</td>\n",
       "      <td>Feminino</td>\n",
       "      <td>Caucasiano</td>\n",
       "      <td>Com condições de saúde adicionais</td>\n",
       "    </tr>\n",
       "    <tr>\n",
       "      <th>105</th>\n",
       "      <td>105</td>\n",
       "      <td>151.920500</td>\n",
       "      <td>34</td>\n",
       "      <td>0</td>\n",
       "      <td>3</td>\n",
       "      <td>1</td>\n",
       "      <td>Masculino</td>\n",
       "      <td>Asiático</td>\n",
       "      <td>Com condições de saúde adicionais</td>\n",
       "    </tr>\n",
       "  </tbody>\n",
       "</table>\n",
       "</div>"
      ],
      "text/plain": [
       "     Unnamed: 0  Pressao_Arterial  Idade  Genero  Etnia  Estado_Saude  \\\n",
       "6             6        150.750643     52       1      2             1   \n",
       "19           19        160.089332     38       1      1             0   \n",
       "60           60        161.136755     35       1      1             1   \n",
       "67           67        158.427577     45       1      0             1   \n",
       "105         105        151.920500     34       0      3             1   \n",
       "\n",
       "    Nome_Genero      Nome_Etnia                  Nome_Estado_Saude  \n",
       "6      Feminino       Hispânico  Com condições de saúde adicionais  \n",
       "19     Feminino  Afro-americano                           Saudável  \n",
       "60     Feminino  Afro-americano  Com condições de saúde adicionais  \n",
       "67     Feminino      Caucasiano  Com condições de saúde adicionais  \n",
       "105   Masculino        Asiático  Com condições de saúde adicionais  "
      ]
     },
     "execution_count": 58,
     "metadata": {},
     "output_type": "execute_result"
    }
   ],
   "source": [
    "indices2 = [690, 894,  67, 201, 364,  19,  60, 319, 588, 643, 855, 623, 530, 174, 105, 693,   6, 462, 973, 607, 811, 346, 354, 966, 943, 372]\n",
    "amostra_pacientes_2=df_pacientes[df_pacientes['Unnamed: 0'].isin(indices2)]\n",
    "amostra_pacientes_2.head()"
   ]
  },
  {
   "cell_type": "code",
   "execution_count": 59,
   "metadata": {},
   "outputs": [
    {
     "data": {
      "text/plain": [
       "26"
      ]
     },
     "execution_count": 59,
     "metadata": {},
     "output_type": "execute_result"
    }
   ],
   "source": [
    "len(amostra_pacientes_2)"
   ]
  },
  {
   "cell_type": "code",
   "execution_count": 60,
   "metadata": {},
   "outputs": [
    {
     "data": {
      "text/plain": [
       "Nome_Estado_Saude\n",
       "Com condições de saúde adicionais    15\n",
       "Saudável                             11\n",
       "Name: count, dtype: int64"
      ]
     },
     "execution_count": 60,
     "metadata": {},
     "output_type": "execute_result"
    }
   ],
   "source": [
    "amostra_pacientes_2['Nome_Estado_Saude'].value_counts()"
   ]
  },
  {
   "cell_type": "markdown",
   "metadata": {},
   "source": [
    "Hipóteses:\n",
    "\n",
    "Hipótese Nula (H0): As médias de pressão arterial dos dois grupos são iguais.<br>\n",
    "Hipótese Alternativa (H1): As médias de pressão arterial dos dois grupos são diferentes."
   ]
  },
  {
   "cell_type": "code",
   "execution_count": 61,
   "metadata": {},
   "outputs": [
    {
     "name": "stdout",
     "output_type": "stream",
     "text": [
      "15 11\n"
     ]
    }
   ],
   "source": [
    "df_amostra_condicoes_saude=amostra_pacientes_2[amostra_pacientes_2['Estado_Saude']==1]\n",
    "df_amostra_saudavel=amostra_pacientes_2[amostra_pacientes_2['Estado_Saude']==0]\n",
    "\n",
    "print(len(df_amostra_condicoes_saude),len(df_amostra_saudavel))"
   ]
  },
  {
   "cell_type": "markdown",
   "metadata": {},
   "source": [
    "Comecei a fazer manual porém dava alguns erros, aí encontrei uma função do stats.ttest que já faz o teste_t\n",
    "\n",
    "Porém ainda fui atrás pra saber a fundo como fazia o cálculo manualmente por código, a diferença é pouca, mas resulta no mesmo"
   ]
  },
  {
   "cell_type": "markdown",
   "metadata": {},
   "source": [
    "Manualmente"
   ]
  },
  {
   "cell_type": "code",
   "execution_count": 62,
   "metadata": {},
   "outputs": [
    {
     "name": "stdout",
     "output_type": "stream",
     "text": [
      "Pressão com condições de saúde: 153.1972544980592 Pressão de pessoas saudáveis: 152.94305165531088\n",
      "Estatística t manual: 0.08304391716459121\n",
      "p-valor manual: 0.934505381287168\n",
      "A Hipótese nula H0 não é rejeitada, pois não há evidências que as médias de pressão arterial sejam diferentes entre os grupos.\n"
     ]
    }
   ],
   "source": [
    "amostra2_condicoes_pressao_media=df_amostra_condicoes_saude['Pressao_Arterial'].mean()\n",
    "amostra2_saudavel_pressao_media=df_amostra_saudavel['Pressao_Arterial'].mean()\n",
    "\n",
    "\n",
    "print(\"Pressão com condições de saúde:\",amostra2_condicoes_pressao_media,\"Pressão de pessoas saudáveis:\",amostra2_saudavel_pressao_media)\n",
    "# Significância 6%\n",
    "alpha=0.06\n",
    "\n",
    "# Fazendo pelo cálculo manualmente\n",
    "\n",
    "n_condicoes= len(df_amostra_condicoes_saude)\n",
    "n_saudavel= len(df_amostra_saudavel)\n",
    "\n",
    "std_condicoes= df_amostra_condicoes_saude['Pressao_Arterial'].std()\n",
    "std_saudavel= df_amostra_saudavel['Pressao_Arterial'].std()\n",
    "\n",
    " # O cálculo normal não funciona se não for amostra e população. Então fui atrás de outra forma que faça teste t por amostras independentes\n",
    "#f= (amostra2_condicoes_pressao_media-amostra2_saudavel_pressao_media)/(amostra_pacientes_2['Pressao_Arterial'].std()/len(amostra_pacientes_2))\n",
    "\n",
    "\n",
    "# Cálculo do erro padrão combinado\n",
    "erro_padrao_combinado= np.sqrt((std_condicoes**2 / n_condicoes) + (std_saudavel**2 / n_saudavel))\n",
    "\n",
    "\n",
    "t= (amostra2_condicoes_pressao_media - amostra2_saudavel_pressao_media) / erro_padrao_combinado\n",
    "\n",
    "grau_liberdade= (n_condicoes + n_saudavel - 2)\n",
    "\n",
    "# Calcular o p-valor pela estatística t\n",
    "p_valor_manual= 2 * (1 - stats.t.cdf(abs(t), df=grau_liberdade))\n",
    "\n",
    "print(f\"Estatística t manual: {t}\")\n",
    "print(f\"p-valor manual: {p_valor_manual}\")\n",
    "\n",
    "if p_valor_manual< alpha:\n",
    "    print(\"A Hipótese nula H0 é rejeitada, pois as médias de pressão arterial são significativamente diferentes entre os grupos.\")\n",
    "else:\n",
    "    print(\"A Hipótese nula H0 não é rejeitada, pois não há evidências que as médias de pressão arterial sejam diferentes entre os grupos.\")\n"
   ]
  },
  {
   "cell_type": "markdown",
   "metadata": {},
   "source": [
    "Utilizando função `stats.ttest_ind`"
   ]
  },
  {
   "cell_type": "code",
   "execution_count": 63,
   "metadata": {},
   "outputs": [
    {
     "name": "stdout",
     "output_type": "stream",
     "text": [
      "Estatística t: 0.08124024162327208\n",
      "p-valor: 0.9359246016248557\n",
      "A Hipótese nula H0 não é rejeitada, pois não há evidências que as médias de pressão arterial sejam diferentes entre os grupos.\n"
     ]
    }
   ],
   "source": [
    "pressao_condicoes_saude = df_amostra_condicoes_saude['Pressao_Arterial']\n",
    "pressao_saudavel = df_amostra_saudavel['Pressao_Arterial']\n",
    "\n",
    "t_stat, p_valor = stats.ttest_ind(pressao_condicoes_saude, pressao_saudavel)\n",
    "\n",
    "# Resultados\n",
    "print(f\"Estatística t: {t_stat}\")\n",
    "print(f\"p-valor: {p_valor}\")\n",
    "\n",
    "# Verificar se rejeita ou não a hipótese nula\n",
    "significancia = 0.06\n",
    "if p_valor < significancia:\n",
    "    print(\"A Hipótese nula H0 é rejeitada, pois as médias de pressão arterial são significativamente diferentes entre os grupos.\")\n",
    "else:\n",
    "    print(\"A Hipótese nula H0 não é rejeitada, pois não há evidências que as médias de pressão arterial sejam diferentes entre os grupos.\")"
   ]
  },
  {
   "cell_type": "markdown",
   "metadata": {},
   "source": [
    "# Questão 6\n",
    "6.\tExiste uma diferença significativa na pressão arterial média entre diferentes grupos étnicos nesta população? (Teste ANOVA, alpha é 5%) <bR>\n"
   ]
  },
  {
   "cell_type": "markdown",
   "metadata": {},
   "source": [
    "### a.\tHipótese Nula (H0): A pressão arterial média é a mesma em todos os grupos étnicos.<br>"
   ]
  },
  {
   "cell_type": "code",
   "execution_count": 64,
   "metadata": {},
   "outputs": [
    {
     "data": {
      "text/plain": [
       "Nome_Etnia\n",
       "Afro-americano    150.727553\n",
       "Asiático          150.330899\n",
       "Caucasiano        149.983045\n",
       "Hispânico         150.419697\n",
       "Name: Pressao_Arterial, dtype: float64"
      ]
     },
     "execution_count": 64,
     "metadata": {},
     "output_type": "execute_result"
    }
   ],
   "source": [
    "etnia_pressao=df_pacientes.groupby('Nome_Etnia')['Pressao_Arterial'].mean()\n",
    "etnia_pressao"
   ]
  },
  {
   "cell_type": "markdown",
   "metadata": {},
   "source": [
    "Teste ANOVA ou Teste F deve ser feito pois pode compara médias de 3 ou mais grupos\n",
    "\n",
    "Fiz visualmente com groupby porém a função stats.f_oneway não funciona colocando `F, p = stats.f_oneway(etnia_pressao.values)`\n",
    "\n",
    "Então preciso dividir cada etnia e pegando a pressão de cada, pois o ANOVA vai ver todos os valores"
   ]
  },
  {
   "cell_type": "code",
   "execution_count": 65,
   "metadata": {},
   "outputs": [
    {
     "name": "stdout",
     "output_type": "stream",
     "text": [
      "Estatística F: 0.2324529626159684\n",
      "Valor p: 0.873800123850745\n",
      "A Hipótese nula H0 não é rejeitada, pois não há evidências que as médias de pressão arterial sejam diferentes entre os grupos. \n",
      "O que quer dizer que a pressão arterial média é a mesma em todos os grupos étnicos.\n"
     ]
    }
   ],
   "source": [
    "afro_americano= df_pacientes[df_pacientes['Nome_Etnia']== 'Afro-americano']['Pressao_Arterial']\n",
    "asiatico= df_pacientes[df_pacientes['Nome_Etnia']== 'Asiático']['Pressao_Arterial']\n",
    "caucasiano= df_pacientes[df_pacientes['Nome_Etnia']== 'Caucasiano']['Pressao_Arterial']\n",
    "hispanico= df_pacientes[df_pacientes['Nome_Etnia']== 'Hispânico']['Pressao_Arterial']\n",
    "\n",
    "# Aplicar o teste ANOVA\n",
    "F, p= stats.f_oneway(afro_americano, asiatico, caucasiano, hispanico)\n",
    "\n",
    "# Exibir os resultados\n",
    "print(f\"Estatística F: {F}\")\n",
    "print(f\"Valor p: {p}\")\n",
    "\n",
    "alpha_anova=0.05\n",
    "\n",
    "if p < alpha_anova:\n",
    "    print(\"A Hipótese nula H0 é rejeitada, pois as médias de pressão arterial são significativamente diferentes entre os grupos.\")\n",
    "else:\n",
    "    print(\"A Hipótese nula H0 não é rejeitada, pois não há evidências que as médias de pressão arterial sejam diferentes entre os grupos. \\nO que quer dizer que a pressão arterial média é a mesma em todos os grupos étnicos.\")"
   ]
  },
  {
   "cell_type": "markdown",
   "metadata": {},
   "source": [
    "### b.\tExiste uma associação entre a idade dos pacientes e sua pressão arterial?<br>\n",
    "         i.\tHipótese Nula (H0): A idade dos pacientes é independente da pressão arterial.<br>\n",
    "         ii.\tHipótese Alternativa (H1): A idade dos pacientes está associada à sua pressão arterial.<br>"
   ]
  },
  {
   "cell_type": "code",
   "execution_count": 66,
   "metadata": {},
   "outputs": [
    {
     "name": "stdout",
     "output_type": "stream",
     "text": [
      "Idade\n",
      "30    145.015044\n",
      "31    148.390218\n",
      "32    153.864101\n",
      "33    152.756585\n",
      "34    149.209530\n",
      "Name: Pressao_Arterial, dtype: float64\n"
     ]
    },
    {
     "data": {
      "text/plain": [
       "41"
      ]
     },
     "execution_count": 66,
     "metadata": {},
     "output_type": "execute_result"
    }
   ],
   "source": [
    "print(df_pacientes.groupby('Idade')['Pressao_Arterial'].mean().head())\n",
    "\n",
    "len(df_pacientes['Idade'].value_counts())   # São 41 idades diferentes, e algumas idades tem 20 à 34 pessoas com a mesma idade"
   ]
  },
  {
   "cell_type": "markdown",
   "metadata": {},
   "source": [
    "Associar a idade e a pressão arterial é preciso utilizar uma análise de correlação entre as duas variáveis. Nesse caso, o teste mais adequado seria o coeficiente de correlação de Pearson, já que ele mede a força e a direção da relação linear entre variáveis contínuas."
   ]
  },
  {
   "cell_type": "code",
   "execution_count": 67,
   "metadata": {},
   "outputs": [
    {
     "name": "stdout",
     "output_type": "stream",
     "text": [
      "Correlação de Pearson: -0.02138535693464897\n",
      "Valor p: 0.4993608212055468\n",
      "Não há evidências de correlação entre idade e pressão arterial, então não se rejeita H0.\n"
     ]
    }
   ],
   "source": [
    "df_pacientes = df_pacientes.sort_values('Unnamed: 0')\n",
    "\n",
    "correlacao_idade, p_idade_pressao = stats.pearsonr(df_pacientes['Idade'], df_pacientes['Pressao_Arterial'])\n",
    "\n",
    "print(f\"Correlação de Pearson: {correlacao_idade}\")\n",
    "print(f\"Valor p: {p_idade_pressao}\")\n",
    "\n",
    "alpha= 0.05\n",
    "if p_idade_pressao< alpha:\n",
    "    print(\"Há uma correlação significativa entre idade e pressão arterial,então rejeita-se H0.\")\n",
    "else:\n",
    "    print(\"Não há evidências de correlação entre idade e pressão arterial, então não se rejeita H0.\")"
   ]
  },
  {
   "cell_type": "markdown",
   "metadata": {},
   "source": [
    "Como interpretar o valor de Pearson?\n",
    "\n",
    "Coeficiente de correlação de Pearson: O valor pode variar de -1 (correlação negativa perfeita) a 1 (correlação positiva perfeita). Se o valor for próximo de 0, indica pouca ou nenhuma correlação.\n",
    "\n",
    "- r=1: Correlação positiva perfeita (à medida que uma variável aumenta, a outra também aumenta).\n",
    "\n",
    "- r=−1: Correlação negativa perfeita (à medida que uma variável aumenta, a outra diminui).\n",
    "\n",
    "- r=0: Nenhuma correlação linear."
   ]
  },
  {
   "cell_type": "markdown",
   "metadata": {},
   "source": [
    "O valor-p informa a probabilidade de observar essa correlação \"r\" por acaso se a hipótese nula (que afirma que não há correlação) for verdadeira. Se o p-valor for menor que o nível de significância (α, geralmente 0,05), rejeitamos a hipótese nula e aceitamos que existe uma correlação significativa."
   ]
  },
  {
   "cell_type": "markdown",
   "metadata": {},
   "source": [
    "### c.\tHipótese Alternativa (H1): Há uma diferença significativa na pressão arterial média entre pelo menos dois grupos étnicos nesta população."
   ]
  },
  {
   "cell_type": "markdown",
   "metadata": {},
   "source": [
    "Acho que essa questão não é válida, já que foi testado pelo ANOVA na alternativa \"a)\" que não há diferença significativa entre os grupos, ou seja, não há suporte para a hipótese alternativa.\n",
    "\n",
    "Então vou fazer alguns plots aqui"
   ]
  },
  {
   "cell_type": "code",
   "execution_count": 68,
   "metadata": {},
   "outputs": [
    {
     "data": {
      "image/png": "[encoded data removed]",
      "text/plain": [
       "<Figure size 1000x600 with 1 Axes>"
      ]
     },
     "metadata": {},
     "output_type": "display_data"
    }
   ],
   "source": [
    "plt.figure(figsize=(10, 6))\n",
    "sns.boxplot(data=df_pacientes, x='Nome_Etnia', y='Pressao_Arterial', palette='Set3',hue='Nome_Etnia')\n",
    "plt.title('Comparação da Pressão Arterial entre Grupos Étnicos')\n",
    "plt.ylabel('Pressão Arterial')\n",
    "plt.xlabel('Nome Etnia')\n",
    "plt.show()"
   ]
  },
  {
   "cell_type": "code",
   "execution_count": 69,
   "metadata": {},
   "outputs": [
    {
     "data": {
      "image/png": "[encoded data removed]",
      "text/plain": [
       "<Figure size 1200x1000 with 4 Axes>"
      ]
     },
     "metadata": {},
     "output_type": "display_data"
    }
   ],
   "source": [
    "fig, axes = plt.subplots(2, 2, figsize=(12, 10))\n",
    "\n",
    "stats.probplot(afro_americano, dist=\"norm\", plot=axes[0, 0])\n",
    "axes[0, 0].set_title('Q-Q Plot: Afro-americano')\n",
    "\n",
    "stats.probplot(asiatico, dist=\"norm\", plot=axes[0, 1])\n",
    "axes[0, 1].set_title('Q-Q Plot: Asiático')\n",
    "\n",
    "stats.probplot(caucasiano, dist=\"norm\", plot=axes[1, 0])\n",
    "axes[1, 0].set_title('Q-Q Plot: Caucasiano')\n",
    "\n",
    "stats.probplot(hispanico, dist=\"norm\", plot=axes[1, 1])\n",
    "axes[1, 1].set_title('Q-Q Plot: Hispânico')\n",
    "\n",
    "plt.tight_layout()\n",
    "plt.show()"
   ]
  },
  {
   "cell_type": "markdown",
   "metadata": {},
   "source": [
    "# Questão 7\n",
    "7.\tLúcia é uma pesquisadora e tem o objetivo de entender a relação de gênero neste grupo de pacientes. Acredita-se que há uma relação entre o sexo e condições de saúde adicionais. (Teste qui-quadrado)"
   ]
  },
  {
   "cell_type": "code",
   "execution_count": 70,
   "metadata": {},
   "outputs": [
    {
     "data": {
      "text/plain": [
       "Index(['Unnamed: 0', 'Pressao_Arterial', 'Idade', 'Genero', 'Etnia',\n",
       "       'Estado_Saude', 'Nome_Genero', 'Nome_Etnia', 'Nome_Estado_Saude'],\n",
       "      dtype='object')"
      ]
     },
     "execution_count": 70,
     "metadata": {},
     "output_type": "execute_result"
    }
   ],
   "source": [
    "df_pacientes.columns"
   ]
  },
  {
   "cell_type": "markdown",
   "metadata": {},
   "source": [
    "Para fazer o qui-quadrado:\n",
    "\n",
    "Criar Tabela de Contingência: tabela onde as linhas representam as categorias de condições de saúde (com condições vs saudável) e as colunas representam os gêneros (feminino vs masculino).\n",
    "\n",
    "Aí usa o teste qui-quadrado para verificar se há uma relação significativa entre gênero e condições de saúde adicionais."
   ]
  },
  {
   "cell_type": "code",
   "execution_count": 71,
   "metadata": {},
   "outputs": [
    {
     "data": {
      "text/html": [
       "<div>\n",
       "<style scoped>\n",
       "    .dataframe tbody tr th:only-of-type {\n",
       "        vertical-align: middle;\n",
       "    }\n",
       "\n",
       "    .dataframe tbody tr th {\n",
       "        vertical-align: top;\n",
       "    }\n",
       "\n",
       "    .dataframe thead th {\n",
       "        text-align: right;\n",
       "    }\n",
       "</style>\n",
       "<table border=\"1\" class=\"dataframe\">\n",
       "  <thead>\n",
       "    <tr style=\"text-align: right;\">\n",
       "      <th></th>\n",
       "      <th></th>\n",
       "      <th>Unnamed: 0</th>\n",
       "    </tr>\n",
       "    <tr>\n",
       "      <th>Nome_Estado_Saude</th>\n",
       "      <th>Nome_Genero</th>\n",
       "      <th></th>\n",
       "    </tr>\n",
       "  </thead>\n",
       "  <tbody>\n",
       "    <tr>\n",
       "      <th rowspan=\"2\" valign=\"top\">Com condições de saúde adicionais</th>\n",
       "      <th>Feminino</th>\n",
       "      <td>257</td>\n",
       "    </tr>\n",
       "    <tr>\n",
       "      <th>Masculino</th>\n",
       "      <td>253</td>\n",
       "    </tr>\n",
       "    <tr>\n",
       "      <th rowspan=\"2\" valign=\"top\">Saudável</th>\n",
       "      <th>Feminino</th>\n",
       "      <td>246</td>\n",
       "    </tr>\n",
       "    <tr>\n",
       "      <th>Masculino</th>\n",
       "      <td>244</td>\n",
       "    </tr>\n",
       "  </tbody>\n",
       "</table>\n",
       "</div>"
      ],
      "text/plain": [
       "                                               Unnamed: 0\n",
       "Nome_Estado_Saude                 Nome_Genero            \n",
       "Com condições de saúde adicionais Feminino            257\n",
       "                                  Masculino           253\n",
       "Saudável                          Feminino            246\n",
       "                                  Masculino           244"
      ]
     },
     "execution_count": 71,
     "metadata": {},
     "output_type": "execute_result"
    }
   ],
   "source": [
    "df_pacientes[['Nome_Estado_Saude','Nome_Genero','Unnamed: 0']].groupby(['Nome_Estado_Saude','Nome_Genero']).count()"
   ]
  },
  {
   "cell_type": "code",
   "execution_count": 72,
   "metadata": {},
   "outputs": [
    {
     "data": {
      "text/html": [
       "<div>\n",
       "<style scoped>\n",
       "    .dataframe tbody tr th:only-of-type {\n",
       "        vertical-align: middle;\n",
       "    }\n",
       "\n",
       "    .dataframe tbody tr th {\n",
       "        vertical-align: top;\n",
       "    }\n",
       "\n",
       "    .dataframe thead th {\n",
       "        text-align: right;\n",
       "    }\n",
       "</style>\n",
       "<table border=\"1\" class=\"dataframe\">\n",
       "  <thead>\n",
       "    <tr style=\"text-align: right;\">\n",
       "      <th></th>\n",
       "      <th>Unnamed: 0</th>\n",
       "      <th>Pressao_Arterial</th>\n",
       "      <th>Idade</th>\n",
       "      <th>Genero</th>\n",
       "      <th>Etnia</th>\n",
       "      <th>Estado_Saude</th>\n",
       "      <th>Nome_Genero</th>\n",
       "      <th>Nome_Etnia</th>\n",
       "      <th>Nome_Estado_Saude</th>\n",
       "    </tr>\n",
       "  </thead>\n",
       "  <tbody>\n",
       "    <tr>\n",
       "      <th>0</th>\n",
       "      <td>0</td>\n",
       "      <td>142.755809</td>\n",
       "      <td>31</td>\n",
       "      <td>1</td>\n",
       "      <td>1</td>\n",
       "      <td>1</td>\n",
       "      <td>Feminino</td>\n",
       "      <td>Afro-americano</td>\n",
       "      <td>Com condições de saúde adicionais</td>\n",
       "    </tr>\n",
       "    <tr>\n",
       "      <th>1</th>\n",
       "      <td>1</td>\n",
       "      <td>161.878468</td>\n",
       "      <td>35</td>\n",
       "      <td>1</td>\n",
       "      <td>1</td>\n",
       "      <td>0</td>\n",
       "      <td>Feminino</td>\n",
       "      <td>Afro-americano</td>\n",
       "      <td>Saudável</td>\n",
       "    </tr>\n",
       "    <tr>\n",
       "      <th>2</th>\n",
       "      <td>2</td>\n",
       "      <td>161.508259</td>\n",
       "      <td>39</td>\n",
       "      <td>0</td>\n",
       "      <td>3</td>\n",
       "      <td>1</td>\n",
       "      <td>Masculino</td>\n",
       "      <td>Asiático</td>\n",
       "      <td>Com condições de saúde adicionais</td>\n",
       "    </tr>\n",
       "    <tr>\n",
       "      <th>3</th>\n",
       "      <td>3</td>\n",
       "      <td>144.979408</td>\n",
       "      <td>43</td>\n",
       "      <td>1</td>\n",
       "      <td>3</td>\n",
       "      <td>1</td>\n",
       "      <td>Feminino</td>\n",
       "      <td>Asiático</td>\n",
       "      <td>Com condições de saúde adicionais</td>\n",
       "    </tr>\n",
       "    <tr>\n",
       "      <th>4</th>\n",
       "      <td>4</td>\n",
       "      <td>162.502954</td>\n",
       "      <td>55</td>\n",
       "      <td>0</td>\n",
       "      <td>2</td>\n",
       "      <td>1</td>\n",
       "      <td>Masculino</td>\n",
       "      <td>Hispânico</td>\n",
       "      <td>Com condições de saúde adicionais</td>\n",
       "    </tr>\n",
       "  </tbody>\n",
       "</table>\n",
       "</div>"
      ],
      "text/plain": [
       "   Unnamed: 0  Pressao_Arterial  Idade  Genero  Etnia  Estado_Saude  \\\n",
       "0           0        142.755809     31       1      1             1   \n",
       "1           1        161.878468     35       1      1             0   \n",
       "2           2        161.508259     39       0      3             1   \n",
       "3           3        144.979408     43       1      3             1   \n",
       "4           4        162.502954     55       0      2             1   \n",
       "\n",
       "  Nome_Genero      Nome_Etnia                  Nome_Estado_Saude  \n",
       "0    Feminino  Afro-americano  Com condições de saúde adicionais  \n",
       "1    Feminino  Afro-americano                           Saudável  \n",
       "2   Masculino        Asiático  Com condições de saúde adicionais  \n",
       "3    Feminino        Asiático  Com condições de saúde adicionais  \n",
       "4   Masculino       Hispânico  Com condições de saúde adicionais  "
      ]
     },
     "execution_count": 72,
     "metadata": {},
     "output_type": "execute_result"
    }
   ],
   "source": [
    "df_pacientes.head()"
   ]
  },
  {
   "cell_type": "markdown",
   "metadata": {},
   "source": [
    "Existe uma função que gera tabela rapidamente!!! `pd.crosstab`\n",
    "\n",
    "Muito mais rapido de quando eu fiz ela dividindo por saudável e não saudável para amostra e população"
   ]
  },
  {
   "cell_type": "code",
   "execution_count": 73,
   "metadata": {},
   "outputs": [
    {
     "name": "stdout",
     "output_type": "stream",
     "text": [
      "Nome_Genero                        Feminino  Masculino\n",
      "Nome_Estado_Saude                                     \n",
      "Com condições de saúde adicionais       257        253\n",
      "Saudável                                246        244\n"
     ]
    }
   ],
   "source": [
    "tabela_saude_genero= pd.crosstab(df_pacientes['Nome_Estado_Saude'], df_pacientes['Nome_Genero'] )\n",
    "\n",
    "print(tabela_saude_genero)\n"
   ]
  },
  {
   "cell_type": "code",
   "execution_count": 74,
   "metadata": {},
   "outputs": [
    {
     "data": {
      "text/html": [
       "<div>\n",
       "<style scoped>\n",
       "    .dataframe tbody tr th:only-of-type {\n",
       "        vertical-align: middle;\n",
       "    }\n",
       "\n",
       "    .dataframe tbody tr th {\n",
       "        vertical-align: top;\n",
       "    }\n",
       "\n",
       "    .dataframe thead th {\n",
       "        text-align: right;\n",
       "    }\n",
       "</style>\n",
       "<table border=\"1\" class=\"dataframe\">\n",
       "  <thead>\n",
       "    <tr style=\"text-align: right;\">\n",
       "      <th>Nome_Estado_Saude</th>\n",
       "      <th>Com condições de saúde adicionais</th>\n",
       "      <th>Saudável</th>\n",
       "    </tr>\n",
       "    <tr>\n",
       "      <th>Nome_Estado_Saude</th>\n",
       "      <th></th>\n",
       "      <th></th>\n",
       "    </tr>\n",
       "  </thead>\n",
       "  <tbody>\n",
       "    <tr>\n",
       "      <th>Com condições de saúde adicionais</th>\n",
       "      <td>19</td>\n",
       "      <td>0</td>\n",
       "    </tr>\n",
       "    <tr>\n",
       "      <th>Saudável</th>\n",
       "      <td>0</td>\n",
       "      <td>25</td>\n",
       "    </tr>\n",
       "  </tbody>\n",
       "</table>\n",
       "</div>"
      ],
      "text/plain": [
       "Nome_Estado_Saude                  Com condições de saúde adicionais  Saudável\n",
       "Nome_Estado_Saude                                                             \n",
       "Com condições de saúde adicionais                                 19         0\n",
       "Saudável                                                           0        25"
      ]
     },
     "execution_count": 74,
     "metadata": {},
     "output_type": "execute_result"
    }
   ],
   "source": [
    "pd.crosstab(df_pacientes['Nome_Estado_Saude'],amostra_pacientes['Nome_Estado_Saude'])"
   ]
  },
  {
   "cell_type": "markdown",
   "metadata": {},
   "source": [
    "Muito mais fácil fazendo com a função do que como foi realizado aqui embaixo:"
   ]
  },
  {
   "cell_type": "code",
   "execution_count": 75,
   "metadata": {},
   "outputs": [
    {
     "data": {
      "text/html": [
       "<div>\n",
       "<style scoped>\n",
       "    .dataframe tbody tr th:only-of-type {\n",
       "        vertical-align: middle;\n",
       "    }\n",
       "\n",
       "    .dataframe tbody tr th {\n",
       "        vertical-align: top;\n",
       "    }\n",
       "\n",
       "    .dataframe thead th {\n",
       "        text-align: right;\n",
       "    }\n",
       "</style>\n",
       "<table border=\"1\" class=\"dataframe\">\n",
       "  <thead>\n",
       "    <tr style=\"text-align: right;\">\n",
       "      <th></th>\n",
       "      <th>Feminino</th>\n",
       "      <th>Masculino</th>\n",
       "    </tr>\n",
       "  </thead>\n",
       "  <tbody>\n",
       "    <tr>\n",
       "      <th>Com Condições de Saúde</th>\n",
       "      <td>257</td>\n",
       "      <td>253</td>\n",
       "    </tr>\n",
       "    <tr>\n",
       "      <th>Saudáveis</th>\n",
       "      <td>246</td>\n",
       "      <td>244</td>\n",
       "    </tr>\n",
       "  </tbody>\n",
       "</table>\n",
       "</div>"
      ],
      "text/plain": [
       "                        Feminino  Masculino\n",
       "Com Condições de Saúde       257        253\n",
       "Saudáveis                    246        244"
      ]
     },
     "execution_count": 75,
     "metadata": {},
     "output_type": "execute_result"
    }
   ],
   "source": [
    "observados = pd.DataFrame({\n",
    "    'Feminino': [len(df_pacientes[(df_pacientes['Nome_Genero']=='Feminino') & (df_pacientes['Estado_Saude']==1)]), len(df_pacientes[(df_pacientes['Nome_Genero']=='Feminino') & (df_pacientes['Estado_Saude']==0)])],\n",
    "    'Masculino': [len(df_pacientes[(df_pacientes['Nome_Genero']=='Masculino') & (df_pacientes['Estado_Saude']==1)]), len(df_pacientes[(df_pacientes['Nome_Genero']=='Masculino') & (df_pacientes['Estado_Saude']==0)])]\n",
    "}, index=['Com Condições de Saúde', 'Saudáveis'])\n",
    "observados"
   ]
  },
  {
   "cell_type": "code",
   "execution_count": 76,
   "metadata": {},
   "outputs": [
    {
     "name": "stdout",
     "output_type": "stream",
     "text": [
      "Qui-quadrado: 0.0\n",
      "Valor p: 1.0\n",
      "Graus de liberdade: 1\n",
      "Tabela esperada:\n",
      "[[256.53 253.47]\n",
      " [246.47 243.53]]\n",
      "Não há evidências de correlação entre condição de saúde e gênero, então não se rejeita H0.\n"
     ]
    }
   ],
   "source": [
    "\n",
    "from scipy.stats import chi2_contingency\n",
    "\n",
    "chi2, p_saude_genero, grau, freq_esperado= chi2_contingency(tabela_saude_genero)\n",
    "\n",
    "print(f\"Qui-quadrado: {chi2}\")\n",
    "print(f\"Valor p: {p_saude_genero}\")\n",
    "print(f\"Graus de liberdade: {grau}\")\n",
    "print(\"Tabela esperada:\")\n",
    "print(freq_esperado)\n",
    "\n",
    "alpha= 0.05\n",
    "if p_saude_genero< alpha:\n",
    "    print(\"Há uma correlação significativa entre condição de saúde e gênero,então rejeita-se H0.\")\n",
    "else:\n",
    "    print(\"Não há evidências de correlação entre condição de saúde e gênero, então não se rejeita H0.\")"
   ]
  },
  {
   "cell_type": "markdown",
   "metadata": {},
   "source": [
    "# Questão 8 \n",
    "8.\tQual é o intervalo de confiança para a média da pressão arterial entre os pacientes com condições de saúde adicionais? (nível de confiança 95%)"
   ]
  },
  {
   "cell_type": "code",
   "execution_count": 77,
   "metadata": {},
   "outputs": [],
   "source": [
    "desviopadrao = df_condicoes_saude['Pressao_Arterial'].std()\n",
    "media = df_condicoes_saude['Pressao_Arterial'].mean()"
   ]
  },
  {
   "cell_type": "code",
   "execution_count": 78,
   "metadata": {},
   "outputs": [
    {
     "name": "stdout",
     "output_type": "stream",
     "text": [
      "Média: 150.12\n",
      "Intervalo de confiança: \n",
      "(129.8705879067565, 170.3663159835586)\n"
     ]
    }
   ],
   "source": [
    "conf_int = stats.norm.interval(0.95, loc=media, scale=desviopadrao)\n",
    "print(f\"Média: {media:,.2f}\")\n",
    "print(\"Intervalo de confiança: \")\n",
    "print(conf_int)"
   ]
  },
  {
   "cell_type": "markdown",
   "metadata": {},
   "source": [
    "# Questão 9\n",
    "9.\tA distribuição da pressão arterial na população segue uma distribuição normal?<br>\n",
    "a.\tHipótese Nula (H0): A distribuição da pressão arterial na população segue uma distribuição normal.<br>\n",
    "b.\tHipótese Alternativa (H1): A distribuição da pressão arterial na população não segue uma distribuição normal.\n",
    "\n"
   ]
  },
  {
   "cell_type": "code",
   "execution_count": 79,
   "metadata": {},
   "outputs": [
    {
     "name": "stdout",
     "output_type": "stream",
     "text": [
      "Estatística K-S: 0.02051963188317471\n",
      "Valor p: 0.7856894546948019\n",
      "A Hipótese nula H0 não é rejeitada, a distribuição da pressão arterial segue uma distribuição normal.\n"
     ]
    }
   ],
   "source": [
    "pressao_arterial = df_pacientes['Pressao_Arterial']\n",
    "\n",
    "ks, p_ks = stats.kstest(pressao_arterial, 'norm', args=(pressao_arterial.mean(), pressao_arterial.std()))\n",
    "\n",
    "print(f\"Estatística K-S: {ks}\")\n",
    "print(f\"Valor p: {p_ks}\")\n",
    "\n",
    "# Nível de significância\n",
    "alpha = 0.05\n",
    "\n",
    "if p_ks < alpha:\n",
    "    print(\"A Hipótese nula H0 é rejeitada, indicando que a distribuição da pressão arterial não segue uma distribuição normal.\")\n",
    "else:\n",
    "    print(\"A Hipótese nula H0 não é rejeitada, a distribuição da pressão arterial segue uma distribuição normal.\")"
   ]
  }
 ],
 "metadata": {
  "kernelspec": {
   "display_name": "Python 3",
   "language": "python",
   "name": "python3"
  },
  "language_info": {
   "codemirror_mode": {
    "name": "ipython",
    "version": 3
   },
   "file_extension": ".py",
   "mimetype": "text/x-python",
   "name": "python",
   "nbconvert_exporter": "python",
   "pygments_lexer": "ipython3",
   "version": "3.12.2"
  }
 },
 "nbformat": 4,
 "nbformat_minor": 2
}
